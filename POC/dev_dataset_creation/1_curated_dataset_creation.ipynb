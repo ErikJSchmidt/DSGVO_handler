{
 "cells": [
  {
   "cell_type": "code",
   "execution_count": 1,
   "outputs": [],
   "source": [
    "import pandas as pd\n",
    "import json\n",
    "from pathlib import Path\n",
    "from selenium import webdriver\n",
    "from webdriver_manager.chrome import ChromeDriverManager\n",
    "from selenium.webdriver.chrome.service import Service as ChromeService\n",
    "\n",
    "from curated_dataset_creation_helpers import create_subfolder_for_sample, open_sample_website_and_extract_html, create_empty_GDPR_files"
   ],
   "metadata": {
    "collapsed": false,
    "ExecuteTime": {
     "end_time": "2023-11-09T19:23:56.381977866Z",
     "start_time": "2023-11-09T19:23:56.017328737Z"
    }
   }
  },
  {
   "cell_type": "markdown",
   "source": [
    "# Load config"
   ],
   "metadata": {
    "collapsed": false
   }
  },
  {
   "cell_type": "code",
   "execution_count": 2,
   "outputs": [],
   "source": [
    "# Load config for dev dataset creation process\n",
    "config_file = open(f\"{str(Path.cwd())}/dev_dataset_creation_config.json\")\n",
    "config = json.load(config_file)\n",
    "config_file.close()"
   ],
   "metadata": {
    "collapsed": false,
    "ExecuteTime": {
     "end_time": "2023-11-09T19:24:04.173441195Z",
     "start_time": "2023-11-09T19:24:04.159461504Z"
    }
   }
  },
  {
   "cell_type": "markdown",
   "source": [
    "# Load seeds\n",
    "Load the table of seed websites. The urls will be used in the next sections of this notebook."
   ],
   "metadata": {
    "collapsed": false
   }
  },
  {
   "cell_type": "code",
   "execution_count": 3,
   "outputs": [],
   "source": [
    "# Load tabel of all seed websites\n",
    "file = pd.ExcelFile(f\"{config['input_data_path']}/companies_enc.xlsx\")\n",
    "seeds = pd.read_excel(file, 'Companies')"
   ],
   "metadata": {
    "collapsed": false
   }
  },
  {
   "cell_type": "markdown",
   "source": [
    "# Set up Selenium"
   ],
   "metadata": {
    "collapsed": false
   }
  },
  {
   "cell_type": "code",
   "execution_count": 4,
   "outputs": [],
   "source": [
    "service = ChromeService(executable_path=ChromeDriverManager().install())\n",
    "driver = webdriver.Chrome(service=service)\n",
    "driver.set_page_load_timeout(10)"
   ],
   "metadata": {
    "collapsed": false
   }
  },
  {
   "cell_type": "markdown",
   "source": [
    "# Inspect websites and populate dev dataset\n",
    "- Set index to 0-based index of row in seeds you want to inspect and add to the dev dataset\n",
    "- create a subfolder in the dev_dataset directory for that sample\n",
    "- open the website and store its html inside the created subfolder\n",
    "- extract GDPR contents if given"
   ],
   "metadata": {
    "collapsed": false
   }
  },
  {
   "cell_type": "markdown",
   "source": [
    "140, 105"
   ],
   "metadata": {
    "collapsed": false
   }
  },
  {
   "cell_type": "code",
   "execution_count": 8,
   "outputs": [],
   "source": [
    "seed_website_index = 105"
   ],
   "metadata": {
    "collapsed": false
   }
  },
  {
   "cell_type": "code",
   "execution_count": 9,
   "outputs": [
    {
     "name": "stdout",
     "output_type": "stream",
     "text": [
      "[Errno 17] File exists: '/home/erik/Desktop/WiSe2022_23/IR-Project/dsgvo_handler/refactored/data/dev_dataset/105'\n"
     ]
    }
   ],
   "source": [
    "create_subfolder_for_sample(config, sample_index=seed_website_index)\n",
    "open_sample_website_and_extract_html(\n",
    "    config,\n",
    "    seeds,\n",
    "    driver,\n",
    "    sample_index=seed_website_index\n",
    ")"
   ],
   "metadata": {
    "collapsed": false
   }
  },
  {
   "cell_type": "markdown",
   "source": [
    "Now the website is opened on the browser. If there is GDPR content visible continue with next steps, if not increment index and go on with next website in the list."
   ],
   "metadata": {
    "collapsed": false
   }
  },
  {
   "cell_type": "code",
   "execution_count": 10,
   "outputs": [],
   "source": [
    "create_empty_GDPR_files(config, sample_index=seed_website_index)"
   ],
   "metadata": {
    "collapsed": false
   }
  },
  {
   "cell_type": "markdown",
   "source": [
    "Now the files \"page_source_cleaned\" and \"page_source_removed.html\" were created in the subfolder of the currently opened website. Use browser dev tools(*) to copy the html of the GDPR element into \"page_source_removed.html\" and copy the websites total html without the removed GDPR element to \"page_source_cleaned\". After that you're done with this website. Increment the index and go on with next website in the list."
   ],
   "metadata": {
    "collapsed": false
   }
  },
  {
   "cell_type": "markdown",
   "source": [
    "(*) How I used Google Chrome Dev tools for this:\n",
    "- Open dev tools with **ctrl** + **I**\n",
    "- Click the selector button in the dev tools window upper left corner (frame with curser icon)\n",
    "- Click the GDPR element in the website. Now the corresponding html div is highlighted.\n",
    "- Go up in the DOM tree to catch all html that wraps the GDPR content and has no other content.\n",
    "- Right click \"Edit as HTML\" on the most outer div\n",
    "- **ctrl** + **A** to select everything inside div\n",
    "- **Ctrl** + **C** and past to \"page_source_removed.html\"\n",
    "- **backspace** to remove div\n",
    "- Right click \"Edit as HTML\" on the root html node\n",
    "- **ctrl** + **A** to select everything inside html\n",
    "- **Ctrl** + **C** and past to \"page_source_cleaned\""
   ],
   "metadata": {
    "collapsed": false
   }
  },
  {
   "cell_type": "markdown",
   "source": [
    "# After manual dev dataset population\n",
    "Run the notebook 2_automated_dataset_completion.ipynb once you're done with manually adding sample to the dev dataset. That notebook will enrich the dataset with each website's plain texts and language as well as storing the according urls."
   ],
   "metadata": {
    "collapsed": false
   }
  }
 ],
 "metadata": {
  "kernelspec": {
   "display_name": "Python 3",
   "language": "python",
   "name": "python3"
  },
  "language_info": {
   "codemirror_mode": {
    "name": "ipython",
    "version": 2
   },
   "file_extension": ".py",
   "mimetype": "text/x-python",
   "name": "python",
   "nbconvert_exporter": "python",
   "pygments_lexer": "ipython2",
   "version": "2.7.6"
  }
 },
 "nbformat": 4,
 "nbformat_minor": 0
}
