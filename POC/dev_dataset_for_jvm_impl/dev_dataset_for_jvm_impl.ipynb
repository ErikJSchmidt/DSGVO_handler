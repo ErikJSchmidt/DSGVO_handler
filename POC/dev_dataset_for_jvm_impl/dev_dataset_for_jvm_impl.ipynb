{
 "cells": [
  {
   "cell_type": "markdown",
   "source": [
    "## Prepare data from experiements in Python to be used in Java Implementation of the DSGVO Handler"
   ],
   "metadata": {
    "collapsed": false
   }
  },
  {
   "cell_type": "code",
   "execution_count": 1,
   "outputs": [],
   "source": [
    "from GDPRDataset import GDPRDataset\n",
    "import json\n",
    "from pathlib import Path\n",
    "import random\n",
    "from nltk.corpus import stopwords\n",
    "from sklearn.feature_extraction.text import TfidfVectorizer\n",
    "import numpy as np"
   ],
   "metadata": {
    "collapsed": false
   }
  },
  {
   "cell_type": "markdown",
   "source": [
    "# Load Config"
   ],
   "metadata": {
    "collapsed": false
   }
  },
  {
   "cell_type": "code",
   "execution_count": 2,
   "outputs": [],
   "source": [
    "# Load config for dev dataset creation process\n",
    "config_file = open(f\"{str(Path.cwd())}/dev_dataset_for_jvm_impl_config.json\")\n",
    "config = json.load(config_file)\n",
    "config_file.close()"
   ],
   "metadata": {
    "collapsed": false
   }
  },
  {
   "cell_type": "markdown",
   "source": [
    "### Export list of documents to fit TF-IDF Vectorizer on\n",
    "Only use websites from training set to fit the vectorizer\n"
   ],
   "metadata": {
    "collapsed": false
   }
  },
  {
   "cell_type": "code",
   "execution_count": 6,
   "outputs": [],
   "source": [
    "fit_tfidf_documents_df = GDPRDataset(dataset_dir=config['train_dataset_path']).dataframe"
   ],
   "metadata": {
    "collapsed": false
   }
  },
  {
   "cell_type": "code",
   "execution_count": 7,
   "outputs": [],
   "source": [
    "fit_tfidf_documents = list(fit_tfidf_documents_df['content'].values)"
   ],
   "metadata": {
    "collapsed": false
   }
  },
  {
   "cell_type": "code",
   "execution_count": 10,
   "outputs": [],
   "source": [
    "with open(config['jvm_fit_tfidf_documents_path'], 'w+') as f:\n",
    "    json.dump({\n",
    "        'documents':fit_tfidf_documents\n",
    "    },f)"
   ],
   "metadata": {
    "collapsed": false
   }
  },
  {
   "cell_type": "markdown",
   "source": [
    "### Export list of SVM training samples\n",
    "Samples are pairs String to Boolean. Only use websites from training set for svm training.\n",
    "Just use the json for svm training as created in svm_training_set_creation"
   ],
   "metadata": {
    "collapsed": false
   }
  },
  {
   "cell_type": "code",
   "execution_count": 13,
   "outputs": [],
   "source": [
    "with open(config['svm_training_set_v1_path'], 'r') as f_in:\n",
    "    svm_training_data = json.load(f_in)\n",
    "\n",
    "    with open(config['jvm_fit_svm_training_data_path'], 'w+') as f_out:\n",
    "        json.dump(svm_training_data,f_out)"
   ],
   "metadata": {
    "collapsed": false
   }
  },
  {
   "cell_type": "markdown",
   "source": [
    "I need to check if the java svm is not working or if the problem is the TfIdf vectors. So I export the vecotirzed SVM training set"
   ],
   "metadata": {
    "collapsed": false
   }
  },
  {
   "cell_type": "code",
   "execution_count": 29,
   "outputs": [
    {
     "ename": "AttributeError",
     "evalue": "'TfidfVectorizer' object has no attribute 'vocabulary_'",
     "output_type": "error",
     "traceback": [
      "\u001B[0;31m---------------------------------------------------------------------------\u001B[0m",
      "\u001B[0;31mAttributeError\u001B[0m                            Traceback (most recent call last)",
      "Cell \u001B[0;32mIn[29], line 8\u001B[0m\n\u001B[1;32m      6\u001B[0m german_stop_words \u001B[38;5;241m=\u001B[39m stopwords\u001B[38;5;241m.\u001B[39mwords(\u001B[38;5;124m'\u001B[39m\u001B[38;5;124mgerman\u001B[39m\u001B[38;5;124m'\u001B[39m)\n\u001B[1;32m      7\u001B[0m tfidf_vectorizer \u001B[38;5;241m=\u001B[39m TfidfVectorizer(analyzer\u001B[38;5;241m=\u001B[39m\u001B[38;5;124m'\u001B[39m\u001B[38;5;124mword\u001B[39m\u001B[38;5;124m'\u001B[39m, stop_words\u001B[38;5;241m=\u001B[39mgerman_stop_words)\n\u001B[0;32m----> 8\u001B[0m vocab \u001B[38;5;241m=\u001B[39m \u001B[43mtfidf_vectorizer\u001B[49m\u001B[38;5;241;43m.\u001B[39;49m\u001B[43mvocabulary_\u001B[49m\n\u001B[1;32m     10\u001B[0m training_texts \u001B[38;5;241m=\u001B[39m [svm_training_data[\u001B[38;5;124m'\u001B[39m\u001B[38;5;124mtext\u001B[39m\u001B[38;5;124m'\u001B[39m][i] \u001B[38;5;28;01mfor\u001B[39;00m i \u001B[38;5;129;01min\u001B[39;00m svm_training_data[\u001B[38;5;124m'\u001B[39m\u001B[38;5;124mtext\u001B[39m\u001B[38;5;124m'\u001B[39m]\u001B[38;5;241m.\u001B[39mkeys()]\n\u001B[1;32m     11\u001B[0m vecs \u001B[38;5;241m=\u001B[39m tfidf_vectorizer\u001B[38;5;241m.\u001B[39mfit_transform(training_texts)\n",
      "\u001B[0;31mAttributeError\u001B[0m: 'TfidfVectorizer' object has no attribute 'vocabulary_'"
     ]
    }
   ],
   "source": [
    "svm_training_data = None\n",
    "with open(config['svm_training_set_v1_path'], 'r') as f_in:\n",
    "    svm_training_data = json.load(f_in)\n",
    "\n",
    "# vectorize\n",
    "german_stop_words = stopwords.words('german')\n",
    "tfidf_vectorizer = TfidfVectorizer(analyzer='word', stop_words=german_stop_words)\n",
    "vocab = tfidf_vectorizer.vocabulary\n",
    "\n",
    "training_texts = [svm_training_data['text'][i] for i in svm_training_data['text'].keys()]\n",
    "vecs = tfidf_vectorizer.fit_transform(training_texts)"
   ],
   "metadata": {
    "collapsed": false
   }
  },
  {
   "cell_type": "code",
   "execution_count": 25,
   "outputs": [],
   "source": [
    "vectors = []\n",
    "for text in training_texts:\n",
    "    vectors.append(tfidf_vectorizer.transform([text])[0].toarray()[0].tolist())"
   ],
   "metadata": {
    "collapsed": false
   }
  },
  {
   "cell_type": "code",
   "execution_count": 26,
   "outputs": [],
   "source": [
    "\n",
    "with open(config['jvm_fit_svm_training_data_vec_path'], 'w+') as f_out:\n",
    "    json.dump({\"tfidf_vectors\": vectors},f_out)"
   ],
   "metadata": {
    "collapsed": false
   }
  },
  {
   "cell_type": "code",
   "execution_count": 27,
   "outputs": [
    {
     "name": "stdout",
     "output_type": "stream",
     "text": [
      "2.71961105959526\n",
      "8.419630912559642\n",
      "4.525580350695929\n",
      "9.322955143655584\n",
      "13.760945660923344\n",
      "8.54515536130653\n",
      "7.958315926483226\n",
      "5.983214201308089\n",
      "10.994325475188576\n",
      "7.5825783196729635\n",
      "3.015993890422198\n",
      "2.8965385613439616\n",
      "5.249610213069992\n",
      "5.96578337239758\n",
      "3.10604821816086\n",
      "8.312495181902062\n",
      "3.600015280667246\n",
      "5.249610213069992\n",
      "5.593533685538785\n",
      "3.2194873204141135\n",
      "8.603377631878399\n",
      "5.13952597990277\n",
      "10.344539847591946\n",
      "9.35358103521697\n",
      "3.576876721650729\n",
      "4.547532200398576\n",
      "4.357657376695433\n",
      "9.588722979765631\n",
      "10.207894543368475\n",
      "3.0487233320389895\n",
      "4.544373379662849\n",
      "8.571245216758099\n",
      "5.757702885813106\n",
      "8.675251567603887\n",
      "6.167777304436728\n",
      "2.0294933983000853\n",
      "8.519916417647014\n",
      "4.5527084270353\n",
      "8.688927229686197\n",
      "5.217672262097688\n",
      "8.73510919012003\n",
      "11.46513224003783\n",
      "8.908837916510944\n",
      "4.8725167963933735\n",
      "5.4563222141185035\n",
      "7.382154117214036\n",
      "8.643723188535045\n",
      "4.721838052283233\n",
      "7.933465640953882\n",
      "8.665523634658795\n",
      "3.132088980958481\n",
      "9.976547099440236\n",
      "8.609549119848133\n",
      "7.10901914752775\n",
      "8.818908089233886\n",
      "8.25744730194884\n",
      "5.6743202466554985\n",
      "4.673200396493453\n",
      "4.357657376695433\n",
      "6.578475718856496\n",
      "8.51462380274923\n",
      "9.97846583275272\n",
      "7.010760521899943\n",
      "8.51462380274923\n",
      "4.3583057138742785\n",
      "7.263321659777126\n",
      "4.925591667847635\n",
      "9.041601171870042\n",
      "11.093343879591117\n",
      "8.701700678631203\n",
      "3.604074763965145\n",
      "4.357657376695433\n",
      "5.055035229396269\n",
      "6.883093813457958\n",
      "8.266880041317425\n",
      "3.5388207185831786\n",
      "4.0962751060556615\n",
      "3.88489112168355\n",
      "2.603037755487743\n",
      "3.9025364810651055\n",
      "5.757702885813106\n",
      "10.020162128652878\n",
      "4.840306999349169\n",
      "4.693972874519332\n",
      "7.9111126284125906\n",
      "7.24053112118333\n",
      "6.592889238608107\n",
      "10.60617098173149\n",
      "5.47199819325401\n",
      "8.571245216758099\n",
      "3.0133262743097307\n",
      "5.640901142419417\n",
      "6.007755790699525\n",
      "2.5366089959866076\n",
      "4.357657376695433\n",
      "10.055043511869941\n",
      "3.984289732657528\n",
      "2.725568958478782\n",
      "9.6044447632742\n",
      "11.578743852459148\n",
      "7.301569541708969\n",
      "3.303710719339986\n",
      "9.676902855428764\n",
      "9.73330234556413\n",
      "11.027859840578511\n",
      "4.357657376695433\n",
      "4.721838052283233\n",
      "3.805495416581844\n",
      "8.859837268320577\n",
      "4.101336205939875\n",
      "3.1951266133464618\n",
      "3.7737142880607504\n",
      "9.317946605316173\n",
      "9.614612756998241\n",
      "3.6423423516313314\n",
      "9.53722633570123\n",
      "12.489423761926856\n",
      "3.8088960814468606\n",
      "7.288755872088855\n",
      "9.708056807584892\n",
      "7.617822698653612\n",
      "3.9082970256435217\n",
      "2.71488251732871\n",
      "12.762649320694022\n",
      "14.14156442062618\n",
      "12.180250639093058\n",
      "6.498829939880588\n",
      "2.341125784349062\n",
      "3.6778475925399725\n",
      "10.524276176644873\n",
      "4.811594236125019\n",
      "7.334718662235353\n",
      "8.045386247365272\n",
      "7.0674515908194255\n",
      "1.7304308074322226\n",
      "8.104262665927415\n",
      "4.190590498764111\n",
      "4.518105283043729\n",
      "9.444189722966529\n",
      "12.785890247916406\n",
      "12.678463457399964\n",
      "11.62173252360968\n",
      "5.812580714029418\n",
      "3.5976999357717823\n",
      "8.308930854481925\n",
      "2.993358340261839\n",
      "5.015874692092952\n",
      "7.896883761554762\n",
      "2.182580281412682\n",
      "8.782796090674717\n",
      "13.122169443927616\n",
      "7.733453471136221\n",
      "6.5268533250443\n",
      "19.239982609095712\n",
      "13.763413812879726\n",
      "11.307503377871686\n",
      "10.751642398643721\n",
      "18.668624857631627\n",
      "12.858811461570937\n",
      "2.3868301643418084\n",
      "8.076475397332205\n",
      "3.2199183236578515\n",
      "10.39766819242058\n",
      "11.532663470285101\n",
      "3.6296571676170237\n",
      "5.4136341152125045\n",
      "2.7450532136802868\n",
      "6.349921222294144\n",
      "10.667383451151535\n",
      "7.96035483813273\n",
      "8.986274232965556\n",
      "13.600799576594689\n",
      "9.572385047250174\n",
      "18.802303884987136\n",
      "5.575964119362399\n",
      "8.403045694597836\n",
      "2.7578332679294224\n",
      "10.922558015446713\n",
      "8.199287801168817\n",
      "2.7782094010996565\n",
      "11.407916353267726\n",
      "11.379039020612609\n",
      "5.070795169494731\n",
      "7.034957135875204\n",
      "5.114977770169105\n",
      "1.4054715192829745\n",
      "3.4645641884314737\n",
      "11.583944507098009\n",
      "8.369905830438356\n",
      "13.195739570563985\n",
      "21.619609972719907\n",
      "12.555019181196194\n",
      "12.554938783024014\n",
      "4.484041383882032\n",
      "3.273086961526653\n",
      "15.811152763537669\n",
      "10.276930782293595\n",
      "13.679981739554723\n",
      "8.689688111164234\n",
      "5.880946483780136\n",
      "7.709265600288899\n",
      "12.02440959346645\n",
      "4.196174646561204\n",
      "7.4223757904155985\n",
      "2.656760691311159\n",
      "11.54233804658052\n",
      "9.584846323585014\n",
      "11.675886190146242\n",
      "13.62557302337772\n",
      "11.092079472588145\n",
      "7.808045306815737\n",
      "2.185915468777651\n",
      "3.07639587543404\n",
      "15.24664245421085\n",
      "1.9461891560180142\n",
      "8.76601751030432\n",
      "4.900913066090671\n",
      "7.5155360576294346\n",
      "11.028498372464737\n",
      "9.104257602348566\n",
      "9.131442204607133\n",
      "7.340876756595023\n",
      "12.17405550901816\n",
      "13.583291850149415\n",
      "3.94718596353284\n",
      "7.9154459949232105\n",
      "3.608843517394296\n",
      "8.837430644324403\n",
      "9.822585838263386\n",
      "3.8754357584017773\n",
      "2.5020828993075006\n",
      "13.628063576764188\n",
      "6.96943946358604\n",
      "3.6450535743477928\n",
      "11.595489834104853\n",
      "14.246592622912944\n",
      "9.94016720896834\n",
      "3.6435607386904008\n",
      "4.428434985809632\n",
      "7.732152635753088\n",
      "7.581273731229006\n",
      "1.6476501795154166\n",
      "6.072028747125839\n",
      "5.587367454686014\n",
      "9.100228030713648\n",
      "10.174467452382952\n",
      "8.762415616339414\n",
      "4.379800393671\n",
      "10.645703561968999\n",
      "2.899105124347283\n"
     ]
    }
   ],
   "source": [
    "for vec in vectors:\n",
    "    print(np.sum(vec))"
   ],
   "metadata": {
    "collapsed": false
   }
  },
  {
   "cell_type": "code",
   "execution_count": 30,
   "outputs": [
    {
     "name": "stdout",
     "output_type": "stream",
     "text": [
      "  (0, 14)\t0.6227660078332259\n",
      "  (0, 12)\t0.4736296010332684\n",
      "  (0, 3)\t0.6227660078332259\n",
      "  (1, 14)\t0.8467889668239188\n",
      "  (1, 12)\t0.3220024178194947\n",
      "  (1, 3)\t0.4233944834119594\n"
     ]
    }
   ],
   "source": [
    "german_stop_words = stopwords.words('german')\n",
    "tfidf_vectorizer = TfidfVectorizer(analyzer='word', stop_words=german_stop_words)\n",
    "tfidf_vectorizer.fit([\n",
    "    \"Klettern ist die Bewegung in der Vertikalen mithilfe der Beine, Arme und Hände entlang von Kletterrouten\",\n",
    "    \"Klettern ist eine vom Menschen seit jeher angewandte Fortbewegungsart in der vertikalen Ebene.\",\n",
    "    \"Im Mittelalter bekamen Felsen eine zunehmende strategische Bedeutung.\"\n",
    "])\n",
    "\n",
    "print(tfidf_vectorizer.transform([\n",
    "    \"Klettern Menschen Beine\",\n",
    "    \"Menschen Beine Klettern Menschen\"\n",
    "]))"
   ],
   "metadata": {
    "collapsed": false
   }
  },
  {
   "cell_type": "markdown",
   "source": [
    "## Export test dataset as json file"
   ],
   "metadata": {
    "collapsed": false
   }
  },
  {
   "cell_type": "code",
   "execution_count": 3,
   "outputs": [],
   "source": [
    "test_dataset_df = GDPRDataset(config[\"test_dataset_path\"]).dataframe"
   ],
   "metadata": {
    "collapsed": false
   }
  },
  {
   "cell_type": "code",
   "execution_count": 9,
   "outputs": [],
   "source": [
    "test_dataset_df.to_json(\n",
    "    path_or_buf=config[\"jvm_test_dataset_path\"],\n",
    "    orient=\"records\")"
   ],
   "metadata": {
    "collapsed": false
   }
  },
  {
   "cell_type": "code",
   "execution_count": 10,
   "outputs": [],
   "source": [
    "jvm_test_dataset_json = json.load(open(config[\"jvm_test_dataset_path\"]))"
   ],
   "metadata": {
    "collapsed": false
   }
  },
  {
   "cell_type": "code",
   "execution_count": 11,
   "outputs": [
    {
     "name": "stdout",
     "output_type": "stream",
     "text": [
      "  Bitte aktivieren Sie Javascript zur vollständigen Anzeige aller Funktionen dieser Seite.            Software-Entwicklung    Web-Entwicklung    App-Entwicklung      Unser Angebot     Renovierung Ihrer Java / Java EE-Anwendung     Sie stellen die Fragen - wir geben die Antworten     App-Check      Karriere    Softwareentwickler/-in Java    Softwareentwickler/-in Vue.js      Softceed    Referenzen    Über uns                       Wir kreieren & realisieren digitale Produkte  Software-Entwicklung | Unternehmenskritische Anwendungen | Mobile Anwendungen       Experten im Bereich Java  Java | Java EE | Cloud  Mehr erfahren       Praxiserfahren & kompetent  Referenzen  Mehr erfahren       Previous     Next      Softceed GmbH  Wir kreieren und realisieren digitale Produkte: mobile Anwendungen & Webanwendungen  Softceed entwickelt seit über 15 Jahren hochwertige Individualsoftware in den Bereichen Mobile und Web.      Unsere Leistungen  Alles aus einer Hand: Konzeption, Design, Entwicklung, Betrieb.            Web-Entwicklung        Web-Entwicklung   Webanwendungen, Websites, Content Mangement (CMS), Suchmaschinen (SEO)   Weiterlesen               App-Entwicklung        App-Entwicklung   iOS & Android   Weiterlesen             Lernen Sie uns kennen         Sie stellen die Fragen – wir geben die Antworten  Sie haben zwar eine Idee, aber auch noch die ein oder andere Frage zur Umsetzung.  Weiterlesen         Renovierung Ihrer Java EE-Anwendung  Sie haben eine Anwendung, die schon vor längerer Zeit entwickelt wurde und wünschen sich einen Technologie-Upgrade?  Weiterlesen         App-Check für iOS & Android  Ihre App ist im Store und Sie sind noch nicht ganz zufrieden?  Weiterlesen           Referenzen        Alle   |   Apps   |   Webanwendungen           CPR Team Leader             Schoolinformer             2 BBL Apps             Mobile App für WLW – Würzburger Lehrgangswerk             Friedrichshafen Apps             CardioCoach             e-Bürgerdialog             Mobile App für Steuerungssysteme             De-Mail             EasyCredit BBL Apps             Homepage CIO Baden-Württemberg             Brose Bamberg Apps             anpfiff.info             Connected Car                    209  Monate Erfahrung Java-Entwicklung         108  Monate Erfahrung App-Entwicklung         196  Monate Erfahrung Web-Entwicklung          Kontakt  Sie interessieren sich für unsere Lösungen und Dienstleistungen? Sie haben Fragen oder Anregungen?   Web-Entwicklung    App-Entwicklung        Technologien                                                           Anschrift  Softceed GmbH  Kronacher Str. 41  96052 Bamberg  +49 (0951) 9649 - 400   info@softceed.de    Software-Entwicklung   Mobile Apps    Webentwicklung     Kompetenzen   Cloud    Java / JavaEE     Softceed   Datenschutzerklärung    Impressum    Kontakt       © 2023 Softceed GmbH    \n"
     ]
    }
   ],
   "source": [
    "print(jvm_test_dataset_json[3][\"content\"])"
   ],
   "metadata": {
    "collapsed": false
   }
  },
  {
   "cell_type": "code",
   "execution_count": null,
   "outputs": [],
   "source": [],
   "metadata": {
    "collapsed": false
   }
  }
 ],
 "metadata": {
  "kernelspec": {
   "display_name": "Python 3",
   "language": "python",
   "name": "python3"
  },
  "language_info": {
   "codemirror_mode": {
    "name": "ipython",
    "version": 2
   },
   "file_extension": ".py",
   "mimetype": "text/x-python",
   "name": "python",
   "nbconvert_exporter": "python",
   "pygments_lexer": "ipython2",
   "version": "2.7.6"
  }
 },
 "nbformat": 4,
 "nbformat_minor": 0
}
