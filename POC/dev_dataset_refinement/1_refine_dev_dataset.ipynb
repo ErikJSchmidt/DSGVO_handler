{
 "cells": [
  {
   "cell_type": "code",
   "execution_count": 1,
   "metadata": {
    "collapsed": true,
    "ExecuteTime": {
     "end_time": "2023-11-20T14:00:45.713678635Z",
     "start_time": "2023-11-20T14:00:45.181986504Z"
    }
   },
   "outputs": [],
   "source": [
    "import json\n",
    "from pathlib import Path\n",
    "from GDPRDataset import GDPRDataset\n",
    "import os\n",
    "import pandas as pd\n",
    "import random"
   ]
  },
  {
   "cell_type": "markdown",
   "source": [
    "# Load config"
   ],
   "metadata": {
    "collapsed": false
   }
  },
  {
   "cell_type": "code",
   "execution_count": 2,
   "outputs": [],
   "source": [
    "# Load config for dev dataset creation process\n",
    "config_file = open(f\"{str(Path.cwd())}/dev_dataset_refinement_config.json\")\n",
    "config = json.load(config_file)\n",
    "config_file.close()"
   ],
   "metadata": {
    "collapsed": false,
    "ExecuteTime": {
     "end_time": "2023-11-20T14:00:47.901176403Z",
     "start_time": "2023-11-20T14:00:47.618700260Z"
    }
   }
  },
  {
   "cell_type": "markdown",
   "source": [
    "# Load dev dataset"
   ],
   "metadata": {
    "collapsed": false
   }
  },
  {
   "cell_type": "code",
   "execution_count": 3,
   "outputs": [],
   "source": [
    "dev_dataset_df = GDPRDataset(config['dev_dataset_path']).dataframe"
   ],
   "metadata": {
    "collapsed": false,
    "ExecuteTime": {
     "end_time": "2023-11-20T14:00:49.821783012Z",
     "start_time": "2023-11-20T14:00:48.979488253Z"
    }
   }
  },
  {
   "cell_type": "markdown",
   "source": [
    "## Remove english samples"
   ],
   "metadata": {
    "collapsed": false
   }
  },
  {
   "cell_type": "code",
   "execution_count": 4,
   "outputs": [],
   "source": [
    "dev_dataset_refined_df = dev_dataset_df[dev_dataset_df['language'] == \"__label__de\"]"
   ],
   "metadata": {
    "collapsed": false,
    "ExecuteTime": {
     "end_time": "2023-11-20T14:00:50.096599793Z",
     "start_time": "2023-11-20T14:00:49.970591003Z"
    }
   }
  },
  {
   "cell_type": "markdown",
   "source": [
    "## Remove samples with empty HTML"
   ],
   "metadata": {
    "collapsed": false
   }
  },
  {
   "cell_type": "code",
   "execution_count": 5,
   "outputs": [],
   "source": [
    "dev_dataset_refined_df = dev_dataset_refined_df[dev_dataset_refined_df['page_source_html'] != \"-1\"]\n",
    "dev_dataset_refined_df.reset_index(inplace=True, drop=True)"
   ],
   "metadata": {
    "collapsed": false,
    "ExecuteTime": {
     "end_time": "2023-11-20T14:00:51.237731021Z",
     "start_time": "2023-11-20T14:00:51.202493033Z"
    }
   }
  },
  {
   "cell_type": "markdown",
   "source": [
    "## Store refined dataset at this point"
   ],
   "metadata": {
    "collapsed": false
   }
  },
  {
   "cell_type": "code",
   "execution_count": 6,
   "outputs": [],
   "source": [
    "intermediate_ref_dataset = GDPRDataset(dataset_dir=config['dev_dataset_refined_intermediate_path'])\n",
    "intermediate_ref_dataset.dataframe = dev_dataset_refined_df\n",
    "intermediate_ref_dataset.store()"
   ],
   "metadata": {
    "collapsed": false,
    "ExecuteTime": {
     "end_time": "2023-11-20T14:00:54.652699566Z",
     "start_time": "2023-11-20T14:00:53.514810449Z"
    }
   }
  },
  {
   "cell_type": "code",
   "execution_count": 7,
   "outputs": [],
   "source": [
    "dev_dataset_refined_loaded_df = GDPRDataset(config['dev_dataset_refined_intermediate_path']).dataframe"
   ],
   "metadata": {
    "collapsed": false,
    "ExecuteTime": {
     "end_time": "2023-11-20T14:01:33.232220331Z",
     "start_time": "2023-11-20T14:01:32.704358765Z"
    }
   }
  },
  {
   "cell_type": "markdown",
   "source": [
    "## Remove unicodes from texts"
   ],
   "metadata": {
    "collapsed": false
   }
  },
  {
   "cell_type": "code",
   "execution_count": 8,
   "outputs": [],
   "source": [
    "def remove_unicodes(text_nullable):\n",
    "    if text_nullable:\n",
    "        return text_nullable.replace(\"\\n\", \"\").replace(\"\\xa0\", \" \")\n",
    "    else:\n",
    "        return text_nullable\n",
    "\n",
    "dev_dataset_refined_loaded_df['content'] = dev_dataset_refined_loaded_df['content'].apply(lambda text: remove_unicodes(text))\n",
    "dev_dataset_refined_loaded_df['content_removed'] = dev_dataset_refined_loaded_df['content_removed'].apply(lambda text: remove_unicodes(text))"
   ],
   "metadata": {
    "collapsed": false,
    "ExecuteTime": {
     "end_time": "2023-11-20T14:39:01.612059643Z",
     "start_time": "2023-11-20T14:39:01.559436793Z"
    }
   }
  },
  {
   "cell_type": "markdown",
   "source": [
    "## Check if words of removed GDPR content appear in HTML\n",
    "By doing so we can spot websites that we can not use for training, e.g. because a #shadow-root hides the GDPR in the downloaded HTML"
   ],
   "metadata": {
    "collapsed": false
   }
  },
  {
   "cell_type": "code",
   "execution_count": 9,
   "outputs": [],
   "source": [
    "def get_words_in_removed_gdpr_that_are_not_in_page_source_html(html, removed_content):\n",
    "    if removed_content is None:\n",
    "        return []\n",
    "    words = removed_content.split(\" \")\n",
    "    not_in_html_words = []\n",
    "    for word in words:\n",
    "        if not word in html:\n",
    "            not_in_html_words.append(word)\n",
    "    return not_in_html_words"
   ],
   "metadata": {
    "collapsed": false,
    "ExecuteTime": {
     "end_time": "2023-11-20T14:49:38.214929055Z",
     "start_time": "2023-11-20T14:49:38.174337666Z"
    }
   }
  },
  {
   "cell_type": "code",
   "execution_count": 10,
   "outputs": [
    {
     "name": "stdout",
     "output_type": "stream",
     "text": [
      "\n",
      "5\n",
      "http://www.vsb.de/\n",
      "['Selecting', 'immediately', 'Privatsphäre-Einstellungen', 'einwilligungsbedürftige', 'Cookies', 'Drittunternehmen', 'Integration', 'bestimmter', 'Funktionen.', 'Wenn', 'Button', '\"Alles', 'akzeptieren\"', 'klicken,', 'Funktionen', 'aktiviert', '(Einwilligung).', 'Nach', 'Einwilligung', 'verarbeiten', 'betroffenen', 'Drittunternehmen', 'Ihre', 'personenbezogenen', 'verschiedene', 'Zwecke.', 'Detaillierte', 'Informationen', 'Zweck,', 'Rechtsgrundlagen,', 'Drittunternehmen', 'Button', '\"Mehr\"', 'Datenschutzerklärung', 'einsehen.', 'Ihre', 'Einwilligung', 'widerrufen.', 'Datenschutzerklärung', 'eRecht24', 'Mehr', 'Alles', 'akzeptieren']\n",
      "\n",
      "42\n",
      "http://www.cadraw.de/\n",
      "['Microsoft', 'CLID', 'user’s', 'behavior', 'compile', 'reports', 'heatmaps', 'owner.', '_clck', 'user’s', 'behavior', 'compile', 'reports', 'heatmaps', 'owner.', '_clsk', '_cltk', 'Microsoft', 'MR', 'multiple', 'websites,', 'based', \"visitor's\", 'preferences.', 'MUID', 'widely', 'Microsoft', 'ID.', 'synchronising', 'many', 'Microsoft', 'domains.', 'SRM_B', 'Tracks', 'user’s', 'website’s', 'search-bar-function.', 'products', 'ANONCHK', 'multiple', 'multiple', 'measure', 'SM', 'during', 'same', 'network.', 'ads.', 'yt.innertube::nextId', 'yt.innertube::requests', 'ytidb::LAST_RESULT_ENTRY_KEY', 'player', 'yt-remote-cast-available', 'player', 'yt-remote-cast-installed', 'player', 'yt-remote-connected-devices', 'player', 'yt-remote-device-id', 'player', 'yt-remote-fast-check-period', 'player', 'yt-remote-session-app', 'player', 'yt-remote-session-name', 'player', '_lfa', 'Account-Based-Marketing', '(ABM).', 'registers', 'such', 'IP-addresses,', 'spent', 'requests', 'retargeting', 'multiple', 'rooting', 'same', 'IP-addresses.', 'ABM', 'usually', 'facilitates', 'B2B', '_lfa', 'Account-Based-Marketing', '(ABM).', 'registers', 'such', 'IP-addresses,', 'spent', 'requests', 'retargeting', 'multiple', 'rooting', 'same', 'IP-addresses.', 'ABM', 'usually', 'facilitates', 'B2B', '_lfa_expiry', 'Contains', 'expiry-date', 'corresponding', 'name.', '_lfa_test_cookie_stored', 'Account-Based-Marketing', '(ABM).', 'registers', 'such', 'IP-addresses,', 'spent', 'requests', 'retargeting', 'multiple', 'rooting', 'same', 'IP-addresses.', 'ABM', 'usually', 'facilitates', 'B2B', '_uetsid', 'multiple', 'websites,', 'limit', 'shown', 'same', 'advertisement.', '_uetsid', 'multiple', 'websites,', 'based', \"visitor's\", 'preferences.', '_uetsid_exp', 'Contains', 'expiry-date', 'corresponding', 'name.', '_uetvid', 'multiple', 'websites,', 'based', \"visitor's\", 'preferences.', '_uetvid', 'multiple', 'websites,', 'based', \"visitor's\", 'preferences.', '_uetvid_exp', 'Contains', 'expiry-date', 'corresponding', 'name.', 'Others', 'Other', 'unclassified', 'context-profile-id', 'dropsolidCapture', 'dropsolidCapture', 'DS_VARY_ML', 'myCaptures', '3/23/23']\n",
      "\n",
      "\n",
      "45\n",
      "https://www.t-systems.de\n",
      "['(16)', '(1)', '(13)', '(9)', '[x4]', 'Monotype', 'JSESSIONID', 'Preserves', 'requests.', 'behavior.', 'viral-links/v1/tracking', '3/1/23']\n",
      "\n",
      "78\n",
      "http://www.activekey.de/\n",
      "['Nur', 'notwendige', 'Cookies', 'Unvergleichlich', 'lecker', 'Mit', 'dem', 'Klick', '„Geht', 'klar”', 'ermöglichen', 'Sie', 'uns', 'Ihnen', 'über', 'Cookies', 'ein', 'verbessertes', 'Nutzungserlebnis', 'zu', 'servieren', 'dieses', 'kontinuierlich', 'zu', 'verbessern.', 'Damit', 'können', 'wir', 'Ihnen', 'personalisierte', 'Empfehlungen', 'auch', 'Drittseiten', 'ausspielen.', 'Über', '„Anpassen”', 'können', 'Sie', 'Ihre', 'persönlichen', 'Präferenzen', 'festlegen.', 'Dies', 'ist', 'auch', 'nachträglich', 'jederzeit', 'möglich.', 'Mit', 'dem', 'Klick', '„Nur', 'notwendige', 'Cookies”', 'werden', 'lediglich', 'technisch', 'notwendige', 'Cookies', 'gespeichert.', 'Anpassen', 'Geht', 'klar', 'Datenschutzerklärung', 'Impressum', '«', 'zurück', 'Ihre', 'Cookie-Präferenzen', 'verwalten', 'Wählen', 'Sie,', 'welche', 'Cookies', 'Sie', 'akzeptieren.', 'Die', 'Cookierichtlinie', 'finden', 'Sie', 'hier.', 'Notwendig', 'Diese', 'Cookies', 'andere', 'Informationen', 'sind', 'die', 'Funktion', 'unserer', 'Services', 'unbedingt', 'erforderlich.', 'Sie', 'garantieren,', 'dass', 'unser', 'Service', 'sicher', 'wie', 'von', 'Ihnen', 'gewünscht', 'funktioniert.', 'Daher', 'kann', 'sie', 'nicht', 'deaktivieren.', 'Zur', 'Cookierichtlinie', 'Analytisch', 'Wir', 'möchten', 'Sie', 'unseren', 'Service', 'gut', 'wie', 'möglich', 'machen.', 'Daher', 'verbessern', 'wir', 'unsere', 'Services', 'Ihr', 'Nutzungserlebnis', 'stetig.', 'Um', 'dies', 'zu', 'tun,', 'möchten', 'wir', 'die', 'Nutzung', 'Services', 'analysieren', 'statistischer', 'Form', 'auswerten.', 'Zur', 'Cookierichtlinie', 'Marketing', 'Um', 'Ihnen', 'unser', 'Angebot', 'kostenfrei', 'anbieten', 'zu', 'können,', 'finanzieren', 'wir', 'uns', 'u.a.', 'durch', 'Werbeeinblendungen', 'richten', 'werbliche', 'nicht-werbliche', 'Inhalte', 'Ihre', 'Interessen', 'aus.', 'Dafür', 'arbeiten', 'wir', 'ausgewählten', 'Partnern', 'zusammen.', 'Ihre', 'Einstellungen', 'können', 'Sie', 'jederzeit', 'Klick', 'Datenschutz', 'unteren', 'Bereich', 'unserer', 'Webseite', 'anpassen.', 'Ausführlichere', 'Informationen', 'zu', 'den', 'folgenden', 'ausgeführten', 'Verarbeitungszwecken', 'finden', 'Sie', 'ebenfalls', 'unserer', 'Datenschutzerklärung.', 'Wir', 'benötigen', 'Ihre', 'Zustimmung', 'die', 'folgenden', 'Verarbeitungszwecke:', 'Informationen', 'einem', 'Gerät', 'speichern', 'und/oder', 'abrufen', 'Für', 'die', 'Ihnen', 'angezeigten', 'Verarbeitungszwecke', 'können', 'Cookies,', 'Geräte-Kennungen', 'oder', 'andere', 'Informationen', 'Ihrem', 'Gerät', 'gespeichert', 'oder', 'abgerufen', 'werden.', 'Auswahl', 'einfacher', 'Anzeigen', 'Anzeigen', 'können', 'Ihnen', 'basierend', 'den', 'Inhalten,', 'die', 'Sie', 'ansehen,', 'Anwendung,', 'die', 'Sie', 'verwenden', 'oder', 'Ihrem', 'ungefähren', 'Standort', 'oder', 'Ihrem', 'Gerätetyp', 'eingeblendet', 'werden.', 'Ein', 'personalisiertes', 'Anzeigen-Profil', 'erstellen', 'Über', 'Sie', 'Ihre', 'Interessen', 'kann', 'ein', 'Profil', 'erstellt', 'werden,', 'Ihnen', 'Sie', 'relevante', 'personalisierte', 'Anzeigen', 'einzublenden.', 'Personalisierte', 'Anzeigen', 'auswählen', 'Personalisierte', 'Anzeigen', 'können', 'Ihnen', 'basierend', 'einem', 'über', 'Sie', 'erstellten', 'Profil', 'eingeblendet', 'werden.', 'Ein', 'personalisiertes', 'Inhalts-Profil', 'erstellen', 'Über', 'Sie', 'Ihre', 'Interessen', 'kann', 'ein', 'Profil', 'erstellt', 'werden,', 'Ihnen', 'Sie', 'relevante', 'personalisierte', 'Inhalte', 'anzuzeigen.', 'Zur', 'Cookierichtlinie', 'Auswahl', 'speichern', 'akzeptieren', 'Sparen', 'Sie', 'Zeit', 'übernehmen', 'Sie', 'Daten', 'aus', 'Ihrem', 'Kundenkonto.', 'Anmelden', 'Neuer', 'Kunde?', 'Starten', 'Sie', 'hier.', 'Mein', 'Konto', 'Anmelden', 'Neuer', 'Kunde?', 'Starten', 'Sie', 'hier.', 'Mein', 'Konto', 'Meine', 'Aktivitäten', 'Meine', 'Nachrichten', 'Spar', 'Alarm', 'Gutscheine', 'Guthaben', 'CHECK24', 'Punkte', 'Versicherungscenter', 'Ihr', 'digitaler', 'Versicherungsordner', 'Verträge', 'Bedarf', 'richtig', 'prüfen', 'Kreditcenter', 'Ihre', 'aktuellen', 'Kreditanfragen', 'Kreditzusagen', 'einen', 'Blick', 'Geldanlagecenter', 'Ihr', 'Zugang', 'zu', 'den', 'besten', 'Tages-', 'Festgeld-Zinsen', 'Europa', 'Haushaltscenter', 'Ihre', 'Wechselfristen', 'Energie-', 'DSL-Verträge', 'nutzen', 'erneut', 'Shoppingcenter', 'Ihre', 'Bestellungen', 'Übersicht', 'Lieferstatus,', 'Rechnung', 'Kontakt', 'Reisecenter', 'Ihre', 'Reisebuchungen', 'Übersicht', 'bequem', 'verwalten', 'Hilfe', 'Kontakt', 'Ihre', 'CHECK24', 'Beratung', 'Hallo,', 'Lara,', 'Ihre', 'digitale', 'Chat-Assistentin', 'Sie', 'können', 'mich', 'jederzeit', 'erreichen.', 'Chat', 'starten', 'Weiter', 'zum', 'Kundenservice', 'Merkzettel', 'Merkzettel', 'Merkzettel', 'Ihr', 'Merkzettel', 'ist', 'leer.', 'Bitte', 'melden', 'Sie', 'sich', 'Ihrem', 'CHECK24', 'Kundenkonto', 'an,', 'Ihren', 'Merkzettel', 'zu', 'sehen.', 'Versicherungen', 'Auto', 'Fahrzeuge', 'Kfz-Versicherung', 'Motorradversicherung', 'Moped', 'oder', 'E-Scooter', 'Schutzbrief/Automobilclub', 'Fahrradversicherung', 'Krankenversicherung', 'Private', 'Krankenversicherung', 'Gesetzliche', 'Krankenkassen', 'Zahnzusatzversicherung', 'Krankenhauszusatz', 'Heilpraktiker', 'Brille', 'Haus', 'Wohnung', 'Hausratversicherung', 'Wohngebäudeversicherung', 'Neubauversicherung', 'Elementarversicherung', 'Mietkautionsversicherung', 'Risiko', 'Vorsorge', 'Risikolebensversicherung', 'Unfallversicherung', 'Berufsunfähigkeit', 'Grundfähigkeitsversicherung', 'Sterbegeldversicherung', 'Tierversicherungen', 'Hundehaftpflicht', 'Hundekrankenversicherung', 'Katzenversicherung', 'Pferdehaftpflicht', 'Pferde-OP-Versicherung', 'Altersvorsorge', 'Pflege', 'Rentenversicherung', 'Riester-Rente', 'Rürup-Rente', 'Sofort-Rente', 'Pflegeversicherung', 'Haftpflicht', 'Recht', 'Privathaftpflicht', 'Diensthaftpflicht', 'Rechtsschutzversicherung', 'Sofortige', 'Rechtshilfe', 'Handy', 'Reise', 'Handyversicherung', 'Reiseversicherung', 'Auslandskrankenversicherung', 'Versicherungscenter', 'Versicherungen', 'verwalten', 'optimieren', 'Kündigungsservice', 'Versicherungen', 'kündigen', 'Adresse,', 'Bankverbindung', 'Versicherungen', 'über', 'Änderungen', 'informieren', 'THG-Prämie', 'jährliche', 'Prämie', 'Ihr', 'Elektrofahrzeug', 'sichern', 'Konto', 'Kredit', 'Kredit', 'Autokredit', 'Ratenkredit', 'Umschuldung', 'Onlinekredit', 'Baufinanzierung', 'Immobilienfinanzierung', 'Anschlussfinanzierung', 'Modernisierung', 'Karten', 'Konten', 'Girokonto', 'Kreditkarte', 'Geldanlage', 'Tagesgeld', 'Festgeld', 'Services', 'BonitätsCheck', 'Kreditrechner', 'Baufinanzierungsrechner', 'Immobilienbewertung', 'Kreditcenter', 'Kreditanträge', 'Abschlüsse', 'einen', 'Blick', 'Geldanlagecenter', 'Ihr', 'Zugang', 'zu', 'den', 'besten', 'Tages-', 'Festgeld-Zinsen', 'Europa', 'Strom', 'Gas', 'Stromvergleich', 'Strom', 'Ökostrom', 'Gewerbestrom', 'Heizstromvergleich', 'Wärmepumpe', 'Nachtspeicherheizung', 'Gasvergleich', 'Gas', 'Ökogas', 'Gewerbegas', 'Heizölvergleich', 'Heizöl', 'Heizölpreise', 'Services', 'Energieverträge', 'kündigen', 'Energieratgeber', 'Oder', 'suchen', 'Sie...?', 'Autostromtarife', 'Energieanbieter', 'Energiepreisbremse', 'Haushaltscenter', 'Energie-', 'DSL-Verträge', 'verwalten', 'optimieren', 'Vergleich', 'Fernsehen', 'Services', 'Internetanbieter', 'Internetratgeber', 'Speedtest', 'Internetverträge', 'kündigen', 'Cashback', 'abholen', 'Haushaltscenter', 'DSL-', 'Energieverträge', 'verwalten', 'optimieren', 'Handy', 'Handytarife', '(nur', 'SIM-Karte)', 'Allnet', 'Flat', 'Tarife', 'Prepaid', '1-Monats-Tarife', 'Tarife', 'junge', 'Leute', 'Datentarife', 'Anbieterübersicht', 'Handy', 'Vertrag', 'iPhone', 'Vertrag', 'iPhone', 'Vertrag', 'Galaxy', 'S23', 'Vertrag', 'Galaxy', 'S22', 'Vertrag', 'Handyübersicht', 'Services', 'Handyverträge', 'kündigen', 'Cashback', 'abholen', 'Oder', 'suchen', 'Sie...?', 'Handyversicherung', 'Handy', 'ohne', 'Vertrag', 'Handy-Zubehör', 'Reise', 'Pauschalreisen', 'Urlaubsreisen', 'Bahn', 'Hotel', 'Frühbucher', 'Last', 'Minute', 'Inclusive', 'Städtereisen', 'Sportreisen', 'Neu', 'Kitesurfen', 'Surfen', 'Windsurfen', 'Tauchen', 'Ferienwohnungen', 'Ferienhäuser', 'Ferienwohnungen', 'Ferienhäuser', 'Reiseversicherungen', 'Reiserücktrittsversicherung', 'Auslandskrankenversicherung', 'Services', 'Häufige', 'Fragen', 'Reisewelt', 'Magazin', 'Reisekalender', 'Urlaubsfinder', 'Reise', 'GoldClub', 'Exklusive', 'Vorteile', 'Mitglieder', 'Reisecenter', 'Ihre', 'Buchungen', 'bequem', 'verwalten', 'Flüge', 'Flugvergleich', 'Flüge', 'Flüge', 'London', 'Flüge', 'Mallorca', 'Flüge', 'New', 'York', 'Billigflüge', 'Last', 'Minute', 'Flüge', 'Flugverspätung', 'Ihre', 'Rechte', 'Reise', 'GoldClub', 'Exklusive', 'Vorteile', 'Mitglieder', 'Reisecenter', 'Ihre', 'Buchungen', 'bequem', 'verwalten', 'Hotel', 'Hotelvergleich', 'Hotels', 'Hotels', 'Berlin', 'Hotels', 'München', 'Hotels', 'Hamburg', 'Hotels', 'Deutschland', 'Wellnesshotels', 'Ferienwohnungen', 'Ferienwohnung', 'Ostsee', 'Ferienwohnung', 'Kroatien', 'Ferienwohnung', 'Hund', 'Ferienhäuser', 'Finca', 'Mallorca', 'Ferienhaus', 'Dänemark', 'Reise', 'GoldClub', 'Exklusive', 'Vorteile', 'Mitglieder', 'Reisecenter', 'Ihre', 'Buchungen', 'bequem', 'verwalten', 'Mietwagen', 'Mietwagen', 'Preisvergleich', 'Mietwagen', 'Mietwagen', 'Deutschland', 'Mietwagen', 'Spanien', 'Mietwagen', 'Portugal', 'Mietwagen', 'USA', 'Mietwagen', 'Mallorca', 'Transporter', 'mieten', 'Services', 'Häufige', 'Fragen', 'Buchung', 'stornieren', 'Voucher', 'herunterladen', 'Vermieterbewertungen', 'Reise', 'GoldClub', 'Exklusive', 'Vorteile', 'Mitglieder', 'Reisecenter', 'Ihre', 'Buchungen', 'bequem', 'verwalten', 'Profis', 'Veranstaltungen', 'DJ', 'Fotograf', 'Hochzeit', 'Hochzeitsfotograf', 'Brautstylist', 'Umzug', 'Transport', 'Umzugsunternehmen', 'Möbeltransport', 'Sport', 'Wellness', 'Personal', 'Trainer', 'Ernährungsberater', 'Haus', 'Garten', 'Gärtner', 'Monteure', 'Sprach-', 'Musiklehrer', 'Sprachlehrer', 'Musiklehrer', 'Handwerk', 'Maler', 'Elektriker', 'Bodenleger', 'Installateure', 'Kategorien...', 'Sie', 'sind', 'selbst', 'Profi', 'Suche', 'nach', 'neuen', 'Kunden?', 'Jetzt', 'anmelden', 'Shopping', 'Möbel', 'Wohnzimmer', 'Esszimmer', 'Schlafzimmer', 'Arbeitszimmer', 'Autoreifen', 'Sommerreifen', 'Ganzjahresreifen', 'Winterreifen', 'Reifen', 'Felgen', 'Reifen', 'Stahlfelgen', 'Reifen', 'Alufelgen', 'Services', 'Meine', 'Bestellungen', 'Mein', 'Merkzettel', 'Meine', 'Preisalarme', 'Mehr', 'entdecken', 'Top-Angebote', 'Überblick', 'Shoppingcenter', 'Ihre', 'Einkäufe', 'bequem', 'verwalten', 'Steuer', 'Jetzt', 'Punkteteilnehmer', 'werden:', '5\\u2009€', 'sichern', 'Nachhaltigkeit', 'Ihr', 'Browser', 'wird', 'nicht', 'mehr', 'unterstützt.', 'Damit', 'Sie', 'auch', 'weiterhin', 'schnell', 'sicher', 'CHECK24', 'können,', 'empfehlen', 'wir', 'Ihnen', 'einen', 'folgenden', 'Browser', 'zu', 'nutzen.', 'Trotzdem', 'fortfahren', 'Chrome', 'Mozilla', 'Firefox', 'Microsoft', 'Edge', 'Vergleich', 'beim', 'Testsieger', 'Über', '2.500', 'Tarife', 'über', 'Viel', 'günstiger', 'als', 'beim', 'Bei', 'CHECK24', 'profitieren', 'Sie', 'von', 'exklusiven', 'Vorteilen.', 'Mit', 'bis', 'zu', '370', '€', 'Cashback', 'ist', 'Ihr', 'Tarif', 'viel', 'günstiger', 'als', 'beim', 'Anbieter.', 'Als', 'Punkteteilnehmer', 'erhalten', 'Sie', 'zusätzlich', 'CHECK24', 'Punkte.', 'Cashback', 'Punkte', 'gibt', 'nur', 'bei', 'CHECK24', 'nicht', 'beim', 'Anbieter.', 'Minuten', 'einfach', 'wechseln', 'Mit', 'CHECK24', 'wechseln', 'Sie', 'Ihren', 'Internetanbieter', 'wenigen', 'Minuten.', 'Ihr', 'alter', 'Vertrag', 'wird', 'automatisch', 'gekündigt', 'Ihr', 'neuer', 'Anschluss', 'direkt', 'nach', 'Ihrem', 'Vertragsende', 'geschaltet.', 'Sie', 'haben', 'Fragen?', 'Unsere', 'DSL-Experten', 'sind', 'Sie', 'auch', 'nach', 'Vertragsabschluss.', 'Garantiert', 'durchgehend', 'online', 'Auch', 'bei', 'einem', 'Wechsel', 'zu', 'einem', 'neuen', 'sind', 'Sie', 'durchgehend', 'online.', 'Das', 'garantieren', 'wir', 'Ihnen!', 'Sie', 'sind', 'zum', 'Anschlusstermin', 'offline?', 'Wir', 'springen', 'ein', 'dank', 'unserer', 'CHECK24', '100%', 'Funktioniert', 'Garantie', 'Garantiebedingungen', 'Minuten', 'einfach', 'wechseln', 'Viel', 'günstiger', 'als', 'beim', 'Garantiert', 'durchgehend', 'online', 'Bis', 'zu', '370', '€', 'Cashback', 'Wie', 'erhalte', 'meinen', 'Cashback?', 'Vertrag', 'über', 'CHECK24', 'abschließen', 'Rechnung', 'CHECK24', 'schicken', 'Cashback', 'wird', 'Ihr', 'Konto', 'überwiesen', 'Den', 'Cashback', 'gibt', 'nur', 'bei', 'CHECK24', 'nicht', 'beim', 'Anbieter.', 'Senden', 'Sie', 'uns', 'einfach', 'eine', 'Kopie', 'Ihrer', 'ersten', 'Rechnung', 'bis', 'sechs', 'Monate', 'nach', 'Rechnungsdatum', 'dsl-bonus@check24.de', 'oder', 'nutzen', 'Sie', 'ganz', 'bequem', 'unseren', 'Rechnungs-Upload.', 'Nach', 'erfolgreicher', 'Überprüfung', 'Rechnung', 'überweisen', 'wir', 'Ihnen', 'den', 'Cashback', 'innerhalb', 'von', 'bis', 'Tagen.', '370', '€', 'Cashback', 'erhalten', 'Sie', 'aktuell', 'bei', 'dem', 'Tarif', '„Pure', 'Speed', '400', 'inkl.', 'Telefonflat', 'TV“', 'von', 'PŸUR.', 'Speed', 'verdoppeln', 'Kosten', 'halbieren', '22,45', '€', 'Monate', '538', '€', 'Ersparnis', 'über', 'Monate', '44,90', '€', 'pro', 'Monat', 'Standard-Tarif', 'MBit/s', 'z.B.', 'Telekom', 'Magenta', 'Zuhause', 'inkl.', 'WLAN-Router', '44,90', '€', 'Durchschnitt', 'pro', 'Monat', 'Bis', 'zu', '22,45', '€', 'monatlich', '22,45', '€', 'Durchschnitt', 'pro', 'Monat', 'Neuer', 'Tarif', 'MBit/s', 'Bei', 'CHECK24', 'unter', '22,45', '€', 'Durchschnitt', 'pro', 'Monat', 'Die', 'laufenden', 'Kosten', 'eines', 'Standard-Tarifs', 'betragen', '44,90', '€', 'pro', 'Monat.', 'Ein', 'gängiger', 'Tarif', 'ist', 'z.B.', '\"Magenta', 'Zuhause', 'M\"', 'inkl.', 'WLAN', 'Router', 'von', 'Telekom.', 'Bei', 'CHECK24', 'gibt', 'günstige', 'Tarife', 'einem', 'Durchschnittspreis', 'unter', '22,45', '€', 'pro', 'Monat.', 'Quelle:', 'CHECK24', 'DSL-Vergleich', '05/2023', 'Die', 'CHECK24', '100%', 'Funktioniert', 'Garantie!', 'Sie', 'brauchen', 'keine', 'Sorge', 'zu', 'haben,', 'dass', 'Sie', 'offline', 'sind:', 'Falls', 'Sie', 'unerwartet', 'zum', 'Aktivierungsdatum', 'nicht', 'online', 'sind,', 'rufen', 'Sie', 'uns', 'einfach', 'unter', 'an.', 'Wir', 'finden', 'gemeinsam', 'die', 'optimale', 'Lösung', 'Sie', 'erstatten', 'Ihnen', 'Mehrkosten', 'von', 'bis', 'zu', '€.', 'WiFi', 'Spot', 'Smartphone', 'Hotspot', 'mobiler', 'Router', 'Wir', 'bringen', 'Sie', 'schnellstens', 'wieder', 'online.', 'Garantiert!', 'Garantiebedingungen', 'Die', 'CHECK24', 'Nirgendwo', 'Günstiger', 'Garantie!', 'Wir', 'können', 'Ihnen', 'immer', 'den', 'günstigsten', 'DSL-Tarif', 'anbieten,', 'davon', 'sind', 'wir', 'überzeugt.', 'Sollten', 'Sie', 'nach', 'Abschluss', 'eines', 'DSL-Tarifs', 'über', 'CHECK24.de', 'bei', 'einem', 'anderen', 'tatsächlich', 'denselben', 'Tarif', 'günstiger', 'erhalten,', 'erstatten', 'wir', 'Ihnen', 'die', 'effektive', 'Preisdifferenz', 'über', 'einen', 'Zeitraum', 'von', 'Monaten,', 'maximal', 'jedoch', '€.', 'Garantiebedingungen', 'Mehrfach', 'von', 'TÜV', 'Süd', 'ausgezeichnet', 'tuev-sued.de/ps-zert', 'Der', 'CHECK24', 'Vergleich', 'ist', 'durch', 'den', 'TÜV', 'SÜD', 'zum', 'zehnten', 'Mal', 'Folge', 'zertifiziert.', 'Die', 'Zertifizierung', 'gilt', 'die', 'Bereiche', 'Benutzerfreundlichkeit', 'Funktionalität', 'Vergleichs', 'wird', 'anhand', 'besonders', 'strenger', 'Kriterien', 'vorgenommen.', 'Weitere', 'Informationen', 'erhalten', 'Sie', 'hier', 'Die', 'CHECK24', '100%', 'Funktioniert', 'Garantie!', 'Sie', 'brauchen', 'keine', 'Sorge', 'zu', 'haben,', 'dass', 'Sie', 'offline', 'sind:', 'Falls', 'Sie', 'unerwartet', 'zum', 'Aktivierungsdatum', 'nicht', 'online', 'sind,', 'rufen', 'Sie', 'uns', 'einfach', 'unter', 'an.', 'Wir', 'finden', 'gemeinsam', 'die', 'optimale', 'Lösung', 'Sie', 'erstatten', 'Ihnen', 'Mehrkosten', 'von', 'bis', 'zu', '€.', 'WiFi', 'Spot', 'Smartphone', 'Hotspot', 'mobiler', 'Router', 'Wir', 'bringen', 'Sie', 'schnellstens', 'wieder', 'online.', 'Garantiert!', 'Garantiebedingungen', 'Sofort', 'sehen,', 'welche', 'Tarife', 'Ihrer', 'Adresse', 'verfügbar', 'sind', 'Warum', 'benötigen', 'wir', 'Ihre', 'Adresse?', 'Die', 'Internet-Verfügbarkeit', 'hängt', 'stark', 'vom', 'Wohnort', 'vom', 'Ausbaustatus', 'Netzbetreiber', 'ab.', 'Deshalb', 'prüfen', 'wir', 'Sie', 'Sekundenschnelle', 'anbieterübergreifend,', 'welche', 'Tarife', 'Surfgeschwindigkeiten', 'Ihrem', 'Wohnort', 'tatsächlich', 'verfügbar', 'sind.', 'PLZ', 'oder', 'Ort', 'Straße', 'Hausnr.', 'Tarife', 'neu', 'Sparen', 'Sie', 'Zeit', 'übernehmen', 'Sie', 'Daten', 'aus', 'Ihrem', 'Kundenkonto.', 'jetzt', 'anmelden', 'Unsere', 'Partner', 'Top-Anbieter', 'Vergleich', 'Zur', 'Anbieterübersicht', 'Vergleich', 'von', 'CHECK24', 'finden', 'Sie', 'über', '2.500', 'Tarife', 'von', 'mehr', 'als', 'Internetanbietern', 'können', 'schnell', 'einfach', 'Ihren', 'wechseln.', 'Mit', 'einem', 'Anbieterwechsel', 'über', 'CHECK24', 'surfen', 'Sie', 'garantiert', 'günstiger', 'Internet,', 'können', 'Ihren', 'Speed', 'verdoppeln', 'Ihre', 'Kosten', 'halbieren', 'Außerdem', 'ist', 'Wechsel', 'Sie', 'einfach', '100%', 'sicher', 'das', 'versprechen', 'wir!', 'Neben', 'den', 'großen,', 'bundesweit', 'verfügbaren', 'Anbietern', 'wie', 'Deutsche', 'Telekom,', 'Vodafone,', 'o2,', '1&1', 'oder', 'PŸUR', 'finden', 'Sie', 'CHECK24', 'Vergleich', 'auch', 'regionale', 'wie', 'NetCologne,', 'M-net', 'oder', 'EWE', 'Bei', 'CHECK24', 'finden', 'Sie', 'die', 'besten', 'günstigsten', 'Angebote,', 'wir', 'regelmäßig', 'exklusive', 'Cashbacks', 'Konditionen', 'den', 'Internetanbietern', 'Sie', 'verhandeln.', 'Um', 'das', 'Sie', 'beste', 'Angebot', 'zu', 'finden,', 'müssen', 'Sie', 'Anbietervergleich', 'nur', 'die', 'prüfen', 'sehen', 'dann,', 'welche', 'Tarife', 'Ihrer', 'Anschrift', 'verfügbar', 'sind.', 'Bei', 'CHECK24', 'bildet', 'die', 'Verfügbarkeitsprüfung', 'die', 'Grundlage', 'Preisvergleichs', 'garantiert,', 'dass', 'Sie', 'nur', 'Ihrer', 'Adresse', 'verfügbare', 'Tarife', 'Ihren', 'Internetanschluss', 'erhalten.', 'CHECK24', 'vielfach', 'ausgezeichnet', 'mehrfacher', 'Testsieger', 'DtGV:', 'Testsieger', 'DSL-Vergleichsportale', '(März', '2023)', 'Auch', 'ist', 'DSL-Vergleich', 'von', 'CHECK24', 'beim', 'Qualitätstest', 'Deutschen', 'Gesellschaft', 'Verbraucherstudien', '(DtGV)', 'als', 'Sieger', 'hervorgegangen.', 'Insgesamt', 'erreichte', 'CHECK24', 'seinem', 'DSL-Tarifvergleich', 'ein', 'sehr', 'gutes', 'Ergebnis', 'von', '93,5%', 'liegt', 'damit', 'deutlich', 'vor', 'Wettbewerbern', 'wie', 'Verivox,', 'preisvergleich.de,', 'teltarif.de', 'DSLWEB.', 'Kategorie', '\"Tarifsuche\"', 'sowie', '„Transparenz', 'Service“', 'hat', 'DSL-Vergleich', 'von', 'CHECK24', 'die', 'Tester', 'überzeugt.', 'Weitere', 'Informationen', 'finden', 'Sie', 'hier', 'TÜV', 'Kundenzufriedenheit', 'Zertifikat', 'CHECK24', 'ist', 'durch', 'TÜV', 'Saarland', 'erneut', 'Bestnote', '\"sehr', 'gut\"', 'Bereich', 'Kundenzufriedenheit', 'ausgezeichnet', 'worden.', 'Unter', 'dem', 'Punkt', '„Gesamtzufriedenheit', 'Unternehmen“', 'erreicht', 'CHECK24', 'ein', '\"sehr', 'gut\"', 'wie', 'auch', 'eine', 'Weiterempfehlungsbereitschaft', 'seiner', 'Kunden', 'von', '94,8', 'Prozent.', 'Zertifizierungsmethode:', 'Der', 'TÜV', 'Saarland', 'verschickt', 'einen', 'Fragebogen', 'die', 'Kunden', 'zu', 'zertifizierenden', 'Unternehmens.', 'Getestet', 'wurden', 'u.a.', 'die', 'Qualität', 'Website', '(z.B.', 'Gestaltung', 'Internetseite,', 'Informationsumfang,', 'Quantität', 'Qualität', 'Vergleichsangebote', 'Einfachheit', 'Wechsels)', 'die', 'Servicequalität', '(z.B.', 'Kontaktmöglichkeiten,', 'Servicezeiten,', 'telefonische', 'Erreichbarkeit,', 'Freundlichkeit', 'Fachkompetenz', 'Mitarbeiter,', 'Reaktionsgeschwindigkeit', 'bei', 'Mailanfragen).', 'Das', 'Zertifikat', 'wurde', 'erteilt', 'von:', 'TÜV', 'Saarland', 'Certification', 'Am', 'TÜV', '66280', 'Sulzbach', 'Saar', 'http://www.tuev-certification.de', 'PC', 'Magazin:', 'Testsieger', 'Vergleichsportale', 'Telekommunikation', 'Das', 'Fachmagazin', 'PC', 'Magazin', 'zeichnete', 'CHECK24', 'als', 'bestes', 'Vergleichsportal', 'Bereich', 'Telekommunikation', 'aus.', 'Ausgabe', '2/2020', 'konnte', 'sich', 'CHECK24', 'gegen', 'fünf', 'andere', 'Vergleichsportale', 'durchsetzen', 'erhielt', 'das', 'Gesamturteil', '„sehr', 'gut“', 'sowie', 'die', 'Empfehlung', '„sehr', 'empfehlenswert“.', 'Besonders', 'die', 'einfache', 'Bedienung', 'Transparenz', 'von', 'CHECK24', 'konnte', 'die', 'Tester', 'überzeugen.', 'Als', 'Testsieger', 'verweist', 'das', 'Vergleichsportal', 'Konkurrenten', 'wie', 'Preisvergleich,', 'Preis24', 'Verivox', 'die', 'hinteren', 'Plätze.', 'Weitere', 'Informationen', 'finden', 'Sie', 'hier', 'Auszeichnungen', 'Überblick', 'CHECK24', 'ist', 'kundenfreundlich', 'CHECK24', 'DSL-Vergleich', '5,0', '1283', '1.283', 'Bewertungen', '(letzte', 'Monate)', '41.988', 'Bewertungen', '(gesamt)', 'Bewertungen', 'funktioniert', 'Preisvergleich', 'Der', 'Preisvergleich', 'von', 'CHECK24', 'findet', 'Sie', 'adressgenau', 'Angebote', 'von', 'mehr', 'als', 'Internetanbietern', 'Dafür', 'müssen', 'Sie', 'nur', 'Ihre', 'Anschrift', 'Ihren', 'aktuellen', 'angeben.', 'Zusätzlich', 'können', 'Sie', 'individuelle', 'Wünsche', 'wie', 'einen', 'WLAN', 'Router,', 'Tarife', 'junge', 'Leute', 'oder', 'Ihre', 'Handynummer', 'einen', 'Kombi-Vorteil', 'ergänzen.', 'Dann', 'werden', 'den', 'Preisvergleich', 'alle', 'eingegebenen', 'Adresse', 'verfügbaren', 'Tarife', 'geprüft', 'die', 'besten', 'Angebote', 'angezeigt.', 'Die', 'Grundlage', 'einen', 'Preisvergleich', 'ist', 'eine', 'Verfügbarkeitsprüfung.', 'Nur', 'dadurch', 'ist', 'ein', 'aussagekräftiges', 'korrektes', 'Ergebnis', 'bei', 'einem', 'Vergleich', 'möglich.', 'Um', 'die', 'zu', 'prüfen', 'müssen', 'Sie', 'lediglich', 'Ihre', 'vollständige', 'Anschlussadresse', 'Straße,', 'Hausnummer,', 'Postleitzahl', 'Wohnort', 'angeben.', 'Nur', 'diesen', 'Angaben', 'kann', 'genau', 'überprüft', 'werden,', 'welche', 'welche', 'Tarife', 'verfügbar', 'sind', 'bestellt', 'werden', 'können.', 'Vorteile', 'Tarife', 'Vergleichs', 'Ein', 'günstiger,', 'schneller', 'Anschluss', 'ist', 'das', 'deshalb', 'bietet', 'Ihnen', 'Vergleich', 'von', 'CHECK24', 'drei', 'entscheidende', 'Vorteile', 'Mit', 'uns', 'wechseln', 'Sie', 'Ihren', 'Internetanbieter', 'ganz', 'einfach', 'nur', 'Minuten', 'profitieren', 'von', 'Tarifen,', 'die', 'viel', 'günstiger', 'sind', 'als', 'beim', 'Außerdem', 'garantieren', 'wir', 'Ihnen,', 'dass', 'Sie', 'beim', 'Wechsel', 'durchgehend', 'online', 'sind.', 'Minuten', 'einfach', 'wechseln', 'Geben', 'Sie', 'einfach', 'Ihre', 'Adresse', 'ein', 'wenigen', 'Sekunden', 'zeigen', 'wir', 'Ihnen', 'alle', 'verfügbaren', 'Tarife.', 'Bestellen', 'Sie', 'den', 'passenden', 'Tarif,', 'Ihr', 'alter', 'Vertrag', 'wird', 'automatisch', 'gekündigt', 'neue', 'Anschluss', 'direkt', 'nach', 'Vertragsende', 'geschaltet.', 'Viel', 'günstiger', 'als', 'beim', 'Sie', 'profitieren', 'bei', 'CHECK24', 'von', 'vielen', 'exklusiven', 'Vorteilen.', 'Dank', 'großzügiger', 'Cashbacks', 'von', 'bis', 'zu', '370', '€', 'ist', 'Ihr', 'Tarif', 'viel', 'günstiger', 'als', 'beim', 'Anbieter.', 'Außerdem', 'können', 'Sie', 'CHECK24', 'Punkte', 'Programm', 'teilnehmen', 'zusätzlich', 'CHECK24', 'Punkte', 'sammeln', 'oder', 'exklusive', 'Gutscheine', 'erhalten.', 'Garantiert', 'durchgehend', 'online', 'Beim', 'Anbieterwechsel', 'CHECK24', 'brauchen', 'Sie', 'keine', 'Sorgen', 'haben,', 'Wechseltermin', 'offline', 'zu', 'sein', 'das', 'garantieren', 'wir', 'Ihnen', 'CHECK24', '100%', 'Funktioniert', 'Garantie', 'Falls', 'Sie', 'zum', 'Anschlusstermin', 'kein', 'haben,', 'springen', 'wir', 'ein', 'helfen', 'Ihnen', 'weiter.', 'Ihr', 'Vertrag:', 'Das', 'sollten', 'Sie', 'beachten', 'DSL,', 'Kabel', 'oder', 'Glasfaser:', 'Welcher', 'Anschluss', 'ist', 'richtige?', 'Wer', 'mehrere', 'Jahre', 'beim', 'selben', 'war,', 'kennt', 'vermutlich', 'nicht', 'alle', 'Möglichkeiten,', 'die', 'sich', 'ihm', 'beim', 'Internetanschluss', 'bieten.', 'Neben', 'gibt', 'auch', 'noch', 'Kabel', 'oder', 'Glasfaser', 'welche', 'Anschlussart', 'welche', 'Vorteile', 'bietet,', 'wodurch', 'sie', 'sich', 'unterscheiden,', 'können', 'Sie', 'Internetanschluss-Ratgeber', 'nachlesen.', 'Kündigung:', 'Darauf', 'müssen', 'Sie', 'achten!', 'Viele', 'Verbraucher', 'wechseln', 'ihren', 'nicht', 'zahlen', 'deshalb', 'mehr', 'als', 'nötig,', 'weil', 'sie', 'vergessen', 'zu', 'kündigen.', 'Beim', 'Anbieterwechsel', 'müssen', 'Sie', 'aber', 'gar', 'nicht', 'selbst', 'kündigen', 'das', 'übernimmt', 'neue', 'Sie!', 'Ratgeber', 'erfahren', 'Sie,', 'welchen', 'Ausnahmefällen', 'Sie', 'selbst', 'Ihren', 'Vertrag', 'kündigen', 'müssen', 'worauf', 'Sie', 'dabei', 'achten', 'sollten.', 'Speedtest:', 'Wie', 'schnell', 'ist', 'Ihr', 'Internet?', 'Haben', 'Sie', 'oft', 'das', 'Gefühl,', 'dass', 'Ihre', 'Internetverbindung', 'zu', 'langsam', 'ist,', 'Stream', 'ruckelt', 'Webseiten', 'nur', 'Schneckentempo', 'geladen', 'werden?', 'Dann', 'prüfen', 'Sie', 'einem', 'Speedtest', 'ob', 'Ihr', 'Internetanschluss', 'tatsächlich', 'die', 'vertraglich', 'vereinbarte', 'Bandbreite', 'liefert', 'lesen', 'Sie,', 'was', 'Sie', 'können,', 'wenn', 'dies', 'nicht', 'Fall', 'ist.', 'Schon', 'gewusst?', 'Viele', 'exklusive', 'Vorteile', 'gibt', 'nur', 'über', 'CHECK24!', 'Cashbacks', 'von', 'bis', 'zu', '370', '€', 'zum', 'Beispiel,', 'die', 'Sie', 'nur', 'bei', 'CHECK24', 'bekommen', 'nicht', 'beim', 'direkt.', 'Top', 'Speed:', 'Holen', 'Sie', 'das', 'Maximum', 'aus', 'Ihrem', 'Anschluss', 'Die', 'Suche', 'nach', 'dem', 'richtigen', 'Vertrag', 'können', 'Sie', 'diesem', 'Tipp', 'abkürzen:', 'Prüfen', 'Sie', 'vor', 'Abschluss', 'eines', 'neuen', 'Vertrages,', 'wie', 'schnell', 'Ihr', 'Anschluss', 'maximal', 'sein', 'kann.', 'Mit', 'Top-Speed', 'Prüfung', 'von', 'CHECK24', 'ist', 'das', 'kein', 'Problem.', 'Wir', 'zeigen', 'Ihnen,', 'ob', 'Sie', '200,', '500', 'oder', 'sogar', '1.000', 'MBit/s', 'surfen', 'können.', 'CHECK24', 'hilft', 'Ihnen', 'bei', 'Wahl', 'passenden', 'Tarifs', 'Verfügbarkeitsprüfung', 'Finden', 'Sie', 'Verfügbarkeits\\xadprüfung', 'heraus,', 'welche', 'Tarife', 'Festnetz', 'Ihrer', 'Adresse', 'verfügbar', 'sind', 'geben', 'Sie', 'dazu', 'Ihre', 'vollständige', 'Adresse', 'ein', 'Sie', 'erhalten', 'umgehend', 'ein', 'zuverlässiges', 'Ergebnis.', 'prüfen', 'Top-Speed', 'testen', 'Sie', 'wollen', 'schneller', 'surfen,', 'aber', 'nicht', 'mehr', 'bezahlen?', 'Prüfen', 'Sie', 'jetzt', 'den', 'Top-Speed', 'Ihrer', 'Adresse', 'finden', 'Sie', 'heraus,', 'welche', 'maximale', 'Geschwindigkeit', 'Ihrer', 'Anschrift', 'angeboten', 'wird.', 'Top-Speed', 'testen', 'Tarife', 'junge', 'Leute', 'Für', 'junge', 'Leute', 'bis', '29', 'Jahre', 'bieten', 'Provider', 'Tarife', 'besonderen', 'Spar-Vorteilen', 'entweder', 'profitieren', 'Sie', 'von', 'einer', 'günstigen', 'Grundgebühr', 'oder', 'besonderen', 'Gutschriften.', 'Jetzt', 'einfach', 'Tarife', 'junge', 'Leute', 'vergleichen.', 'Tarife', 'junge', 'Leute', 'Fragen', 'zum', 'Vergleich', 'von', 'CHECK24', 'Wie', 'findet', 'CHECK24', 'den', 'günstigsten', 'DSL-Tarif?', 'Um', 'den', 'günstigsten', 'Tarif', 'jeden', 'User', 'zu', 'finden,', 'hat', 'CHECK24', 'einen', 'Vergleich', 'entwickelt,', 'die', 'Angebote', 'von', 'über', 'Internetanbietern', 'ganz', 'Deutschland', 'beinhaltet', 'Basis', 'eines', 'Durchschnittspreises', 'vergleicht.', 'User', 'müssen', 'lediglich', 'ihre', 'Adresse', 'Straße,', 'Hausnummer', 'Wohnort', 'eingeben', 'dann', 'prüft', 'Vergleich', 'von', 'CHECK24', 'automatisch,', 'welche', 'welchen', 'Tarifen', 'dort', 'verfügbar', 'sind', 'bestellt', 'werden', 'können.', 'Wie', 'berechnet', 'CHECK24', 'den', 'Durchschnittspreis?', 'Für', 'den', 'Durchschnittspreis', 'verrechnet', 'CHECK24', 'alle', 'innerhalb', 'ersten', 'Monate', 'anfallenden', 'Kosten', 'Vergünstigungen', 'miteinander.', 'Dabei', 'werden', 'zum', 'einen', 'monatliche', 'Kosten', 'wie', 'die', 'Grundgebühr,', 'Miete', 'einen', 'WLAN-Router', 'oder', 'regelmäßige', 'Gutschriften', 'berücksichtigt.', 'Zum', 'anderen', 'fließen', 'auch', 'einmalige', 'Boni', 'wie', 'CHECK24', 'Cashback', 'oder', 'Kosten', 'wie', 'eine', 'Anschlussgebühr', 'ein.', 'Wie', 'kann', 'das', 'Vergleichsergebnis', 'anpassen?', 'Um', 'das', 'Vergleichsergebnis', 'Ihre', 'Bedürfnisse', 'abzustimmen,', 'stehen', 'Ihnen', 'DSL-Vergleich', 'von', 'CHECK24', 'zahlreiche', 'Optionen', 'Filter', 'zur', 'Verfügung.', 'Sie', 'können', 'festlegen,', 'welche', 'Download-Geschwindigkeit', 'Ihr', 'Tarif', 'haben', 'soll,', 'welche', 'Flatrates', 'wie', 'etwa', 'TV', 'oder', 'Mobilfunk', 'beinhaltet', 'sein', 'sollen', 'oder', 'ob', 'WLAN', 'beim', 'Tarif', 'inklusive', 'sein', 'soll.', 'Darüber', 'hinaus', 'können', 'Sie', 'alle', 'Angebote', 'auch', 'nach', 'Vertragslaufzeiten', 'oder', 'Anschlussart', 'wie', 'DSL,', 'Kabel', 'oder', 'Glasfaser', 'filtern', 'sich', 'Tarife', 'junge', 'Leute', 'anzeigen', 'lassen.', 'Was', 'zeichnet', 'den', 'Vergleich', 'von', 'CHECK24', 'aus?', 'CHECK24', 'kann', 'Ihnen', 'immer', 'den', 'günstigsten', 'Tarif', 'anbieten,', 'davon', 'sind', 'wir', 'überzeugt.', 'Sollten', 'Sie', 'nach', 'Abschluss', 'eines', 'Tarifs', 'über', 'unsere', 'Webseite', 'bei', 'einem', 'anderen', 'tatsächlich', 'denselben', 'Tarif', 'günstiger', 'erhalten,', 'erstatten', 'wir', 'Ihnen', 'Rahmen', 'unserer', 'Nirgendwo', 'Günstiger', 'Garantie', 'die', 'effektive', 'Preisdifferenz', 'über', 'einen', 'Zeitraum', 'von', 'Monaten,', 'maximal', '€.', 'Der', 'Vergleich', 'von', 'CHECK24', 'ist', 'einfach,', 'sicher', 'komfortabel.', 'Sollten', 'Sie', 'sich', 'einen', 'Wechsel', 'entscheiden,', 'gehen', 'Sie', 'dank', '100%', 'Funktioniert', 'Garantie', 'kein', 'Risiko', 'ein,', 'offline', 'zu', 'sein.', 'CHECK24', 'wurde', 'seinen', 'Vergleich', 'mehrfach', 'ausgezeichnet,', 'ist', 'Testsieger', 'Bereich', 'Vergleichsportale', 'wird', 'jährlich', 'vom', 'TÜV', 'Süd', 'geprüft', 'zertifiziert.', 'Fragen', 'zu', 'DSL-Tarifen', 'Anbietern', 'Gibt', 'Tarife', 'junge', 'Leute', 'Studenten?', 'Ja!', 'Einige', 'Internetanbieter', 'bieten', 'günstige', 'DSL-Tarife', 'junge', 'Leute', 'Studierende', 'Auszubildende', 'an.', 'DSL-Tarifen', 'junge', 'Leute', 'reduzieren', 'bei', 'den', 'Angeboten', 'junge', 'Leute', 'meist', 'die', 'Grundgebühr,', 'gewähren', 'monatliche', 'Rabatte', 'oder', 'verlangen', 'keine', 'Anschlussgebühr.', 'Wieso', 'sind', 'manche', 'DSL-Anbieter', 'nicht', 'verfügbar?', 'Nicht', 'alle', 'DSL-Anbieter', 'sind', 'bundesweit', 'verfügbar,', 'das', 'trifft', 'nur', 'die', 'Telekom', 'Vodafone', '1&1', 'zu.', 'Der', 'sicherste', 'Weg,', 'herauszufinden,', 'welche', 'DSL-Anbieter', 'verfügbar', 'sind,', 'ist', 'eine', 'adressgenaue', 'anbieterübergreifende', 'Verfügbarkeitsprüfung', 'Dazu', 'genügt', 'die', 'Postleitzahl', 'oder', 'den', 'Ort', 'sowie', 'Straße', 'Hausnummer', 'anzugeben', 'alle', 'dieser', 'Adresse', 'verfügbaren', 'Tarife', 'werden', 'nach', 'wenigen', 'Sekunden', 'angezeigt.', 'Welche', 'Internetgeschwindigkeit', 'ist', 'bei', 'mir', 'verfügbar?', 'Die', 'einem', 'Anschluss', 'verfügbare', 'Internetgeschwindigkeit', 'ist', 'erster', 'Linie', 'vom', 'Netzausbau', 'vor', 'Ort', 'vom', 'Tarifangebot', 'dort', 'verfügbaren', 'Internetanbieter', 'abhängig.', 'Durch', 'die', 'Prüfung', 'maximal', 'verfügbaren', 'Bandbreite', 'können', 'Sie', 'das', 'Geschwindigkeitspotenzial', 'Ihres', 'Internetanschlusses', 'herausfinden.', 'Wie', 'bei', 'Verfügbarkeitsprüfung', 'muss', 'dazu', 'die', 'exakte', 'Adresse', 'eingegeben', 'werden,', 'die', 'das', 'Geschwindigkeitspotenzial', 'Anschlusses', 'ermittelt', 'werden', 'soll.', 'Welche', 'Anschlussarten', 'gibt', 'was', 'unterscheidet', 'sie?', 'Die', 'beiden', 'häufigsten', 'Anschlussarten', 'sind', 'Kabel.', 'Darüber', 'hinaus', 'wird', 'Glasfaser', 'als', 'besonders', 'leistungsfähige', 'Anschlussart', 'Deutschland', 'derzeit', 'ausgebaut.', 'Mit', 'Deutschland', 'weitesten', 'verbreiteten', 'Anschlussart', 'läuft', 'Internetanschluss', 'über', 'den', 'Telefonanschluss.', 'Bei', 'Kabel', 'erfolgt', 'Internetzugang', 'über', 'den', 'TV-Anschluss.', 'über', 'Kabel', 'ermöglicht', 'Regel', 'höhere', 'Geschwindigkeiten', 'als', 'ein', 'Anschluss.', 'Glasfaser', 'ist', 'die', 'schnellste', 'Anschlussart.', 'Zudem', 'gibt', 'auch', 'Internetanschlüsse', 'über', 'die', 'aber', 'eher', 'als', 'Übergangslösung', 'bis', 'zur', 'Schaltung', 'eines', 'vollwertigen', 'Internetanschlusses', 'via', 'DSL,', 'Kabel', 'oder', 'Glasfaser', 'geeignet', 'sind.', 'Frage', 'nicht', 'beantwortet?', 'Ich', 'helfe', 'Ihnen', 'gerne!', 'Hallo,', 'Lara,', 'Ihre', 'digitale', 'DSL-Assistentin', 'Sie', 'können', 'mich', 'jederzeit', 'erreichen.', 'Chat', 'starten', 'Rückruf', 'anfordern', 'Nachricht', 'senden', 'Unsere', 'Partner', 'Auszeichnungen', 'Preisvergleich', 'Ihre', 'Vorteile', 'Vertrag', 'Hilfe', 'zur', 'Tarifwahl', 'Häufige', 'Fragen', 'Tarife', 'Vergleich', 'Internet-Tarife', 'DSL-Vergleich', 'Internet,', 'Festnetz', 'TV', 'Festnetz', 'LTE-Vergleich', 'Speed', 'Vergleich', 'DSL-Verfügbarkeit', 'DSL-Speedtest', 'Schnellstes', 'Internetanbieter', 'wechseln', 'Streaming', 'Hardware', 'Streaming-Dienste', 'Glasfaser', 'DSL-Router', 'WLAN', 'WiFi', 'WLAN', 'aus', 'Steckdose', 'Service', 'Ratgeber', 'Internet-Störung', 'Homeoffice', 'DSL-Cashback', 'Haushaltscenter', 'kündigen', 'CHECK24', 'Deutschlands', 'größtes', 'Vergleichsportal', 'Transparent', 'Wir', 'bieten', 'Ihnen', 'einen', 'Überblick', 'über', 'Leistungen', 'von', 'tausenden', 'Anbietern.', 'Und', 'das', 'alles', 'über', 'eigene', 'Vergleichsrechner.', 'Kostenlos', 'Für', 'Kunden', 'ist', 'unser', 'Service', 'kostenlos.', 'Wir', 'finanzieren', 'uns', 'über', 'Provisionen,', 'die', 'wir', 'Erfolgsfall', 'von', 'Anbietern', 'erhalten.', 'Vertrauenswürdig', 'Bei', 'uns', 'können', 'Kunden', 'erst', 'nach', 'einem', 'Abschluss', 'eine', 'Bewertung', 'abgeben.', 'Dadurch', 'sehen', 'Sie', 'nur', 'echte', 'Kundenbewertungen.', 'Erfahren', 'Seit', '1999', 'haben', 'unsere', 'Experten', 'über', 'Millionen', 'Kunden', 'beim', 'Vergleichen', 'Sparen', 'geholfen.', 'mehr', 'erfahren', 'Über', 'CHECK24', 'Karriere', 'bei', 'CHECK24', 'News', 'Presse', 'Unternehmen', 'Geld', 'verdienen', 'CHECK24', 'Partner', 'Marktplatz-Partner', 'Profis', 'Affiliate-Programm', 'Unser', 'Engagement', 'Nachhaltigkeit', 'CHECK24', 'hilft', 'Kindern', 'CHECK24', 'hilft', 'Natur', 'Wir', 'helfen', 'Ihnen', 'Hilfe', 'Kontakt', 'CHECK24', 'App', 'CHECK24', 'Gutscheine', 'CHECK24', 'Punkte', 'CHECK24', 'Cashback', 'Kontakt', 'Unsere', 'AGB', 'Datenschutz', 'Impressum', 'Verträge', 'kündigen', '©', 'CHECK24', 'Vergleichsportal', 'Telekommunikationsdienste', 'GmbH', 'München.', 'Inhalte', 'unterliegen', 'unserem', 'Copyright.', 'Ohne', 'Cookies', 'ist', 'die', 'Website', 'nur', 'eingeschränkt', 'benutzbar', 'Bitte', 'aktivieren', 'Sie', 'den', 'Einstellungen', 'Ihres', 'Webbrowsers', 'Cookies,', 'CHECK24', 'uneingeschränkt', 'nutzen', 'zu', 'können.', 'Die', 'Seite', 'wurde', 'soeben', 'aktualisiert.', 'Bitte', 'laden', 'Sie', 'die', 'Seite', 'hier', 'neu,', 'damit', 'die', 'Inhalte', 'korrekt', 'angezeigt', 'werden.']\n",
      "\n",
      "106\n",
      "https://www.dieagentur.de/\n",
      "['By', 'continuing', 'use', 'this', 'acknowledge', 'use', 'of', 'cookies', 'detailed', 'Privacy', 'Policy', 'agree', 'Terms', 'of', 'Service.', 'OK']\n",
      "\n",
      "140\n",
      "https://www.emso-gmbh.com/de/\n",
      "['ensure', 'give', 'website.', 'continue', 'assume', 'happy', 'accept']\n",
      "\n",
      "\n",
      "165\n",
      "https://www.systeam.de/\n",
      "['#shadow-root', 'Privatsphäre-Einstellungen', 'Diese', 'Seite', 'nutzt', 'Website-Tracking-Technologien', 'Dritten,', 'ihre', 'Dienste', 'anzubieten,', 'stetig', 'verbessern', 'Werbung', 'entsprechend', 'Interessen', 'Nutzer', 'anzuzeigen.', 'Datenschutzerklärung', 'mehr', 'Ablehnen', 'Alles', 'akzeptieren', 'Powered', 'Usercentrics', 'Consent', 'Management']\n",
      "\n",
      "202\n",
      "https://www.homeway.de/\n",
      "['provide', 'experience,', 'cooperation', 'cookies.', 'This', 'enables', 'websites', 'more', 'user-friendly', 'personalized', 'offers.', 'clicking', '\"Select', 'all\",', 'declare', 'your', 'consent', 'that', 'may', 'technologies.', 'may', 'revoke', 'your', 'consent', 'any', 'effect', 'future.', 'adjust', 'your', 'clicking', '\"Confirm', 'selection\".', 'For', 'further', 'information,', 'please', 'refer', 'policy.', 'Strictly', 'necessary', 'These', 'absolutely', 'necessary', 'websites', 'their', 'functions', 'properly.', 'Without', 'these', 'cookies,', 'services', 'account', 'transaction', 'cannot', 'provided.', 'Functionality', 'cookies:', 'These', 'provide', 'greater', 'convenience', 'allow', 'various', 'functions', 'provided.', 'For', 'example,', 'stored', 'functionality', 'cookies.', 'Statistics', 'cookies:', 'These', 'collect', 'information', 'about', 'how', 'used,', 'e.g.', 'what', 'sites', 'accesses', 'most', 'frequently', 'whether', 'any', 'messages', 'received', 'from', 'These', 'store', 'information', 'which', 'allows', 'identified.', 'The', 'information', 'collected', 'aggregated', 'anonymous.', 'These', 'used', 'improve', 'website’s', 'experience.', 'Cooperation', 'These', 'used', 'context', 'cooperation', 'partners', 'personalised', 'matching', 'your', 'interests', 'evaluate,', 'invoice', 'joint', 'campaigns.', 'Confirm', 'selection']\n",
      "\n",
      "\n",
      "209\n",
      "http://www.spectruma.de/de/\n",
      "['[#OOI_PERSONAL_INFORMATION#]', '12/4/22']\n",
      "\n",
      "\n",
      "215\n",
      "http://www.ibm.com/\n",
      "['[#OOI_PERSONAL_INFORMATION#]']\n",
      "\n",
      "\n",
      "217\n",
      "http://www.ic-innovative.de/\n",
      "['[#OOI_PERSONAL_INFORMATION#]', '(3)', '(2)', '11/25/22']\n",
      "\n",
      "225\n",
      "http://www.softceed.de/\n",
      "['shadow-root', 'Selecting', 'will', 'immediately', 'change', 'Privatsphären-Einstellungen', 'teils', 'Technologien', 'Dritter,', 'Webseite', 'stetig', 'verbessern', 'Multimediainhalte', 'anzuzeigen.', 'Dabei', 'sowie', 'Server-Verbindungen', 'Dritten', 'eingesetzt.', 'Durch', 'Klicken', '\"Allen', 'zustimmen\"', 'erklären', 'damit', 'einverstanden.', 'Einwilligung', 'jederzeit', 'Wirkung', 'Zukunft', 'einzelne', 'Dienste', 'widerrufen.', 'Anpassen', 'ablehnen', 'Allen', 'zustimmen', 'Powered', 'Usercentrics', 'Consent']\n",
      "\n",
      "\n",
      "228\n",
      "http://www.iitl-gmbh.de/\n",
      "['undefined', '(5)', 'ppwp_wp_session', 'Behält', 'Zustände', 'allen', 'Seitenanfragen', 'bei.', '11/14/22']\n",
      "\n",
      "\n",
      "229\n",
      "http://www.sofsystec.de/\n",
      "['Datenschutzeinstellungen', 'Wir', 'nutzen', 'Cookies', 'auf', 'unserer', 'Website.', 'Einige', 'von', 'ihnen', 'sind', 'essenziell,', 'während', 'andere', 'uns', 'helfen,', 'diese', 'Website', 'Ihre', 'Erfahrung', 'zu', 'verbessern.', 'Wenn', 'Sie', 'Jahre', 'sind', 'Ihre', 'Zustimmung', 'zu', 'freiwilligen', 'Diensten', 'geben', 'möchten,', 'müssen', 'Sie', 'Ihre', 'Erziehungsberechtigten', 'Erlaubnis', 'bitten.', 'Wir', 'verwenden', 'Cookies', 'andere', 'Technologien', 'auf', 'unserer', 'Website.', 'Einige', 'von', 'ihnen', 'sind', 'essenziell,', 'während', 'andere', 'uns', 'helfen,', 'diese', 'Website', 'Ihre', 'Erfahrung', 'zu', 'verbessern.', 'Personenbezogene', 'können', 'verarbeitet', 'werden', '(z.', 'B.', 'IP-Adressen),', 'z.', 'B.', 'für', 'personalisierte', 'Anzeigen', 'Inhalte', 'oder', 'Anzeigen-', 'Inhaltsmessung.', 'Weitere', 'Informationen', 'über', 'Verwendung', 'Ihrer', 'finden', 'Sie', 'unserer', 'Datenschutzerklärung', 'Sie', 'können', 'Ihre', 'Auswahl', 'jederzeit', 'Einstellungen', 'widerrufen', 'oder', 'anpassen.', 'Datenschutzeinstellungen', 'Essenziell', 'Externe', 'Medien', 'Alle', 'akzeptieren', 'Speichern', 'Ablehnen', 'Individuelle', 'Datenschutzeinstellungen', 'Cookie-Details', 'Datenschutzerklärung', 'Datenschutzeinstellungen', 'Wenn', 'Sie', 'Jahre', 'sind', 'Ihre', 'Zustimmung', 'zu', 'freiwilligen', 'Diensten', 'geben', 'möchten,', 'müssen', 'Sie', 'Ihre', 'Erziehungsberechtigten', 'Erlaubnis', 'bitten.', 'Wir', 'verwenden', 'Cookies', 'andere', 'Technologien', 'auf', 'unserer', 'Website.', 'Einige', 'von', 'ihnen', 'sind', 'essenziell,', 'während', 'andere', 'uns', 'helfen,', 'diese', 'Website', 'Ihre', 'Erfahrung', 'zu', 'verbessern.', 'Personenbezogene', 'können', 'verarbeitet', 'werden', '(z.', 'B.', 'IP-Adressen),', 'z.', 'B.', 'für', 'personalisierte', 'Anzeigen', 'Inhalte', 'oder', 'Anzeigen-', 'Inhaltsmessung.', 'Weitere', 'Informationen', 'über', 'Verwendung', 'Ihrer', 'finden', 'Sie', 'unserer', 'Datenschutzerklärung', 'Hier', 'finden', 'Sie', 'eine', 'Übersicht', 'über', 'alle', 'verwendeten', 'Cookies.', 'Sie', 'können', 'Ihre', 'Einwilligung', 'zu', 'ganzen', 'Kategorien', 'geben', 'oder', 'sich', 'weitere', 'Informationen', 'anzeigen', 'lassen', 'nur', 'bestimmte', 'Cookies', 'auswählen.', 'Alle', 'akzeptieren', 'Speichern', 'Nur', 'essenzielle', 'Cookies', 'akzeptieren', 'Zurück', 'Datenschutzeinstellungen', 'Essenziell', '(1)', 'Essenzielle', 'Cookies', 'ermöglichen', 'grundlegende', 'Funktionen', 'sind', 'für', 'einwandfreie', 'Funktion', 'Website', 'erforderlich.', 'Cookie-Informationen', 'anzeigen', 'Cookie-Informationen', 'ausblenden', 'Borlabs', 'Cookie', 'Anbieter', 'Eigentümer', 'dieser', 'Website', 'Zweck', 'Speichert', 'Einstellungen', 'Besucher,', 'Cookie', 'von', 'Borlabs', 'Cookie', 'ausgewählt', 'wurden.', 'Cookie', 'borlabs-cookie', 'Cookie', 'Laufzeit', 'Jahr', 'Externe', 'Medien', '(5)', 'Externe', 'Medien', 'Inhalte', 'von', 'Videoplattformen', 'Social-Media-Plattformen', 'werden', 'standardmäßig', 'blockiert.', 'Wenn', 'Cookies', 'von', 'externen', 'Medien', 'akzeptiert', 'werden,', 'bedarf', 'Zugriff', 'auf', 'diese', 'Inhalte', 'keiner', 'manuellen', 'Einwilligung', 'mehr.', 'Cookie-Informationen', 'anzeigen', 'Cookie-Informationen', 'ausblenden', 'Akzeptieren', 'Instagram', 'Instagram', 'Anbieter', 'Meta', 'Platforms', 'Ireland', 'Limited,', 'Grand', 'Canal', 'Square,', 'Dublin', 'Ireland', 'Zweck', 'Wird', 'verwendet,', 'Instagram-Inhalte', 'zu', 'entsperren.', 'Datenschutzerklärung', 'https://www.instagram.com/legal/privacy/', 'Host(s)', '.instagram.com', 'Cookie', 'pigeon_state', 'Cookie', 'Laufzeit', 'Sitzung', 'Akzeptieren', 'OpenStreetMap', 'OpenStreetMap', 'Anbieter', 'Openstreetmap', 'Foundation,', 'John’s', 'Centre,', 'Cowley', 'Road,', 'Cambridge', 'CB4', '0WS,', 'United', 'Kingdom', 'Zweck', 'Wird', 'verwendet,', 'OpenStreetMap-Inhalte', 'zu', 'entsperren.', 'Datenschutzerklärung', 'https://wiki.osmfoundation.org/wiki/Privacy_Policy', 'Host(s)', '.openstreetmap.org', 'Cookie', '_osm_location,', '_osm_session,', '_osm_totp_token,', '_osm_welcome,', '_pk_id.,', '_pk_ref.,', '_pk_ses.,', 'qos_token', 'Cookie', 'Laufzeit', 'Jahre', 'Akzeptieren', 'Anbieter', 'International', 'Company,', 'One', 'Cumberland', 'Place,', 'Fenian', 'Street,', 'Dublin', 'D02', 'AX07,', 'Ireland', 'Zweck', 'Wird', 'verwendet,', 'Twitter-Inhalte', 'zu', 'entsperren.', 'Datenschutzerklärung', 'https://twitter.com/privacy', 'Host(s)', '.twimg.com,', '.twitter.com', 'Cookie', '__widgetsettings,', 'local_storage_support_test', 'Cookie', 'Laufzeit', 'Unbegrenzt', 'Akzeptieren', 'Vimeo', 'Vimeo', 'Anbieter', 'Vimeo', 'Inc.,', '555', 'West', '18th', 'Street,', 'New', 'York,', 'New', 'York', '10011,', 'USA', 'Zweck', 'Wird', 'verwendet,', 'Vimeo-Inhalte', 'zu', 'entsperren.', 'Datenschutzerklärung', 'https://vimeo.com/privacy', 'Host(s)', 'player.vimeo.com', 'Cookie', 'vuid', 'Cookie', 'Laufzeit', 'Jahre', 'Akzeptieren', 'YouTube', 'YouTube', 'Anbieter', 'Google', 'Ireland', 'Limited,', 'Gordon', 'House,', 'Barrow', 'Street,', 'Dublin', 'Ireland', 'Zweck', 'Wird', 'verwendet,', 'YouTube-Inhalte', 'zu', 'entsperren.', 'Datenschutzerklärung', 'https://policies.google.com/privacy', 'Host(s)', 'google.com', 'Cookie', 'NID', 'Cookie', 'Laufzeit', 'Monate', 'powered', 'Borlabs', 'Cookie', 'Datenschutzerklärung']\n",
      "\n",
      "235\n",
      "http://www.indv.de/\n",
      "['cookie-settings.cookie.youtube.title', 'cookie-settings.cookie.youtube.description']\n",
      "\n",
      "\n",
      "242\n",
      "http://www.all-websolutions.de\n",
      "['consent-requiring', 'cookies', 'certain', 'features.', 'When', '\"Accept', 'All\"', 'these', 'features', 'enabled', '(consent).', 'After', 'given,', 'involved', 'companies', 'process', 'personal', 'various', 'purposes.', 'Detailed', 'purpose,', 'legal', 'companies', 'found', '\"More\"', 'policy.', 'revoke', 'time.', 'policy']\n",
      "\n",
      "\n",
      "243\n",
      "http://www.alphasoft.de/\n",
      "['#shadow-root', 'Selecting', 'option', 'immediately', 'Privatsphäre-Informationen', 'Drittanbieter', 'nutzen', '(z.', 'B.', 'Cookies),', 'Informationen', 'Nutzergeräten', 'speichern', 'abzurufen,', 'persönliche', 'Daten,', 'IP-Adressen', 'oder', 'Browserdaten', 'verarbeiten.', 'Verarbeitung', 'Ihrer', 'persönlichen', 'unten', 'aufgelisteten', 'Verarbeitungszwecke', 'zustimmen.', 'Alternativ', 'bevorzugten', 'Einstellungen', 'vornehmen,', 'bevor', 'zustimmen', 'oder', 'ablehnen.', 'Bitte', 'beachten', 'Sie,', 'dass', 'manche', 'Anbieter', 'basierend', 'legitimen', 'Geschäftsinteressen', 'persönlichen', 'verarbeiten,', 'ohne', 'nach', 'Ihrer', 'Zustimmung', 'fragen.', 'Um', 'Recht', 'Widerspruch', 'gegen', 'Verarbeitung', 'Basis', 'legitimen', 'Geschäftsinteressen', 'auszuüben,', 'sehen', 'bitte', 'Anbieterliste', 'Privatsphäre-Einstellungen', 'jederzeit', 'ändern', 'oder', 'Zustimmung', 'zurückziehen,', 'indem', 'Privacy', 'Button', 'klicken.', 'Datenschutzerklärung', 'Anbieterliste', 'Einstellungen', 'verwalten', 'Verarbeitungszwecke,', 'nicht', 'IAB', 'definiert', 'wurden', 'Essenziell', 'Funktionell', 'Marketing', 'Einstellungen', 'speichern', 'Alles', 'ablehnen']\n",
      "\n",
      "247\n",
      "http://www.amadeus-agentur.com\n",
      "['3/17/23']\n",
      "\n",
      "\n",
      "255\n",
      "http://www.antsandelephants.de\n",
      "['Selecting', 'option', 'immediately', 'the', 'Privatsphäre-Einstellungen', 'verwendet', 'zustimmungspflichtige', 'cookies', 'Drittanbietern,', 'bestimmte', 'Funktionen', 'integrieren.', 'Wenn', 'Sie', 'Schaltfläche', '„Alle', 'akzeptieren“', 'klicken,', 'werden', 'diese', 'Funktionen', 'aktiviert', '(Zustimmung).', 'Nach', 'erfolgter', 'Einwilligung', 'verarbeiten', 'beteiligten', 'Drittunternehmen', 'personenbezogenen', 'verschiedene', 'Zwecke.', 'Detaillierte', 'Informationen', 'Zweck,', 'Rechtsgrundlage', 'Drittunternehmen', 'finden', 'Sie', 'unter', 'Button', '„Mehr“', 'Datenschutzerklärung.', 'Sie', 'können', 'Einwilligung', 'jederzeit', 'widerrufen.', 'eRecht24', 'Mehr', 'Alles', 'akzeptieren']\n",
      "\n",
      "19\n"
     ]
    }
   ],
   "source": [
    "c = 0\n",
    "for i in range(len(dev_dataset_refined_loaded_df)):\n",
    "    row = dev_dataset_refined_loaded_df.loc[i]\n",
    "    if len(get_words_in_removed_gdpr_that_are_not_in_page_source_html(row['page_source_html'], row['content_removed'])) > 0:\n",
    "        c += 1\n",
    "        print(\"\")\n",
    "        print(i)\n",
    "        print(row['url'])\n",
    "        print(get_words_in_removed_gdpr_that_are_not_in_page_source_html(row['page_source_html'], row['content_removed']))\n",
    "        print(\"\")\n",
    "print(c)"
   ],
   "metadata": {
    "collapsed": false,
    "ExecuteTime": {
     "end_time": "2023-11-20T14:49:44.644741525Z",
     "start_time": "2023-11-20T14:49:40.302492864Z"
    }
   }
  },
  {
   "cell_type": "markdown",
   "source": [
    "## Collect indizes of websites that need to be removed:\n",
    "Check ReadMe for explanation of why I removed websites"
   ],
   "metadata": {
    "collapsed": false
   }
  },
  {
   "cell_type": "code",
   "execution_count": 12,
   "outputs": [],
   "source": [
    "remove_idx = [\n",
    "    7,\n",
    "    60,\n",
    "    89,\n",
    "    116,\n",
    "    134,\n",
    "    139,\n",
    "    141,\n",
    "    196,\n",
    "    197,\n",
    "    229\n",
    "]"
   ],
   "metadata": {
    "collapsed": false
   }
  },
  {
   "cell_type": "markdown",
   "source": [
    "## Remove problematic websites from refined dataset."
   ],
   "metadata": {
    "collapsed": false
   }
  },
  {
   "cell_type": "code",
   "execution_count": 13,
   "outputs": [
    {
     "name": "stdout",
     "output_type": "stream",
     "text": [
      "300\n"
     ]
    }
   ],
   "source": [
    "dev_dataset_refined_loaded_df = dev_dataset_refined_loaded_df.drop(remove_idx)\n",
    "dev_dataset_refined_loaded_df.reset_index(inplace=True)\n",
    "print(len(dev_dataset_refined_loaded_df))"
   ],
   "metadata": {
    "collapsed": false
   }
  },
  {
   "cell_type": "markdown",
   "source": [
    "## Store refined dev dataset\n",
    "Make sure to delete all subfolders from dev_dataset_refined before storing the new one where we removed some samples. Otherwise the removed ones will stay"
   ],
   "metadata": {
    "collapsed": false
   }
  },
  {
   "cell_type": "code",
   "execution_count": 14,
   "outputs": [],
   "source": [
    "store_refined_dataset(dev_dataset_refined_loaded_df, dataset_path=config['dev_dataset_refined_path'])"
   ],
   "metadata": {
    "collapsed": false
   }
  },
  {
   "cell_type": "markdown",
   "source": [
    "## Split into train+validation set and test set\n",
    "I have 300 samples of valid german websites. 250 are my train/validation set, 50 get set aside to be only used for final testing."
   ],
   "metadata": {
    "collapsed": false
   }
  },
  {
   "cell_type": "code",
   "execution_count": 15,
   "outputs": [],
   "source": [
    "df = GDPRDataset(dataset_dir=config['dev_dataset_refined_path']).dataframe\n",
    "# Split into train and test set\n",
    "indices = list(range(len(df)))\n",
    "random.seed(420)\n",
    "random.shuffle(indices)\n",
    "train_indices = indices[:-50]\n",
    "test_indices = indices[-50:]\n",
    "train_df = df.iloc[train_indices]\n",
    "train_df.reset_index(inplace=True, drop=True)\n",
    "test_df = df.iloc[test_indices]\n",
    "test_df.reset_index(inplace=True, drop=True)"
   ],
   "metadata": {
    "collapsed": false
   }
  },
  {
   "cell_type": "code",
   "execution_count": 16,
   "outputs": [],
   "source": [
    "store_refined_dataset(train_df, dataset_path=config['train_dataset_refined_path'])\n",
    "store_refined_dataset(test_df, dataset_path=config['test_dataset_refined_path'])"
   ],
   "metadata": {
    "collapsed": false
   }
  },
  {
   "cell_type": "code",
   "execution_count": 17,
   "outputs": [
    {
     "data": {
      "text/plain": "29"
     },
     "execution_count": 17,
     "metadata": {},
     "output_type": "execute_result"
    }
   ],
   "source": [
    "len(test_df[test_df['contains_GDPR']])"
   ],
   "metadata": {
    "collapsed": false
   }
  }
 ],
 "metadata": {
  "kernelspec": {
   "display_name": "Python 3",
   "language": "python",
   "name": "python3"
  },
  "language_info": {
   "codemirror_mode": {
    "name": "ipython",
    "version": 2
   },
   "file_extension": ".py",
   "mimetype": "text/x-python",
   "name": "python",
   "nbconvert_exporter": "python",
   "pygments_lexer": "ipython2",
   "version": "2.7.6"
  }
 },
 "nbformat": 4,
 "nbformat_minor": 0
}
