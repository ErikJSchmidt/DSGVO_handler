{
 "cells": [
  {
   "cell_type": "code",
   "execution_count": 20,
   "metadata": {
    "collapsed": true,
    "ExecuteTime": {
     "end_time": "2023-12-10T15:54:31.102062135Z",
     "start_time": "2023-12-10T15:54:30.587373839Z"
    }
   },
   "outputs": [
    {
     "name": "stderr",
     "output_type": "stream",
     "text": [
      "[nltk_data] Downloading package punkt to /home/erik/nltk_data...\n",
      "[nltk_data]   Package punkt is already up-to-date!\n"
     ]
    }
   ],
   "source": [
    "import json\n",
    "from pathlib import Path\n",
    "from GDPRDataset import GDPRDataset\n",
    "import os\n",
    "import numpy as np\n",
    "import matplotlib.pyplot as plt\n",
    "import pandas as pd\n",
    "from nltk.tokenize import word_tokenize\n",
    "import nltk\n",
    "nltk.download(\"punkt\")\n",
    "from bs4 import BeautifulSoup"
   ]
  },
  {
   "cell_type": "markdown",
   "source": [
    "\n",
    "# Load config\n",
    "Load config for getting stats on dev dataset"
   ],
   "metadata": {
    "collapsed": false
   }
  },
  {
   "cell_type": "code",
   "execution_count": 2,
   "outputs": [],
   "source": [
    "config_file = open(f\"{str(Path.cwd())}/analysis_dev_datasets_config.json\")\n",
    "config = json.load(config_file)\n",
    "config_file.close()"
   ],
   "metadata": {
    "collapsed": false,
    "ExecuteTime": {
     "end_time": "2023-12-10T14:06:12.367580489Z",
     "start_time": "2023-12-10T14:06:12.248689186Z"
    }
   }
  },
  {
   "cell_type": "markdown",
   "source": [
    "# Get language distribution"
   ],
   "metadata": {
    "collapsed": false
   }
  },
  {
   "cell_type": "code",
   "execution_count": 3,
   "outputs": [
    {
     "data": {
      "text/plain": "             url  content  page_source_html  content_removed  \\\nlanguage                                                       \n__label__da    3        3                 3                1   \n__label__de  310      310               310              138   \n__label__en  111      111               111               48   \n__label__nl    3        3                 3                1   \n__label__th    1        1                 1                0   \n\n             page_source_cleaned_html  page_source_removed_html  contains_GDPR  \nlanguage                                                                        \n__label__da                         1                         1              3  \n__label__de                       138                       138            310  \n__label__en                        48                        48            111  \n__label__nl                         1                         1              3  \n__label__th                         0                         0              1  ",
      "text/html": "<div>\n<style scoped>\n    .dataframe tbody tr th:only-of-type {\n        vertical-align: middle;\n    }\n\n    .dataframe tbody tr th {\n        vertical-align: top;\n    }\n\n    .dataframe thead th {\n        text-align: right;\n    }\n</style>\n<table border=\"1\" class=\"dataframe\">\n  <thead>\n    <tr style=\"text-align: right;\">\n      <th></th>\n      <th>url</th>\n      <th>content</th>\n      <th>page_source_html</th>\n      <th>content_removed</th>\n      <th>page_source_cleaned_html</th>\n      <th>page_source_removed_html</th>\n      <th>contains_GDPR</th>\n    </tr>\n    <tr>\n      <th>language</th>\n      <th></th>\n      <th></th>\n      <th></th>\n      <th></th>\n      <th></th>\n      <th></th>\n      <th></th>\n    </tr>\n  </thead>\n  <tbody>\n    <tr>\n      <th>__label__da</th>\n      <td>3</td>\n      <td>3</td>\n      <td>3</td>\n      <td>1</td>\n      <td>1</td>\n      <td>1</td>\n      <td>3</td>\n    </tr>\n    <tr>\n      <th>__label__de</th>\n      <td>310</td>\n      <td>310</td>\n      <td>310</td>\n      <td>138</td>\n      <td>138</td>\n      <td>138</td>\n      <td>310</td>\n    </tr>\n    <tr>\n      <th>__label__en</th>\n      <td>111</td>\n      <td>111</td>\n      <td>111</td>\n      <td>48</td>\n      <td>48</td>\n      <td>48</td>\n      <td>111</td>\n    </tr>\n    <tr>\n      <th>__label__nl</th>\n      <td>3</td>\n      <td>3</td>\n      <td>3</td>\n      <td>1</td>\n      <td>1</td>\n      <td>1</td>\n      <td>3</td>\n    </tr>\n    <tr>\n      <th>__label__th</th>\n      <td>1</td>\n      <td>1</td>\n      <td>1</td>\n      <td>0</td>\n      <td>0</td>\n      <td>0</td>\n      <td>1</td>\n    </tr>\n  </tbody>\n</table>\n</div>"
     },
     "execution_count": 3,
     "metadata": {},
     "output_type": "execute_result"
    }
   ],
   "source": [
    "dev_dataset_df = GDPRDataset(config['dev_dataset_path']).dataframe\n",
    "languages = set(dev_dataset_df[\"language\"].values)\n",
    "dev_dataset_df.groupby(\"language\").count().head()"
   ],
   "metadata": {
    "collapsed": false,
    "ExecuteTime": {
     "end_time": "2023-12-10T14:06:24.740109227Z",
     "start_time": "2023-12-10T14:06:23.629330972Z"
    }
   }
  },
  {
   "cell_type": "code",
   "execution_count": 17,
   "outputs": [
    {
     "data": {
      "text/plain": "188"
     },
     "execution_count": 17,
     "metadata": {},
     "output_type": "execute_result"
    }
   ],
   "source": [
    "len(dev_dataset_df[dev_dataset_df['contains_GDPR'] == True])"
   ],
   "metadata": {
    "collapsed": false,
    "ExecuteTime": {
     "end_time": "2023-12-10T15:34:14.050218450Z",
     "start_time": "2023-12-10T15:34:13.880984979Z"
    }
   }
  },
  {
   "cell_type": "markdown",
   "source": [
    "# Distribution of website lengths"
   ],
   "metadata": {
    "collapsed": false
   }
  },
  {
   "cell_type": "code",
   "execution_count": 4,
   "outputs": [
    {
     "name": "stdout",
     "output_type": "stream",
     "text": [
      "The refined dev dataset contains 300 samples\n"
     ]
    },
    {
     "data": {
      "text/plain": "        language                                url  \\\n0    __label__de  https://www.mueller-ecommerce.de/   \n1    __label__de               http://cs-media.one/   \n10   __label__de             https://www.adalis.de/   \n100  __label__de  http://www.globus-development.de/   \n101  __label__de                 http://www.gisa.de   \n\n                                               content  \\\n0                    Impressum | Datenschutzerklärung    \n1       Ihre Privatsphäre ist uns wichtig Diese Web...   \n10              top of page Weiter zu den Hauptinha...   \n100  Parkdomain Bei der aufgerufenen Domain handelt...   \n101      Email: hiltrud@cybs.io  Tel: +49 (0) 9287 ...   \n\n                                      page_source_html  \\\n0    <html><head><meta charset=\"utf-8\">\\n</head><bo...   \n1    <html lang=\"de\" class=\" js flexbox flexboxlega...   \n10   <html lang=\"de\"><head>\\n  \\n  <meta charset=\"u...   \n100  <html lang=\"de\"><head><title>Parkdomain - GIGA...   \n101  <html lang=\"en\"><head>\\n  <meta name=\"generato...   \n\n                                       content_removed  \\\n0                                                 None   \n1      Ihre Privatsphäre ist uns wichtig   Diese We...   \n10       Zustimmen  Einstellungen   Wir verwenden C...   \n100                                               None   \n101                                               None   \n\n                              page_source_cleaned_html  \\\n0                                                 None   \n1    <html lang=\"de\"\\n      class=\" js flexbox flex...   \n10   <html lang=\"de\">\\n<head>\\n\\n    <meta charset=...   \n100                                               None   \n101                                               None   \n\n                              page_source_removed_html  contains_GDPR  \n0                                                 None          False  \n1    <div class=\"privacypolicies-com---reset privac...           True  \n10   <div class=\"_2svEM _2f7c5 _4Ck7e\" data-hook=\"c...           True  \n100                                               None          False  \n101                                               None          False  ",
      "text/html": "<div>\n<style scoped>\n    .dataframe tbody tr th:only-of-type {\n        vertical-align: middle;\n    }\n\n    .dataframe tbody tr th {\n        vertical-align: top;\n    }\n\n    .dataframe thead th {\n        text-align: right;\n    }\n</style>\n<table border=\"1\" class=\"dataframe\">\n  <thead>\n    <tr style=\"text-align: right;\">\n      <th></th>\n      <th>language</th>\n      <th>url</th>\n      <th>content</th>\n      <th>page_source_html</th>\n      <th>content_removed</th>\n      <th>page_source_cleaned_html</th>\n      <th>page_source_removed_html</th>\n      <th>contains_GDPR</th>\n    </tr>\n  </thead>\n  <tbody>\n    <tr>\n      <th>0</th>\n      <td>__label__de</td>\n      <td>https://www.mueller-ecommerce.de/</td>\n      <td>Impressum | Datenschutzerklärung</td>\n      <td>&lt;html&gt;&lt;head&gt;&lt;meta charset=\"utf-8\"&gt;\\n&lt;/head&gt;&lt;bo...</td>\n      <td>None</td>\n      <td>None</td>\n      <td>None</td>\n      <td>False</td>\n    </tr>\n    <tr>\n      <th>1</th>\n      <td>__label__de</td>\n      <td>http://cs-media.one/</td>\n      <td>Ihre Privatsphäre ist uns wichtig Diese Web...</td>\n      <td>&lt;html lang=\"de\" class=\" js flexbox flexboxlega...</td>\n      <td>Ihre Privatsphäre ist uns wichtig   Diese We...</td>\n      <td>&lt;html lang=\"de\"\\n      class=\" js flexbox flex...</td>\n      <td>&lt;div class=\"privacypolicies-com---reset privac...</td>\n      <td>True</td>\n    </tr>\n    <tr>\n      <th>10</th>\n      <td>__label__de</td>\n      <td>https://www.adalis.de/</td>\n      <td>top of page Weiter zu den Hauptinha...</td>\n      <td>&lt;html lang=\"de\"&gt;&lt;head&gt;\\n  \\n  &lt;meta charset=\"u...</td>\n      <td>Zustimmen  Einstellungen   Wir verwenden C...</td>\n      <td>&lt;html lang=\"de\"&gt;\\n&lt;head&gt;\\n\\n    &lt;meta charset=...</td>\n      <td>&lt;div class=\"_2svEM _2f7c5 _4Ck7e\" data-hook=\"c...</td>\n      <td>True</td>\n    </tr>\n    <tr>\n      <th>100</th>\n      <td>__label__de</td>\n      <td>http://www.globus-development.de/</td>\n      <td>Parkdomain Bei der aufgerufenen Domain handelt...</td>\n      <td>&lt;html lang=\"de\"&gt;&lt;head&gt;&lt;title&gt;Parkdomain - GIGA...</td>\n      <td>None</td>\n      <td>None</td>\n      <td>None</td>\n      <td>False</td>\n    </tr>\n    <tr>\n      <th>101</th>\n      <td>__label__de</td>\n      <td>http://www.gisa.de</td>\n      <td>Email: hiltrud@cybs.io  Tel: +49 (0) 9287 ...</td>\n      <td>&lt;html lang=\"en\"&gt;&lt;head&gt;\\n  &lt;meta name=\"generato...</td>\n      <td>None</td>\n      <td>None</td>\n      <td>None</td>\n      <td>False</td>\n    </tr>\n  </tbody>\n</table>\n</div>"
     },
     "execution_count": 4,
     "metadata": {},
     "output_type": "execute_result"
    }
   ],
   "source": [
    "refined_df = GDPRDataset(config['dev_dataset_refined_path']).dataframe\n",
    "print('The refined dev dataset contains', len(refined_df), 'samples')\n",
    "refined_df.head()"
   ],
   "metadata": {
    "collapsed": false,
    "ExecuteTime": {
     "end_time": "2023-12-10T14:07:12.421966141Z",
     "start_time": "2023-12-10T14:07:11.419800689Z"
    }
   }
  },
  {
   "cell_type": "code",
   "execution_count": null,
   "outputs": [],
   "source": [],
   "metadata": {
    "collapsed": false
   }
  },
  {
   "cell_type": "markdown",
   "source": [
    "# Get average GDPR content to total content ratio"
   ],
   "metadata": {
    "collapsed": false
   }
  },
  {
   "cell_type": "code",
   "execution_count": 5,
   "outputs": [
    {
     "name": "stdout",
     "output_type": "stream",
     "text": [
      "overall ratio 9.506278464822449e-05\n",
      "0.13154648892100967\n",
      "299\n"
     ]
    }
   ],
   "source": [
    "# Word count ratio overall\n",
    "word_ratios = []\n",
    "total_len_sum = 0\n",
    "gdpr_len_sum = 0\n",
    "for i in range(len(refined_df)):\n",
    "    if i != 97:  # exclude the one where I manually extracted a longer text, than selenium got for the total website\n",
    "        word_content_len = len(word_tokenize(refined_df.iloc[i]['content']))\n",
    "        total_len_sum += word_content_len\n",
    "        removed_content = refined_df.iloc[i]['content_removed']\n",
    "        if removed_content:\n",
    "            word_gdpr_content_len = len(word_tokenize(removed_content))\n",
    "        else:\n",
    "            word_gdpr_content_len = 0\n",
    "        gdpr_len_sum = + word_gdpr_content_len\n",
    "        ratio = word_gdpr_content_len / word_content_len\n",
    "        word_ratios.append(ratio)\n",
    "\n",
    "print('overall ratio', str(gdpr_len_sum / total_len_sum))\n",
    "print(np.sum(word_ratios) / len(word_ratios))\n",
    "print(len(word_ratios))"
   ],
   "metadata": {
    "collapsed": false,
    "ExecuteTime": {
     "end_time": "2023-12-10T14:07:47.081483525Z",
     "start_time": "2023-12-10T14:07:44.280369318Z"
    }
   }
  },
  {
   "cell_type": "code",
   "execution_count": 7,
   "outputs": [
    {
     "name": "stdout",
     "output_type": "stream",
     "text": [
      "overall ratio 9.79750516328522e-05\n",
      "0.47693047721126464\n"
     ]
    }
   ],
   "source": [],
   "metadata": {
    "collapsed": false,
    "ExecuteTime": {
     "end_time": "2023-11-21T11:41:34.009056115Z",
     "start_time": "2023-11-21T11:41:33.748903705Z"
    }
   }
  },
  {
   "cell_type": "code",
   "execution_count": 6,
   "outputs": [
    {
     "name": "stdout",
     "output_type": "stream",
     "text": [
      "overall ratio (GDFPR only) 0.00013069798665692374\n",
      "0.2626208261716125\n"
     ]
    }
   ],
   "source": [
    "# Word count ratio GDPR only\n",
    "word_ratios = []\n",
    "gdpr_only_df = refined_df[refined_df['contains_GDPR'] == True]\n",
    "total_len_sum = 0\n",
    "gdpr_len_sum = 0\n",
    "for i in range(len(gdpr_only_df)):\n",
    "    if i != 97:  # exclude the one where I manually extracted a longer text, than selenium got for the total website\n",
    "        word_content_len = len(word_tokenize(gdpr_only_df.iloc[i]['content']))\n",
    "        total_len_sum += word_content_len\n",
    "        word_gdpr_content_len = len(word_tokenize(gdpr_only_df.iloc[i]['content_removed']))\n",
    "        gdpr_len_sum = + word_gdpr_content_len\n",
    "        ratio = word_gdpr_content_len / word_content_len\n",
    "        word_ratios.append(ratio)\n",
    "\n",
    "print('overall ratio (GDFPR only)', str(gdpr_len_sum / total_len_sum))\n",
    "print(np.sum(word_ratios) / len(word_ratios))"
   ],
   "metadata": {
    "collapsed": false,
    "ExecuteTime": {
     "end_time": "2023-12-10T14:08:21.482460576Z",
     "start_time": "2023-12-10T14:08:18.119381038Z"
    }
   }
  },
  {
   "cell_type": "code",
   "execution_count": 7,
   "outputs": [
    {
     "name": "stdout",
     "output_type": "stream",
     "text": [
      "index:122\n",
      "max:1.640081799591002\n",
      "150\n"
     ]
    },
    {
     "data": {
      "text/plain": "0.8810068649885584"
     },
     "execution_count": 7,
     "metadata": {},
     "output_type": "execute_result"
    }
   ],
   "source": [
    "print(\"index:\" + str(word_ratios.index(np.max(word_ratios))))\n",
    "print(\"max:\" + str(np.max(word_ratios)))\n",
    "print(len(word_ratios))\n",
    "word_ratios = list(filter(lambda x: x<1, word_ratios))\n",
    "len(word_ratios)\n",
    "np.max(word_ratios)"
   ],
   "metadata": {
    "collapsed": false,
    "ExecuteTime": {
     "end_time": "2023-12-10T14:08:25.237401794Z",
     "start_time": "2023-12-10T14:08:25.158332076Z"
    }
   }
  },
  {
   "cell_type": "code",
   "execution_count": 13,
   "outputs": [
    {
     "data": {
      "text/plain": "<Figure size 640x480 with 1 Axes>",
      "image/png": "[encoded data removed]"
     },
     "metadata": {},
     "output_type": "display_data"
    }
   ],
   "source": [
    "ratios_percent = [x*100 for x in word_ratios]\n",
    "plt.style.use('Solarize_Light2')\n",
    "plt.hist(ratios_percent, bins=10)\n",
    "plt.title(\"DSGVO ratio in positive samples\")\n",
    "plt.xlabel(\"Percent of the website that is DSGVO text\")\n",
    "plt.ylabel(\"Number of websites\")\n",
    "plt.savefig(f\"{config['save_figures_to_path']}/DSGVO_text_ratio.png\")"
   ],
   "metadata": {
    "collapsed": false,
    "ExecuteTime": {
     "end_time": "2023-12-10T14:24:34.209507847Z",
     "start_time": "2023-12-10T14:24:33.321152816Z"
    }
   }
  },
  {
   "cell_type": "code",
   "execution_count": 4,
   "outputs": [
    {
     "name": "stdout",
     "output_type": "stream",
     "text": [
      "overall ratio 0.00012488973343155886\n",
      "0.29372289288411324\n"
     ]
    }
   ],
   "source": [
    "# String len ratio\n",
    "ratios = []\n",
    "gdpr_only_df = refined_df[refined_df['contains_GDPR'] == True]\n",
    "a = 0\n",
    "b = 0\n",
    "for i in range(len(gdpr_only_df)):\n",
    "    if i != 97: # exclude the one where I manually extracted a longer text, than selenium got for the total website\n",
    "        total_content_len = len(gdpr_only_df.iloc[i]['content'])\n",
    "        a += total_content_len\n",
    "        gdpr_content_len = len(gdpr_only_df.iloc[i]['content_removed'])\n",
    "        b =+ gdpr_content_len\n",
    "        ratio = gdpr_content_len / total_content_len\n",
    "        ratios.append(ratio)\n",
    "\n",
    "print('overall ratio', str(b/a))\n",
    "print(np.sum(ratios)/len(ratios))"
   ],
   "metadata": {
    "collapsed": false,
    "ExecuteTime": {
     "end_time": "2023-11-13T14:05:31.477671441Z",
     "start_time": "2023-11-13T14:05:31.335673663Z"
    }
   }
  },
  {
   "cell_type": "code",
   "execution_count": 29,
   "outputs": [
    {
     "data": {
      "text/plain": "<Figure size 640x480 with 1 Axes>",
      "image/png": "[encoded data removed]"
     },
     "metadata": {},
     "output_type": "display_data"
    }
   ],
   "source": [
    "ratios_percent = [x*100 for x in ratios]\n",
    "plt.hist(ratios_percent, bins=10)\n",
    "plt.title(\"DSGVO text ratio\")\n",
    "plt.xlabel(\"Percent of the website that is DSGVO text\")\n",
    "plt.ylabel(\"Number of websites\")\n",
    "plt.savefig(f\"{config['save_figures_to_path']}/DSGVO_text_ratio.png\")"
   ],
   "metadata": {
    "collapsed": false
   }
  },
  {
   "cell_type": "code",
   "execution_count": 14,
   "outputs": [
    {
     "data": {
      "text/plain": "{'whiskers': [<matplotlib.lines.Line2D at 0x7f2f3aadb880>,\n  <matplotlib.lines.Line2D at 0x7f2f3aadbb20>],\n 'caps': [<matplotlib.lines.Line2D at 0x7f2f3aadbdc0>,\n  <matplotlib.lines.Line2D at 0x7f2f3a7d80a0>],\n 'boxes': [<matplotlib.lines.Line2D at 0x7f2f3aadb5e0>],\n 'medians': [<matplotlib.lines.Line2D at 0x7f2f3a7d8340>],\n 'fliers': [<matplotlib.lines.Line2D at 0x7f2f3a7d85e0>],\n 'means': []}"
     },
     "execution_count": 14,
     "metadata": {},
     "output_type": "execute_result"
    },
    {
     "data": {
      "text/plain": "<Figure size 640x480 with 1 Axes>",
      "image/png": "[encoded data removed]"
     },
     "metadata": {},
     "output_type": "display_data"
    }
   ],
   "source": [
    "plt.boxplot(ratios)"
   ],
   "metadata": {
    "collapsed": false
   }
  },
  {
   "cell_type": "markdown",
   "source": [
    "# Dev Dataset simple stats"
   ],
   "metadata": {
    "collapsed": false
   }
  },
  {
   "cell_type": "code",
   "execution_count": 18,
   "outputs": [
    {
     "name": "stdout",
     "output_type": "stream",
     "text": [
      "German entries in dev_dataset 310\n",
      "GDPR entries in dev_dataset 188\n",
      "German GDPR entries in dev_dataset 138\n"
     ]
    }
   ],
   "source": [
    "dev_dataset_df = GDPRDataset(config['dev_dataset_path']).dataframe\n",
    "dev_dataset_ger_df = dev_dataset_df[dev_dataset_df['language'] == \"__label__de\"]\n",
    "print(\"German entries in dev_dataset\", len(dev_dataset_ger_df))\n",
    "dev_dataset_gdpr_df = dev_dataset_df[dev_dataset_df['contains_GDPR'] == True]\n",
    "print(\"GDPR entries in dev_dataset\", len(dev_dataset_gdpr_df))\n",
    "dev_dataset_ger_gdpr_df = dev_dataset_ger_df[dev_dataset_ger_df['contains_GDPR'] == True]\n",
    "print(\"German GDPR entries in dev_dataset\", len(dev_dataset_ger_gdpr_df))"
   ],
   "metadata": {
    "collapsed": false,
    "ExecuteTime": {
     "end_time": "2023-12-10T15:48:30.310652841Z",
     "start_time": "2023-12-10T15:48:29.730823941Z"
    }
   }
  },
  {
   "cell_type": "markdown",
   "source": [
    "# Dec Dataset Refined simple stats"
   ],
   "metadata": {
    "collapsed": false
   }
  },
  {
   "cell_type": "code",
   "execution_count": 5,
   "outputs": [
    {
     "name": "stdout",
     "output_type": "stream",
     "text": [
      "Total entries 300\n",
      "GDPR entries in dev_dataset_refined 151\n"
     ]
    }
   ],
   "source": [
    "dev_dataset_refined_df = GDPRDataset(config['dev_dataset_refined_path']).dataframe\n",
    "print(\"Total entries\", len(dev_dataset_refined_df))\n",
    "dev_dataset_refined_gdpr_df = dev_dataset_refined_df[dev_dataset_refined_df['contains_GDPR'] == True]\n",
    "print(\"GDPR entries in dev_dataset_refined\", len(dev_dataset_refined_gdpr_df))"
   ],
   "metadata": {
    "collapsed": false,
    "ExecuteTime": {
     "end_time": "2023-11-21T11:30:03.845355652Z",
     "start_time": "2023-11-21T11:30:03.227382820Z"
    }
   }
  },
  {
   "cell_type": "markdown",
   "source": [
    "# Get common CMSs(content management system)"
   ],
   "metadata": {
    "collapsed": false
   }
  },
  {
   "cell_type": "code",
   "execution_count": 58,
   "outputs": [],
   "source": [
    "session_df = pd.DataFrame(data=dev_dataset_df)"
   ],
   "metadata": {
    "collapsed": false,
    "ExecuteTime": {
     "end_time": "2023-12-10T17:04:48.600522335Z",
     "start_time": "2023-12-10T17:04:48.533249514Z"
    }
   }
  },
  {
   "cell_type": "code",
   "execution_count": 76,
   "outputs": [],
   "source": [
    "\n",
    "html_class_names = dict()\n",
    "html_ids = dict()\n",
    "for i in range(0, len(session_df)):\n",
    "    row = session_df.iloc[i]\n",
    "    if row['contains_GDPR'] == True:\n",
    "        removed_html = row['page_source_removed_html']\n",
    "        soup = BeautifulSoup(removed_html, features=\"html.parser\")\n",
    "        for element in soup.find_all(name=None, recursive=True):\n",
    "            element_ids = []\n",
    "            element_classes = []\n",
    "            if element.name in [\"div\"]:\n",
    "                element_id = element.get('id')\n",
    "                if element_id is not None: \n",
    "                    element_ids.append(element_id)\n",
    "\n",
    "                element_class_list = element.get('class')\n",
    "                if element_class_list is not None and len(element_class_list) >0:\n",
    "                    for class_name in element_class_list:\n",
    "                        if class_name is not None:\n",
    "                            element_classes.append(class_name)\n",
    "                    \n",
    "            \n",
    "\n",
    "\n",
    "            for element_id in set(element_ids):\n",
    "                if element_id not in html_ids.keys():\n",
    "                    html_ids[element_id] = 1\n",
    "                else:\n",
    "                    html_ids[element_id] = html_ids[element_id] + 1\n",
    "\n",
    "            for element_class in set(element_classes):\n",
    "                if element_class not in html_class_names.keys():\n",
    "                    html_class_names[element_class] = 1\n",
    "                else:\n",
    "                    html_class_names[element_class] = html_class_names[element_class] + 1\n"
   ],
   "metadata": {
    "collapsed": false,
    "ExecuteTime": {
     "end_time": "2023-12-10T17:14:07.205111198Z",
     "start_time": "2023-12-10T17:14:05.861674484Z"
    }
   }
  },
  {
   "cell_type": "code",
   "execution_count": 77,
   "outputs": [],
   "source": [
    "html_ids = dict(sorted(html_ids.items(), key=lambda item: item[1], reverse=True))"
   ],
   "metadata": {
    "collapsed": false,
    "ExecuteTime": {
     "end_time": "2023-12-10T17:14:07.206867696Z",
     "start_time": "2023-12-10T17:14:07.200047580Z"
    }
   }
  },
  {
   "cell_type": "code",
   "execution_count": 75,
   "outputs": [],
   "source": [
    "def keep_row(row):\n",
    "    if row['contains_GDPR'] == True:\n",
    "        soup = BeautifulSoup(row['page_source_removed_html'], features=\"html.parser\")\n",
    "        for element in soup.find_all(name=None, recursive=True):\n",
    "            if element.name in [\"div\"]:\n",
    "                element_id = element.get('id')\n",
    "                if element_id in ['BorlabsCookieBox', 'CybotCookiebotDialog', 'usercentrics-language-selector', 'usercentrics-button', 'cmplz-cookiebanner-container', 'onetrust-banner-sdk', 'redim-cookiehint']:\n",
    "                    return False\n",
    "    return True   \n",
    "                \n",
    "mask = session_df.apply(keep_row, axis=1)\n",
    "session_df = session_df[mask]"
   ],
   "metadata": {
    "collapsed": false,
    "ExecuteTime": {
     "end_time": "2023-12-10T17:14:03.920734380Z",
     "start_time": "2023-12-10T17:14:03.015317352Z"
    }
   }
  },
  {
   "cell_type": "code",
   "execution_count": null,
   "outputs": [],
   "source": [],
   "metadata": {
    "collapsed": false
   }
  }
 ],
 "metadata": {
  "kernelspec": {
   "display_name": "Python 3",
   "language": "python",
   "name": "python3"
  },
  "language_info": {
   "codemirror_mode": {
    "name": "ipython",
    "version": 2
   },
   "file_extension": ".py",
   "mimetype": "text/x-python",
   "name": "python",
   "nbconvert_exporter": "python",
   "pygments_lexer": "ipython2",
   "version": "2.7.6"
  }
 },
 "nbformat": 4,
 "nbformat_minor": 0
}
