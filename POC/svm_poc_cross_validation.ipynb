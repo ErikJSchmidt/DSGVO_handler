{
 "cells": [
  {
   "cell_type": "markdown",
   "source": [
    "# Run cross validation on Training set"
   ],
   "metadata": {
    "collapsed": false
   }
  },
  {
   "cell_type": "code",
   "execution_count": 1,
   "outputs": [],
   "source": [
    "\n",
    "from sklearn.metrics import accuracy_score\n",
    "import json\n",
    "import numpy as np\n",
    "from pathlib import Path\n",
    "from my_utils import GDPRDataset, score_subtrees\n",
    "import numpy as np\n",
    "import pandas as pd\n",
    "import matplotlib.pyplot as plt"
   ],
   "metadata": {
    "collapsed": false,
    "ExecuteTime": {
     "end_time": "2023-12-18T13:17:03.451715330Z",
     "start_time": "2023-12-18T13:16:59.308211463Z"
    }
   }
  },
  {
   "cell_type": "markdown",
   "source": [
    "## Load Config"
   ],
   "metadata": {
    "collapsed": false
   }
  },
  {
   "cell_type": "code",
   "execution_count": 2,
   "outputs": [],
   "source": [
    "config_file = open(f\"{str(Path.cwd())}/svm_poc_cross_validation_config.json\")\n",
    "config = json.load(config_file)\n",
    "config_file.close()"
   ],
   "metadata": {
    "collapsed": false,
    "ExecuteTime": {
     "end_time": "2023-12-18T13:17:03.498727803Z",
     "start_time": "2023-12-18T13:17:03.449931438Z"
    }
   }
  },
  {
   "cell_type": "markdown",
   "source": [
    "## Load Training Data into random splits"
   ],
   "metadata": {
    "collapsed": false
   }
  },
  {
   "cell_type": "code",
   "execution_count": 3,
   "outputs": [],
   "source": [
    "train_df = GDPRDataset.GDPRDataset(dataset_dir=config['train_dataset_path']).dataframe"
   ],
   "metadata": {
    "collapsed": false,
    "ExecuteTime": {
     "end_time": "2023-12-18T13:17:04.199413190Z",
     "start_time": "2023-12-18T13:17:03.468561019Z"
    }
   }
  },
  {
   "cell_type": "code",
   "execution_count": 4,
   "outputs": [],
   "source": [
    "# shuffle\n",
    "train_df = train_df.sample(random_state=420, n=250)"
   ],
   "metadata": {
    "collapsed": false,
    "ExecuteTime": {
     "end_time": "2023-12-18T13:17:04.297505173Z",
     "start_time": "2023-12-18T13:17:04.203725019Z"
    }
   }
  },
  {
   "cell_type": "code",
   "execution_count": 5,
   "outputs": [],
   "source": [
    "splits = np.array_split(train_df, 5)"
   ],
   "metadata": {
    "collapsed": false,
    "ExecuteTime": {
     "end_time": "2023-12-18T13:17:04.298238841Z",
     "start_time": "2023-12-18T13:17:04.231556116Z"
    }
   }
  },
  {
   "cell_type": "markdown",
   "source": [
    "## Cross Validate"
   ],
   "metadata": {
    "collapsed": false
   }
  },
  {
   "cell_type": "code",
   "execution_count": 6,
   "outputs": [],
   "source": [
    "def make_svm_trainset(df):\n",
    "    GDPR_texts_df = pd.DataFrame(data = {'content_removed':df[df['contains_GDPR'] == True]['content_removed']})\n",
    "\n",
    "    GDPR_texts_df['text_word_count'] = GDPR_texts_df['content_removed'].apply(lambda x: len(str(x).split(\" \")))\n",
    "    GDPR_texts_df = GDPR_texts_df.reset_index()\n",
    "\n",
    "    # Get none GDPR texts\n",
    "    no_GDPR_texts_df = pd.DataFrame(data={\n",
    "        'content': df[df['contains_GDPR'] == False]['content'],\n",
    "    })\n",
    "    no_GDPR_texts_df = no_GDPR_texts_df.reset_index()\n",
    "\n",
    "    # trim the none GDPR texts to have similar lengths as the GDPR texts\n",
    "    no_GDPR_texts = []\n",
    "    for i in range(min(len(GDPR_texts_df),len(no_GDPR_texts_df))):\n",
    "        text_len = GDPR_texts_df.loc[i]['text_word_count']\n",
    "        no_GDPR_text = no_GDPR_texts_df.loc[i]['content']\n",
    "        stripped_no_GDPR_text = \" \".join(list(no_GDPR_text.split(\" \"))[:text_len])\n",
    "        no_GDPR_texts.append(stripped_no_GDPR_text)\n",
    "\n",
    "    no_GDPR_texts_df = pd.DataFrame(data={'stripped_text':no_GDPR_texts})\n",
    "\n",
    "    tfifd_svm_dataset = list(GDPR_texts_df['content_removed'].values) + list(no_GDPR_texts_df['stripped_text'].values)\n",
    "\n",
    "    labels = [1] * len(GDPR_texts_df) + [0] * len(no_GDPR_texts_df)\n",
    "\n",
    "    tfifd_svm_dataset_df = pd.DataFrame(data={\n",
    "        'text': tfifd_svm_dataset,\n",
    "        'is_GDPR': labels}\n",
    "    )\n",
    "\n",
    "    return tfifd_svm_dataset_df"
   ],
   "metadata": {
    "collapsed": false,
    "ExecuteTime": {
     "end_time": "2023-12-18T13:17:04.298793923Z",
     "start_time": "2023-12-18T13:17:04.260581966Z"
    }
   }
  },
  {
   "cell_type": "code",
   "execution_count": 8,
   "outputs": [
    {
     "name": "stdout",
     "output_type": "stream",
     "text": [
      "Test split: 0\n",
      "Acc of: 0.74\n",
      "Test split: 1\n",
      "Acc of: 0.76\n",
      "Test split: 2\n",
      "Acc of: 0.82\n",
      "Test split: 3\n",
      "Acc of: 0.78\n",
      "Test split: 4\n"
     ]
    },
    {
     "ename": "KeyboardInterrupt",
     "evalue": "",
     "output_type": "error",
     "traceback": [
      "\u001B[0;31m---------------------------------------------------------------------------\u001B[0m",
      "\u001B[0;31mKeyboardInterrupt\u001B[0m                         Traceback (most recent call last)",
      "Cell \u001B[0;32mIn[8], line 27\u001B[0m\n\u001B[1;32m     14\u001B[0m tfidf_svm_train \u001B[38;5;241m=\u001B[39m make_svm_trainset(contact_train_df)\n\u001B[1;32m     16\u001B[0m scoring_model \u001B[38;5;241m=\u001B[39m score_subtrees\u001B[38;5;241m.\u001B[39mTFIDF_SVM_subtree_scorer(\n\u001B[1;32m     17\u001B[0m     documents\u001B[38;5;241m=\u001B[39m\u001B[38;5;28mlist\u001B[39m(contact_train_df[\u001B[38;5;124m'\u001B[39m\u001B[38;5;124mcontent\u001B[39m\u001B[38;5;124m'\u001B[39m]\u001B[38;5;241m.\u001B[39mvalues),\n\u001B[1;32m     18\u001B[0m     train_dataset_df\u001B[38;5;241m=\u001B[39mtfidf_svm_train,\n\u001B[0;32m   (...)\u001B[0m\n\u001B[1;32m     24\u001B[0m     }\n\u001B[1;32m     25\u001B[0m )\n\u001B[0;32m---> 27\u001B[0m test_df[\u001B[38;5;124m'\u001B[39m\u001B[38;5;124mmax_subtree_score\u001B[39m\u001B[38;5;124m'\u001B[39m] \u001B[38;5;241m=\u001B[39m \u001B[43mtest_df\u001B[49m\u001B[43m[\u001B[49m\u001B[38;5;124;43m'\u001B[39;49m\u001B[38;5;124;43mpage_source_html\u001B[39;49m\u001B[38;5;124;43m'\u001B[39;49m\u001B[43m]\u001B[49m\u001B[38;5;241;43m.\u001B[39;49m\u001B[43mapply\u001B[49m\u001B[43m(\u001B[49m\n\u001B[1;32m     28\u001B[0m \u001B[43m    \u001B[49m\u001B[38;5;28;43;01mlambda\u001B[39;49;00m\u001B[43m \u001B[49m\u001B[43mhtml\u001B[49m\u001B[43m:\u001B[49m\u001B[43m \u001B[49m\u001B[38;5;28;43mmax\u001B[39;49m\u001B[43m(\u001B[49m\u001B[38;5;28;43mlist\u001B[39;49m\u001B[43m(\u001B[49m\u001B[43mscoring_model\u001B[49m\u001B[38;5;241;43m.\u001B[39;49m\u001B[43mget_scored_html_nodes\u001B[49m\u001B[43m(\u001B[49m\u001B[43mhtml\u001B[49m\u001B[43m)\u001B[49m\u001B[43m[\u001B[49m\u001B[38;5;124;43m'\u001B[39;49m\u001B[38;5;124;43mGDPR_score\u001B[39;49m\u001B[38;5;124;43m'\u001B[39;49m\u001B[43m]\u001B[49m\u001B[38;5;241;43m.\u001B[39;49m\u001B[43mvalues\u001B[49m\u001B[43m)\u001B[49m\u001B[43m)\u001B[49m\u001B[43m)\u001B[49m\n\u001B[1;32m     29\u001B[0m \u001B[38;5;66;03m# parse scores + threshold to prediction\u001B[39;00m\n\u001B[1;32m     30\u001B[0m test_df[\u001B[38;5;124m'\u001B[39m\u001B[38;5;124mprediction\u001B[39m\u001B[38;5;124m'\u001B[39m] \u001B[38;5;241m=\u001B[39m test_df[\u001B[38;5;124m'\u001B[39m\u001B[38;5;124mmax_subtree_score\u001B[39m\u001B[38;5;124m'\u001B[39m]\u001B[38;5;241m.\u001B[39mapply(\u001B[38;5;28;01mlambda\u001B[39;00m score: score \u001B[38;5;241m>\u001B[39m\u001B[38;5;241m=\u001B[39m \u001B[38;5;241m0.8\u001B[39m)\n",
      "File \u001B[0;32m~/anaconda3/envs/dsgvo_handler/lib/python3.8/site-packages/pandas/core/series.py:4630\u001B[0m, in \u001B[0;36mSeries.apply\u001B[0;34m(self, func, convert_dtype, args, **kwargs)\u001B[0m\n\u001B[1;32m   4520\u001B[0m \u001B[38;5;28;01mdef\u001B[39;00m \u001B[38;5;21mapply\u001B[39m(\n\u001B[1;32m   4521\u001B[0m     \u001B[38;5;28mself\u001B[39m,\n\u001B[1;32m   4522\u001B[0m     func: AggFuncType,\n\u001B[0;32m   (...)\u001B[0m\n\u001B[1;32m   4525\u001B[0m     \u001B[38;5;241m*\u001B[39m\u001B[38;5;241m*\u001B[39mkwargs,\n\u001B[1;32m   4526\u001B[0m ) \u001B[38;5;241m-\u001B[39m\u001B[38;5;241m>\u001B[39m DataFrame \u001B[38;5;241m|\u001B[39m Series:\n\u001B[1;32m   4527\u001B[0m \u001B[38;5;250m    \u001B[39m\u001B[38;5;124;03m\"\"\"\u001B[39;00m\n\u001B[1;32m   4528\u001B[0m \u001B[38;5;124;03m    Invoke function on values of Series.\u001B[39;00m\n\u001B[1;32m   4529\u001B[0m \n\u001B[0;32m   (...)\u001B[0m\n\u001B[1;32m   4628\u001B[0m \u001B[38;5;124;03m    dtype: float64\u001B[39;00m\n\u001B[1;32m   4629\u001B[0m \u001B[38;5;124;03m    \"\"\"\u001B[39;00m\n\u001B[0;32m-> 4630\u001B[0m     \u001B[38;5;28;01mreturn\u001B[39;00m \u001B[43mSeriesApply\u001B[49m\u001B[43m(\u001B[49m\u001B[38;5;28;43mself\u001B[39;49m\u001B[43m,\u001B[49m\u001B[43m \u001B[49m\u001B[43mfunc\u001B[49m\u001B[43m,\u001B[49m\u001B[43m \u001B[49m\u001B[43mconvert_dtype\u001B[49m\u001B[43m,\u001B[49m\u001B[43m \u001B[49m\u001B[43margs\u001B[49m\u001B[43m,\u001B[49m\u001B[43m \u001B[49m\u001B[43mkwargs\u001B[49m\u001B[43m)\u001B[49m\u001B[38;5;241;43m.\u001B[39;49m\u001B[43mapply\u001B[49m\u001B[43m(\u001B[49m\u001B[43m)\u001B[49m\n",
      "File \u001B[0;32m~/anaconda3/envs/dsgvo_handler/lib/python3.8/site-packages/pandas/core/apply.py:1025\u001B[0m, in \u001B[0;36mSeriesApply.apply\u001B[0;34m(self)\u001B[0m\n\u001B[1;32m   1022\u001B[0m     \u001B[38;5;28;01mreturn\u001B[39;00m \u001B[38;5;28mself\u001B[39m\u001B[38;5;241m.\u001B[39mapply_str()\n\u001B[1;32m   1024\u001B[0m \u001B[38;5;66;03m# self.f is Callable\u001B[39;00m\n\u001B[0;32m-> 1025\u001B[0m \u001B[38;5;28;01mreturn\u001B[39;00m \u001B[38;5;28;43mself\u001B[39;49m\u001B[38;5;241;43m.\u001B[39;49m\u001B[43mapply_standard\u001B[49m\u001B[43m(\u001B[49m\u001B[43m)\u001B[49m\n",
      "File \u001B[0;32m~/anaconda3/envs/dsgvo_handler/lib/python3.8/site-packages/pandas/core/apply.py:1076\u001B[0m, in \u001B[0;36mSeriesApply.apply_standard\u001B[0;34m(self)\u001B[0m\n\u001B[1;32m   1074\u001B[0m     \u001B[38;5;28;01melse\u001B[39;00m:\n\u001B[1;32m   1075\u001B[0m         values \u001B[38;5;241m=\u001B[39m obj\u001B[38;5;241m.\u001B[39mastype(\u001B[38;5;28mobject\u001B[39m)\u001B[38;5;241m.\u001B[39m_values\n\u001B[0;32m-> 1076\u001B[0m         mapped \u001B[38;5;241m=\u001B[39m \u001B[43mlib\u001B[49m\u001B[38;5;241;43m.\u001B[39;49m\u001B[43mmap_infer\u001B[49m\u001B[43m(\u001B[49m\n\u001B[1;32m   1077\u001B[0m \u001B[43m            \u001B[49m\u001B[43mvalues\u001B[49m\u001B[43m,\u001B[49m\n\u001B[1;32m   1078\u001B[0m \u001B[43m            \u001B[49m\u001B[43mf\u001B[49m\u001B[43m,\u001B[49m\n\u001B[1;32m   1079\u001B[0m \u001B[43m            \u001B[49m\u001B[43mconvert\u001B[49m\u001B[38;5;241;43m=\u001B[39;49m\u001B[38;5;28;43mself\u001B[39;49m\u001B[38;5;241;43m.\u001B[39;49m\u001B[43mconvert_dtype\u001B[49m\u001B[43m,\u001B[49m\n\u001B[1;32m   1080\u001B[0m \u001B[43m        \u001B[49m\u001B[43m)\u001B[49m\n\u001B[1;32m   1082\u001B[0m \u001B[38;5;28;01mif\u001B[39;00m \u001B[38;5;28mlen\u001B[39m(mapped) \u001B[38;5;129;01mand\u001B[39;00m \u001B[38;5;28misinstance\u001B[39m(mapped[\u001B[38;5;241m0\u001B[39m], ABCSeries):\n\u001B[1;32m   1083\u001B[0m     \u001B[38;5;66;03m# GH#43986 Need to do list(mapped) in order to get treated as nested\u001B[39;00m\n\u001B[1;32m   1084\u001B[0m     \u001B[38;5;66;03m#  See also GH#25959 regarding EA support\u001B[39;00m\n\u001B[1;32m   1085\u001B[0m     \u001B[38;5;28;01mreturn\u001B[39;00m obj\u001B[38;5;241m.\u001B[39m_constructor_expanddim(\u001B[38;5;28mlist\u001B[39m(mapped), index\u001B[38;5;241m=\u001B[39mobj\u001B[38;5;241m.\u001B[39mindex)\n",
      "File \u001B[0;32m~/anaconda3/envs/dsgvo_handler/lib/python3.8/site-packages/pandas/_libs/lib.pyx:2834\u001B[0m, in \u001B[0;36mpandas._libs.lib.map_infer\u001B[0;34m()\u001B[0m\n",
      "Cell \u001B[0;32mIn[8], line 28\u001B[0m, in \u001B[0;36m<lambda>\u001B[0;34m(html)\u001B[0m\n\u001B[1;32m     14\u001B[0m tfidf_svm_train \u001B[38;5;241m=\u001B[39m make_svm_trainset(contact_train_df)\n\u001B[1;32m     16\u001B[0m scoring_model \u001B[38;5;241m=\u001B[39m score_subtrees\u001B[38;5;241m.\u001B[39mTFIDF_SVM_subtree_scorer(\n\u001B[1;32m     17\u001B[0m     documents\u001B[38;5;241m=\u001B[39m\u001B[38;5;28mlist\u001B[39m(contact_train_df[\u001B[38;5;124m'\u001B[39m\u001B[38;5;124mcontent\u001B[39m\u001B[38;5;124m'\u001B[39m]\u001B[38;5;241m.\u001B[39mvalues),\n\u001B[1;32m     18\u001B[0m     train_dataset_df\u001B[38;5;241m=\u001B[39mtfidf_svm_train,\n\u001B[0;32m   (...)\u001B[0m\n\u001B[1;32m     24\u001B[0m     }\n\u001B[1;32m     25\u001B[0m )\n\u001B[1;32m     27\u001B[0m test_df[\u001B[38;5;124m'\u001B[39m\u001B[38;5;124mmax_subtree_score\u001B[39m\u001B[38;5;124m'\u001B[39m] \u001B[38;5;241m=\u001B[39m test_df[\u001B[38;5;124m'\u001B[39m\u001B[38;5;124mpage_source_html\u001B[39m\u001B[38;5;124m'\u001B[39m]\u001B[38;5;241m.\u001B[39mapply(\n\u001B[0;32m---> 28\u001B[0m     \u001B[38;5;28;01mlambda\u001B[39;00m html: \u001B[38;5;28mmax\u001B[39m(\u001B[38;5;28mlist\u001B[39m(\u001B[43mscoring_model\u001B[49m\u001B[38;5;241;43m.\u001B[39;49m\u001B[43mget_scored_html_nodes\u001B[49m\u001B[43m(\u001B[49m\u001B[43mhtml\u001B[49m\u001B[43m)\u001B[49m[\u001B[38;5;124m'\u001B[39m\u001B[38;5;124mGDPR_score\u001B[39m\u001B[38;5;124m'\u001B[39m]\u001B[38;5;241m.\u001B[39mvalues)))\n\u001B[1;32m     29\u001B[0m \u001B[38;5;66;03m# parse scores + threshold to prediction\u001B[39;00m\n\u001B[1;32m     30\u001B[0m test_df[\u001B[38;5;124m'\u001B[39m\u001B[38;5;124mprediction\u001B[39m\u001B[38;5;124m'\u001B[39m] \u001B[38;5;241m=\u001B[39m test_df[\u001B[38;5;124m'\u001B[39m\u001B[38;5;124mmax_subtree_score\u001B[39m\u001B[38;5;124m'\u001B[39m]\u001B[38;5;241m.\u001B[39mapply(\u001B[38;5;28;01mlambda\u001B[39;00m score: score \u001B[38;5;241m>\u001B[39m\u001B[38;5;241m=\u001B[39m \u001B[38;5;241m0.8\u001B[39m)\n",
      "File \u001B[0;32m~/Desktop/WiSe2022_23/IR-Project/dsgvo_handler/POC/my_utils/score_subtrees.py:144\u001B[0m, in \u001B[0;36mTFIDF_SVM_subtree_scorer.get_scored_html_nodes\u001B[0;34m(self, html)\u001B[0m\n\u001B[1;32m    141\u001B[0m     subtree_text \u001B[38;5;241m=\u001B[39m clean_german_text(subtree_text)\n\u001B[1;32m    142\u001B[0m subtree_text_vectorized \u001B[38;5;241m=\u001B[39m \u001B[38;5;28mself\u001B[39m\u001B[38;5;241m.\u001B[39mtfidf_vectorizer\u001B[38;5;241m.\u001B[39mtransform([subtree_text])[\u001B[38;5;241m0\u001B[39m]\n\u001B[0;32m--> 144\u001B[0m probs_np_array \u001B[38;5;241m=\u001B[39m \u001B[38;5;28mself\u001B[39m\u001B[38;5;241m.\u001B[39mSVM\u001B[38;5;241m.\u001B[39mpredict_proba(\u001B[38;5;28;43mself\u001B[39;49m\u001B[38;5;241;43m.\u001B[39;49m\u001B[43mrbX\u001B[49m\u001B[38;5;241;43m.\u001B[39;49m\u001B[43mtransform\u001B[49m\u001B[43m(\u001B[49m\u001B[43msubtree_text_vectorized\u001B[49m\u001B[43m)\u001B[49m)\n\u001B[1;32m    145\u001B[0m \u001B[38;5;66;03m# access the first( and only) row\u001B[39;00m\n\u001B[1;32m    146\u001B[0m probs \u001B[38;5;241m=\u001B[39m probs_np_array[\u001B[38;5;241m0\u001B[39m]\n",
      "File \u001B[0;32m~/anaconda3/envs/dsgvo_handler/lib/python3.8/site-packages/sklearn/utils/_set_output.py:140\u001B[0m, in \u001B[0;36m_wrap_method_output.<locals>.wrapped\u001B[0;34m(self, X, *args, **kwargs)\u001B[0m\n\u001B[1;32m    138\u001B[0m \u001B[38;5;129m@wraps\u001B[39m(f)\n\u001B[1;32m    139\u001B[0m \u001B[38;5;28;01mdef\u001B[39;00m \u001B[38;5;21mwrapped\u001B[39m(\u001B[38;5;28mself\u001B[39m, X, \u001B[38;5;241m*\u001B[39margs, \u001B[38;5;241m*\u001B[39m\u001B[38;5;241m*\u001B[39mkwargs):\n\u001B[0;32m--> 140\u001B[0m     data_to_wrap \u001B[38;5;241m=\u001B[39m \u001B[43mf\u001B[49m\u001B[43m(\u001B[49m\u001B[38;5;28;43mself\u001B[39;49m\u001B[43m,\u001B[49m\u001B[43m \u001B[49m\u001B[43mX\u001B[49m\u001B[43m,\u001B[49m\u001B[43m \u001B[49m\u001B[38;5;241;43m*\u001B[39;49m\u001B[43margs\u001B[49m\u001B[43m,\u001B[49m\u001B[43m \u001B[49m\u001B[38;5;241;43m*\u001B[39;49m\u001B[38;5;241;43m*\u001B[39;49m\u001B[43mkwargs\u001B[49m\u001B[43m)\u001B[49m\n\u001B[1;32m    141\u001B[0m     \u001B[38;5;28;01mif\u001B[39;00m \u001B[38;5;28misinstance\u001B[39m(data_to_wrap, \u001B[38;5;28mtuple\u001B[39m):\n\u001B[1;32m    142\u001B[0m         \u001B[38;5;66;03m# only wrap the first output for cross decomposition\u001B[39;00m\n\u001B[1;32m    143\u001B[0m         return_tuple \u001B[38;5;241m=\u001B[39m (\n\u001B[1;32m    144\u001B[0m             _wrap_data_with_container(method, data_to_wrap[\u001B[38;5;241m0\u001B[39m], X, \u001B[38;5;28mself\u001B[39m),\n\u001B[1;32m    145\u001B[0m             \u001B[38;5;241m*\u001B[39mdata_to_wrap[\u001B[38;5;241m1\u001B[39m:],\n\u001B[1;32m    146\u001B[0m         )\n",
      "File \u001B[0;32m~/anaconda3/envs/dsgvo_handler/lib/python3.8/site-packages/sklearn/preprocessing/_data.py:1594\u001B[0m, in \u001B[0;36mRobustScaler.transform\u001B[0;34m(self, X)\u001B[0m\n\u001B[1;32m   1581\u001B[0m \u001B[38;5;250m\u001B[39m\u001B[38;5;124;03m\"\"\"Center and scale the data.\u001B[39;00m\n\u001B[1;32m   1582\u001B[0m \n\u001B[1;32m   1583\u001B[0m \u001B[38;5;124;03mParameters\u001B[39;00m\n\u001B[0;32m   (...)\u001B[0m\n\u001B[1;32m   1591\u001B[0m \u001B[38;5;124;03m    Transformed array.\u001B[39;00m\n\u001B[1;32m   1592\u001B[0m \u001B[38;5;124;03m\"\"\"\u001B[39;00m\n\u001B[1;32m   1593\u001B[0m check_is_fitted(\u001B[38;5;28mself\u001B[39m)\n\u001B[0;32m-> 1594\u001B[0m X \u001B[38;5;241m=\u001B[39m \u001B[38;5;28;43mself\u001B[39;49m\u001B[38;5;241;43m.\u001B[39;49m\u001B[43m_validate_data\u001B[49m\u001B[43m(\u001B[49m\n\u001B[1;32m   1595\u001B[0m \u001B[43m    \u001B[49m\u001B[43mX\u001B[49m\u001B[43m,\u001B[49m\n\u001B[1;32m   1596\u001B[0m \u001B[43m    \u001B[49m\u001B[43maccept_sparse\u001B[49m\u001B[38;5;241;43m=\u001B[39;49m\u001B[43m(\u001B[49m\u001B[38;5;124;43m\"\u001B[39;49m\u001B[38;5;124;43mcsr\u001B[39;49m\u001B[38;5;124;43m\"\u001B[39;49m\u001B[43m,\u001B[49m\u001B[43m \u001B[49m\u001B[38;5;124;43m\"\u001B[39;49m\u001B[38;5;124;43mcsc\u001B[39;49m\u001B[38;5;124;43m\"\u001B[39;49m\u001B[43m)\u001B[49m\u001B[43m,\u001B[49m\n\u001B[1;32m   1597\u001B[0m \u001B[43m    \u001B[49m\u001B[43mcopy\u001B[49m\u001B[38;5;241;43m=\u001B[39;49m\u001B[38;5;28;43mself\u001B[39;49m\u001B[38;5;241;43m.\u001B[39;49m\u001B[43mcopy\u001B[49m\u001B[43m,\u001B[49m\n\u001B[1;32m   1598\u001B[0m \u001B[43m    \u001B[49m\u001B[43mdtype\u001B[49m\u001B[38;5;241;43m=\u001B[39;49m\u001B[43mFLOAT_DTYPES\u001B[49m\u001B[43m,\u001B[49m\n\u001B[1;32m   1599\u001B[0m \u001B[43m    \u001B[49m\u001B[43mreset\u001B[49m\u001B[38;5;241;43m=\u001B[39;49m\u001B[38;5;28;43;01mFalse\u001B[39;49;00m\u001B[43m,\u001B[49m\n\u001B[1;32m   1600\u001B[0m \u001B[43m    \u001B[49m\u001B[43mforce_all_finite\u001B[49m\u001B[38;5;241;43m=\u001B[39;49m\u001B[38;5;124;43m\"\u001B[39;49m\u001B[38;5;124;43mallow-nan\u001B[39;49m\u001B[38;5;124;43m\"\u001B[39;49m\u001B[43m,\u001B[49m\n\u001B[1;32m   1601\u001B[0m \u001B[43m\u001B[49m\u001B[43m)\u001B[49m\n\u001B[1;32m   1603\u001B[0m \u001B[38;5;28;01mif\u001B[39;00m sparse\u001B[38;5;241m.\u001B[39missparse(X):\n\u001B[1;32m   1604\u001B[0m     \u001B[38;5;28;01mif\u001B[39;00m \u001B[38;5;28mself\u001B[39m\u001B[38;5;241m.\u001B[39mwith_scaling:\n",
      "File \u001B[0;32m~/anaconda3/envs/dsgvo_handler/lib/python3.8/site-packages/sklearn/base.py:604\u001B[0m, in \u001B[0;36mBaseEstimator._validate_data\u001B[0;34m(self, X, y, reset, validate_separately, cast_to_ndarray, **check_params)\u001B[0m\n\u001B[1;32m    602\u001B[0m         out \u001B[38;5;241m=\u001B[39m X, y\n\u001B[1;32m    603\u001B[0m \u001B[38;5;28;01melif\u001B[39;00m \u001B[38;5;129;01mnot\u001B[39;00m no_val_X \u001B[38;5;129;01mand\u001B[39;00m no_val_y:\n\u001B[0;32m--> 604\u001B[0m     out \u001B[38;5;241m=\u001B[39m \u001B[43mcheck_array\u001B[49m\u001B[43m(\u001B[49m\u001B[43mX\u001B[49m\u001B[43m,\u001B[49m\u001B[43m \u001B[49m\u001B[43minput_name\u001B[49m\u001B[38;5;241;43m=\u001B[39;49m\u001B[38;5;124;43m\"\u001B[39;49m\u001B[38;5;124;43mX\u001B[39;49m\u001B[38;5;124;43m\"\u001B[39;49m\u001B[43m,\u001B[49m\u001B[43m \u001B[49m\u001B[38;5;241;43m*\u001B[39;49m\u001B[38;5;241;43m*\u001B[39;49m\u001B[43mcheck_params\u001B[49m\u001B[43m)\u001B[49m\n\u001B[1;32m    605\u001B[0m \u001B[38;5;28;01melif\u001B[39;00m no_val_X \u001B[38;5;129;01mand\u001B[39;00m \u001B[38;5;129;01mnot\u001B[39;00m no_val_y:\n\u001B[1;32m    606\u001B[0m     out \u001B[38;5;241m=\u001B[39m _check_y(y, \u001B[38;5;241m*\u001B[39m\u001B[38;5;241m*\u001B[39mcheck_params)\n",
      "File \u001B[0;32m~/anaconda3/envs/dsgvo_handler/lib/python3.8/site-packages/sklearn/utils/validation.py:802\u001B[0m, in \u001B[0;36mcheck_array\u001B[0;34m(array, accept_sparse, accept_large_sparse, dtype, order, copy, force_all_finite, ensure_2d, allow_nd, ensure_min_samples, ensure_min_features, estimator, input_name)\u001B[0m\n\u001B[1;32m    798\u001B[0m     \u001B[38;5;28;01melif\u001B[39;00m pandas_requires_conversion \u001B[38;5;129;01mand\u001B[39;00m \u001B[38;5;28many\u001B[39m(d \u001B[38;5;241m==\u001B[39m \u001B[38;5;28mobject\u001B[39m \u001B[38;5;28;01mfor\u001B[39;00m d \u001B[38;5;129;01min\u001B[39;00m dtypes_orig):\n\u001B[1;32m    799\u001B[0m         \u001B[38;5;66;03m# Force object if any of the dtypes is an object\u001B[39;00m\n\u001B[1;32m    800\u001B[0m         dtype_orig \u001B[38;5;241m=\u001B[39m \u001B[38;5;28mobject\u001B[39m\n\u001B[0;32m--> 802\u001B[0m \u001B[38;5;28;01melif\u001B[39;00m (_is_extension_array_dtype(array) \u001B[38;5;129;01mor\u001B[39;00m \u001B[38;5;28;43mhasattr\u001B[39;49m\u001B[43m(\u001B[49m\u001B[43marray\u001B[49m\u001B[43m,\u001B[49m\u001B[43m \u001B[49m\u001B[38;5;124;43m\"\u001B[39;49m\u001B[38;5;124;43miloc\u001B[39;49m\u001B[38;5;124;43m\"\u001B[39;49m\u001B[43m)\u001B[49m) \u001B[38;5;129;01mand\u001B[39;00m \u001B[38;5;28mhasattr\u001B[39m(\n\u001B[1;32m    803\u001B[0m     array, \u001B[38;5;124m\"\u001B[39m\u001B[38;5;124mdtype\u001B[39m\u001B[38;5;124m\"\u001B[39m\n\u001B[1;32m    804\u001B[0m ):\n\u001B[1;32m    805\u001B[0m     \u001B[38;5;66;03m# array is a pandas series\u001B[39;00m\n\u001B[1;32m    806\u001B[0m     pandas_requires_conversion \u001B[38;5;241m=\u001B[39m _pandas_dtype_needs_early_conversion(array\u001B[38;5;241m.\u001B[39mdtype)\n\u001B[1;32m    807\u001B[0m     \u001B[38;5;28;01mif\u001B[39;00m \u001B[38;5;28misinstance\u001B[39m(array\u001B[38;5;241m.\u001B[39mdtype, np\u001B[38;5;241m.\u001B[39mdtype):\n",
      "File \u001B[0;32m~/anaconda3/envs/dsgvo_handler/lib/python3.8/site-packages/scipy/sparse/_base.py:750\u001B[0m, in \u001B[0;36mspmatrix.__getattr__\u001B[0;34m(self, attr)\u001B[0m\n\u001B[1;32m    749\u001B[0m \u001B[38;5;28;01mdef\u001B[39;00m \u001B[38;5;21m__getattr__\u001B[39m(\u001B[38;5;28mself\u001B[39m, attr):\n\u001B[0;32m--> 750\u001B[0m     \u001B[38;5;28;01mif\u001B[39;00m \u001B[43mattr\u001B[49m\u001B[43m \u001B[49m\u001B[38;5;241;43m==\u001B[39;49m\u001B[43m \u001B[49m\u001B[38;5;124;43m'\u001B[39;49m\u001B[38;5;124;43mA\u001B[39;49m\u001B[38;5;124;43m'\u001B[39;49m:\n\u001B[1;32m    751\u001B[0m         \u001B[38;5;28;01mif\u001B[39;00m \u001B[38;5;28mself\u001B[39m\u001B[38;5;241m.\u001B[39m_is_array:\n\u001B[1;32m    752\u001B[0m             warn(np\u001B[38;5;241m.\u001B[39mVisibleDeprecationWarning(\n\u001B[1;32m    753\u001B[0m                 \u001B[38;5;124m\"\u001B[39m\u001B[38;5;124mPlease use `.todense()` instead\u001B[39m\u001B[38;5;124m\"\u001B[39m\n\u001B[1;32m    754\u001B[0m             ))\n",
      "\u001B[0;31mKeyboardInterrupt\u001B[0m: "
     ]
    }
   ],
   "source": [
    "accuracies = []\n",
    "\n",
    "scoring_model = None\n",
    "\n",
    "for i in range(5):\n",
    "    print(\"Test split:\",i)\n",
    "    test_df = splits[i]\n",
    "    indizes = list(range(5))\n",
    "    indizes.remove(i)\n",
    "    train_splits = [splits[index] for index in indizes]\n",
    "\n",
    "    contact_train_df = pd.concat(train_splits)\n",
    "\n",
    "    tfidf_svm_train = make_svm_trainset(contact_train_df)\n",
    "\n",
    "    scoring_model = score_subtrees.TFIDF_SVM_subtree_scorer(\n",
    "        documents=list(contact_train_df['content'].values),\n",
    "        train_dataset_df=tfidf_svm_train,\n",
    "        do_text_preprocessing=True,\n",
    "        pretrained_paths={\n",
    "            \"svm_model_path\": config['best_svm_model_path'],\n",
    "            \"vectorizer_path\": config['vectorizer_path'],\n",
    "            \"robust_scaler_path\": config['robust_scaler_path']\n",
    "        }\n",
    "    )\n",
    "\n",
    "    test_df['max_subtree_score'] = test_df['page_source_html'].apply(\n",
    "        lambda html: max(list(scoring_model.get_scored_html_nodes(html)['GDPR_score'].values)))\n",
    "    # parse scores + threshold to prediction\n",
    "    test_df['prediction'] = test_df['max_subtree_score'].apply(lambda score: score >= 0.8)\n",
    "\n",
    "    # get metrics\n",
    "    Y = list(test_df['contains_GDPR'].values)\n",
    "    Y = list(map(int, Y))\n",
    "\n",
    "    Y_pred = list(test_df['prediction'].values)\n",
    "    Y_pred = list(map(int, Y_pred))\n",
    "\n",
    "    accuracy = accuracy_score(Y, Y_pred)\n",
    "\n",
    "    accuracies.append(accuracy)\n",
    "    print(\"Acc of:\",accuracy)\n",
    "\n",
    "\n"
   ],
   "metadata": {
    "collapsed": false,
    "ExecuteTime": {
     "end_time": "2023-12-18T11:07:56.940906980Z",
     "start_time": "2023-12-18T11:05:54.346140470Z"
    }
   }
  },
  {
   "cell_type": "markdown",
   "source": [
    "## Determine Best threshold\n",
    "SVM gives probability between 0 and 1 that the highest scoring subtree of a website is DSGVO content or not.\n",
    "We need to those one threshold value. Websites where score of the best subtree is above this threshold will get classified as DSGVO websites."
   ],
   "metadata": {
    "collapsed": false
   }
  },
  {
   "cell_type": "code",
   "execution_count": 7,
   "outputs": [
    {
     "name": "stdout",
     "output_type": "stream",
     "text": [
      "0.5\n",
      "Test split: 0\n",
      "Test split: 1\n",
      "Test split: 2\n",
      "Test split: 3\n",
      "Test split: 4\n",
      "0.7\n",
      "Test split: 0\n",
      "Test split: 1\n",
      "Test split: 2\n",
      "Test split: 3\n",
      "Test split: 4\n",
      "0.8\n",
      "Test split: 0\n",
      "Test split: 1\n",
      "Test split: 2\n",
      "Test split: 3\n",
      "Test split: 4\n",
      "0.85\n",
      "Test split: 0\n",
      "Test split: 1\n",
      "Test split: 2\n",
      "Test split: 3\n",
      "Test split: 4\n",
      "0.9\n",
      "Test split: 0\n",
      "Test split: 1\n",
      "Test split: 2\n",
      "Test split: 3\n",
      "Test split: 4\n",
      "0.95\n",
      "Test split: 0\n",
      "Test split: 1\n",
      "Test split: 2\n",
      "Test split: 3\n",
      "Test split: 4\n"
     ]
    }
   ],
   "source": [
    "results = dict()\n",
    "\n",
    "for threshold in [0.5,0.7,0.8, 0.85, 0.9, 0.95]:\n",
    "\n",
    "    print(threshold)\n",
    "\n",
    "    accuracies = []\n",
    "\n",
    "    for i in range(5):\n",
    "        print(\"Test split:\",i)\n",
    "        test_df = splits[i]\n",
    "        indizes = list(range(5))\n",
    "        indizes.remove(i)\n",
    "        train_splits = [splits[index] for index in indizes]\n",
    "\n",
    "        contact_train_df = pd.concat(train_splits)\n",
    "\n",
    "        tfidf_svm_train = make_svm_trainset(contact_train_df)\n",
    "\n",
    "        scoring_model = score_subtrees.TFIDF_SVM_subtree_scorer(\n",
    "            documents=list(contact_train_df['content'].values),\n",
    "            train_dataset_df=tfidf_svm_train,\n",
    "            do_text_preprocessing=True,\n",
    "            pretrained_paths={\n",
    "                \"svm_model_path\": config['best_svm_model_path'],\n",
    "                \"vectorizer_path\": config['vectorizer_path'],\n",
    "                \"robust_scaler_path\": config['robust_scaler_path']\n",
    "            }\n",
    "        )\n",
    "\n",
    "        test_df['max_subtree_score'] = test_df['page_source_html'].apply(\n",
    "            lambda html: max(list(scoring_model.get_scored_html_nodes(html)['GDPR_score'].values)))\n",
    "        # parse scores + threshold to prediction\n",
    "        test_df['prediction'] = test_df['max_subtree_score'].apply(lambda score: score >= threshold)\n",
    "\n",
    "        # get metrics\n",
    "        Y = list(test_df['contains_GDPR'].values)\n",
    "        Y = list(map(int, Y))\n",
    "\n",
    "        Y_pred = list(test_df['prediction'].values)\n",
    "        Y_pred = list(map(int, Y_pred))\n",
    "\n",
    "        accuracy = accuracy_score(Y, Y_pred)\n",
    "\n",
    "        accuracies.append(accuracy)\n",
    "\n",
    "    results[str(threshold)] = accuracies\n",
    "    results[f\"{threshold}_mean_Acc\"] = np.mean(accuracies)"
   ],
   "metadata": {
    "collapsed": false,
    "ExecuteTime": {
     "end_time": "2023-12-18T13:31:27.451154225Z",
     "start_time": "2023-12-18T13:18:33.041353856Z"
    }
   }
  },
  {
   "cell_type": "code",
   "execution_count": null,
   "outputs": [],
   "source": [],
   "metadata": {
    "collapsed": false
   }
  },
  {
   "cell_type": "code",
   "execution_count": 10,
   "outputs": [
    {
     "name": "stdout",
     "output_type": "stream",
     "text": [
      "0.5\n",
      "0.764\n",
      "0.7\n",
      "0.812\n",
      "0.8\n",
      "0.808\n",
      "0.85\n",
      "0.82\n",
      "0.9\n",
      "0.824\n",
      "0.95\n",
      "0.824\n"
     ]
    }
   ],
   "source": [
    "results = dict()\n",
    "\n",
    "scoring_model = score_subtrees.TFIDF_SVM_subtree_scorer(\n",
    "    documents=None,\n",
    "    train_dataset_df=None,\n",
    "    do_text_preprocessing=True,\n",
    "    pretrained_paths={\n",
    "        \"svm_model_path\": config['best_svm_model_path'],\n",
    "        \"vectorizer_path\": config['vectorizer_path'],\n",
    "        \"robust_scaler_path\": config['robust_scaler_path']\n",
    "    }\n",
    ")\n",
    "\n",
    "for threshold in [0.5,0.7,0.8, 0.85, 0.9, 0.95]:\n",
    "    df_for_threshold = pd.DataFrame(data=train_df)\n",
    "\n",
    "    print(threshold)\n",
    "\n",
    "    df_for_threshold['max_subtree_score'] = df_for_threshold['page_source_html'].apply(\n",
    "        lambda html: max(list(scoring_model.get_scored_html_nodes(html)['GDPR_score'].values)))\n",
    "    # parse scores + threshold to prediction\n",
    "    df_for_threshold['prediction'] = df_for_threshold['max_subtree_score'].apply(lambda score: score >= threshold)\n",
    "\n",
    "    # get metrics\n",
    "    Y = list(df_for_threshold['contains_GDPR'].values)\n",
    "    Y = list(map(int, Y))\n",
    "\n",
    "    Y_pred = list(df_for_threshold['prediction'].values)\n",
    "    Y_pred = list(map(int, Y_pred))\n",
    "\n",
    "    accuracy = accuracy_score(Y, Y_pred)\n",
    "    print(accuracy)\n",
    "    \n",
    "    results[f\"{threshold}_mean_Acc\"] = accuracy"
   ],
   "metadata": {
    "collapsed": false,
    "ExecuteTime": {
     "end_time": "2023-12-18T14:43:57.388551881Z",
     "start_time": "2023-12-18T14:28:25.559098941Z"
    }
   }
  },
  {
   "cell_type": "code",
   "execution_count": 8,
   "outputs": [
    {
     "data": {
      "text/plain": "{'0.5': [0.74, 0.66, 0.8, 0.7, 0.8],\n '0.5_mean_Acc': 0.74,\n '0.7': [0.76, 0.7, 0.82, 0.78, 0.84],\n '0.7_mean_Acc': 0.7799999999999999,\n '0.8': [0.78, 0.74, 0.78, 0.76, 0.86],\n '0.8_mean_Acc': 0.7839999999999999,\n '0.85': [0.8, 0.74, 0.82, 0.78, 0.86],\n '0.85_mean_Acc': 0.7999999999999999,\n '0.9': [0.78, 0.78, 0.88, 0.78, 0.82],\n '0.9_mean_Acc': 0.808,\n '0.95': [0.72, 0.82, 0.88, 0.78, 0.88],\n '0.95_mean_Acc': 0.8160000000000001}"
     },
     "execution_count": 8,
     "metadata": {},
     "output_type": "execute_result"
    }
   ],
   "source": [
    "results"
   ],
   "metadata": {
    "collapsed": false,
    "ExecuteTime": {
     "end_time": "2023-12-18T13:37:32.537697559Z",
     "start_time": "2023-12-18T13:37:32.461933785Z"
    }
   }
  },
  {
   "cell_type": "code",
   "execution_count": 0,
   "outputs": [],
   "source": [
    "plt.bar(\n",
    "    x = [0.5, 0.7, 0.8, 0.85, 0.9, 0.95],\n",
    "    height=[\n",
    "        0.9399999999999998,\n",
    "        0.9559999999999998,\n",
    "        0.9559999999999998,\n",
    "        0.96,\n",
    "        0.9559999999999998,\n",
    "        0.952\n",
    "    ]\n",
    ")"
   ],
   "metadata": {
    "collapsed": false
   }
  },
  {
   "cell_type": "code",
   "execution_count": 33,
   "outputs": [
    {
     "data": {
      "text/plain": "<AxesSubplot: >"
     },
     "execution_count": 33,
     "metadata": {},
     "output_type": "execute_result"
    },
    {
     "data": {
      "text/plain": "<Figure size 640x480 with 1 Axes>",
      "image/png": "[encoded data removed]"
     },
     "metadata": {},
     "output_type": "display_data"
    }
   ],
   "source": [
    "pd.DataFrame(data={\n",
    "    'x':[0.5, 0.7, 0.8, 0.85, 0.9, 0.95],\n",
    "    'y':[\n",
    "        0.9399999999999998,\n",
    "        0.9559999999999998,\n",
    "        0.9559999999999998,\n",
    "        0.96,\n",
    "        0.9559999999999998,\n",
    "        0.952\n",
    "    ]\n",
    "}).plot()"
   ],
   "metadata": {
    "collapsed": false
   }
  },
  {
   "cell_type": "code",
   "execution_count": null,
   "outputs": [],
   "source": [],
   "metadata": {
    "collapsed": false
   }
  }
 ],
 "metadata": {
  "kernelspec": {
   "display_name": "Python 3",
   "language": "python",
   "name": "python3"
  },
  "language_info": {
   "codemirror_mode": {
    "name": "ipython",
    "version": 2
   },
   "file_extension": ".py",
   "mimetype": "text/x-python",
   "name": "python",
   "nbconvert_exporter": "python",
   "pygments_lexer": "ipython2",
   "version": "2.7.6"
  }
 },
 "nbformat": 4,
 "nbformat_minor": 0
}
