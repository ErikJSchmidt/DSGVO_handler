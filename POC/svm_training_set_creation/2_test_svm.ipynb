{
 "cells": [
  {
   "cell_type": "code",
   "execution_count": 1,
   "id": "initial_id",
   "metadata": {
    "collapsed": true,
    "ExecuteTime": {
     "end_time": "2023-12-31T13:19:54.019114306Z",
     "start_time": "2023-12-31T13:19:51.122539058Z"
    }
   },
   "outputs": [],
   "source": [
    "import pandas as pd\n",
    "from sklearn.metrics import accuracy_score\n",
    "from sklearn.preprocessing import RobustScaler\n",
    "import GDPRDataset\n",
    "import text_preprocessing as tp\n",
    "import sklearn.svm as svm\n",
    "from bs4 import BeautifulSoup\n",
    "from nltk.corpus import stopwords\n",
    "from sklearn.feature_extraction.text import TfidfVectorizer\n",
    "from sklearn.metrics.pairwise import cosine_similarity\n",
    "import json\n",
    "import numpy as np\n",
    "from pathlib import Path\n",
    "from joblib import dump, load\n",
    "import matplotlib.pyplot as plt"
   ]
  },
  {
   "cell_type": "code",
   "execution_count": 2,
   "outputs": [],
   "source": [
    "# Load config for this application\n",
    "config_file = open(f\"{str(Path.cwd())}/test_svm_config.json\")\n",
    "config = json.load(config_file)\n",
    "config_file.close()"
   ],
   "metadata": {
    "collapsed": false,
    "ExecuteTime": {
     "end_time": "2023-12-31T13:19:58.743345453Z",
     "start_time": "2023-12-31T13:19:58.703999323Z"
    }
   },
   "id": "22a25ea6cb20d18b"
  },
  {
   "cell_type": "code",
   "execution_count": 3,
   "outputs": [],
   "source": [
    "df_train = GDPRDataset.GDPRDataset(dataset_dir=config['train_dataset_path']).dataframe\n",
    "df_test = GDPRDataset.GDPRDataset(dataset_dir=config['test_dataset_path']).dataframe"
   ],
   "metadata": {
    "collapsed": false,
    "ExecuteTime": {
     "end_time": "2023-12-31T13:20:00.820455571Z",
     "start_time": "2023-12-31T13:19:59.473401370Z"
    }
   },
   "id": "9cc8370129387c65"
  },
  {
   "cell_type": "code",
   "execution_count": 4,
   "outputs": [],
   "source": [
    "documents= df_train['content'].to_list()\n",
    "tfidf_svm_train = pd.read_json(config['svm_training_set_v1_path'])"
   ],
   "metadata": {
    "collapsed": false,
    "ExecuteTime": {
     "end_time": "2023-12-31T13:20:00.943586550Z",
     "start_time": "2023-12-31T13:20:00.802999274Z"
    }
   },
   "id": "a74e580110427c33"
  },
  {
   "cell_type": "code",
   "execution_count": 5,
   "outputs": [
    {
     "data": {
      "text/plain": "SVC(C=1, gamma='auto', probability=True)",
      "text/html": "<style>#sk-container-id-1 {color: black;}#sk-container-id-1 pre{padding: 0;}#sk-container-id-1 div.sk-toggleable {background-color: white;}#sk-container-id-1 label.sk-toggleable__label {cursor: pointer;display: block;width: 100%;margin-bottom: 0;padding: 0.3em;box-sizing: border-box;text-align: center;}#sk-container-id-1 label.sk-toggleable__label-arrow:before {content: \"▸\";float: left;margin-right: 0.25em;color: #696969;}#sk-container-id-1 label.sk-toggleable__label-arrow:hover:before {color: black;}#sk-container-id-1 div.sk-estimator:hover label.sk-toggleable__label-arrow:before {color: black;}#sk-container-id-1 div.sk-toggleable__content {max-height: 0;max-width: 0;overflow: hidden;text-align: left;background-color: #f0f8ff;}#sk-container-id-1 div.sk-toggleable__content pre {margin: 0.2em;color: black;border-radius: 0.25em;background-color: #f0f8ff;}#sk-container-id-1 input.sk-toggleable__control:checked~div.sk-toggleable__content {max-height: 200px;max-width: 100%;overflow: auto;}#sk-container-id-1 input.sk-toggleable__control:checked~label.sk-toggleable__label-arrow:before {content: \"▾\";}#sk-container-id-1 div.sk-estimator input.sk-toggleable__control:checked~label.sk-toggleable__label {background-color: #d4ebff;}#sk-container-id-1 div.sk-label input.sk-toggleable__control:checked~label.sk-toggleable__label {background-color: #d4ebff;}#sk-container-id-1 input.sk-hidden--visually {border: 0;clip: rect(1px 1px 1px 1px);clip: rect(1px, 1px, 1px, 1px);height: 1px;margin: -1px;overflow: hidden;padding: 0;position: absolute;width: 1px;}#sk-container-id-1 div.sk-estimator {font-family: monospace;background-color: #f0f8ff;border: 1px dotted black;border-radius: 0.25em;box-sizing: border-box;margin-bottom: 0.5em;}#sk-container-id-1 div.sk-estimator:hover {background-color: #d4ebff;}#sk-container-id-1 div.sk-parallel-item::after {content: \"\";width: 100%;border-bottom: 1px solid gray;flex-grow: 1;}#sk-container-id-1 div.sk-label:hover label.sk-toggleable__label {background-color: #d4ebff;}#sk-container-id-1 div.sk-serial::before {content: \"\";position: absolute;border-left: 1px solid gray;box-sizing: border-box;top: 0;bottom: 0;left: 50%;z-index: 0;}#sk-container-id-1 div.sk-serial {display: flex;flex-direction: column;align-items: center;background-color: white;padding-right: 0.2em;padding-left: 0.2em;position: relative;}#sk-container-id-1 div.sk-item {position: relative;z-index: 1;}#sk-container-id-1 div.sk-parallel {display: flex;align-items: stretch;justify-content: center;background-color: white;position: relative;}#sk-container-id-1 div.sk-item::before, #sk-container-id-1 div.sk-parallel-item::before {content: \"\";position: absolute;border-left: 1px solid gray;box-sizing: border-box;top: 0;bottom: 0;left: 50%;z-index: -1;}#sk-container-id-1 div.sk-parallel-item {display: flex;flex-direction: column;z-index: 1;position: relative;background-color: white;}#sk-container-id-1 div.sk-parallel-item:first-child::after {align-self: flex-end;width: 50%;}#sk-container-id-1 div.sk-parallel-item:last-child::after {align-self: flex-start;width: 50%;}#sk-container-id-1 div.sk-parallel-item:only-child::after {width: 0;}#sk-container-id-1 div.sk-dashed-wrapped {border: 1px dashed gray;margin: 0 0.4em 0.5em 0.4em;box-sizing: border-box;padding-bottom: 0.4em;background-color: white;}#sk-container-id-1 div.sk-label label {font-family: monospace;font-weight: bold;display: inline-block;line-height: 1.2em;}#sk-container-id-1 div.sk-label-container {text-align: center;}#sk-container-id-1 div.sk-container {/* jupyter's `normalize.less` sets `[hidden] { display: none; }` but bootstrap.min.css set `[hidden] { display: none !important; }` so we also need the `!important` here to be able to override the default hidden behavior on the sphinx rendered scikit-learn.org. See: https://github.com/scikit-learn/scikit-learn/issues/21755 */display: inline-block !important;position: relative;}#sk-container-id-1 div.sk-text-repr-fallback {display: none;}</style><div id=\"sk-container-id-1\" class=\"sk-top-container\"><div class=\"sk-text-repr-fallback\"><pre>SVC(C=1, gamma=&#x27;auto&#x27;, probability=True)</pre><b>In a Jupyter environment, please rerun this cell to show the HTML representation or trust the notebook. <br />On GitHub, the HTML representation is unable to render, please try loading this page with nbviewer.org.</b></div><div class=\"sk-container\" hidden><div class=\"sk-item\"><div class=\"sk-estimator sk-toggleable\"><input class=\"sk-toggleable__control sk-hidden--visually\" id=\"sk-estimator-id-1\" type=\"checkbox\" checked><label for=\"sk-estimator-id-1\" class=\"sk-toggleable__label sk-toggleable__label-arrow\">SVC</label><div class=\"sk-toggleable__content\"><pre>SVC(C=1, gamma=&#x27;auto&#x27;, probability=True)</pre></div></div></div></div></div>"
     },
     "execution_count": 5,
     "metadata": {},
     "output_type": "execute_result"
    }
   ],
   "source": [
    "# build TF-IDF vectorizer\n",
    "german_stop_words = stopwords.words('german')\n",
    "tfidf_vectorizer = TfidfVectorizer(analyzer='word', stop_words=german_stop_words)\n",
    "\n",
    "fit_tfidf_documents = tp.clean_german_texts(documents)\n",
    "tfidf_vectorizer.fit_transform(fit_tfidf_documents)\n",
    "\n",
    "# train or load SVM\n",
    "train_texts = tfidf_svm_train['text'].values\n",
    "train_texts = tp.clean_german_texts(train_texts)\n",
    "train_text_vectors = tfidf_vectorizer.transform(train_texts)\n",
    "rbX = RobustScaler(with_centering=False)\n",
    "train_text_vectors_norm = rbX.fit_transform(train_text_vectors)\n",
    "\n",
    "train_labels = tfidf_svm_train['is_GDPR'].values\n",
    "SVM = svm.SVC(C=1, kernel='rbf', degree=3, gamma='auto', probability=True)\n",
    "SVM.fit(train_text_vectors_norm, train_labels)"
   ],
   "metadata": {
    "collapsed": false,
    "ExecuteTime": {
     "end_time": "2023-12-31T13:20:07.629350824Z",
     "start_time": "2023-12-31T13:20:01.637971863Z"
    }
   },
   "id": "502b05279d482d3b"
  },
  {
   "cell_type": "code",
   "execution_count": 7,
   "outputs": [
    {
     "data": {
      "text/plain": "dict"
     },
     "execution_count": 7,
     "metadata": {},
     "output_type": "execute_result"
    }
   ],
   "source": [
    "type(tfidf_vectorizer.vocabulary_)"
   ],
   "metadata": {
    "collapsed": false,
    "ExecuteTime": {
     "end_time": "2023-12-31T13:22:12.015974795Z",
     "start_time": "2023-12-31T13:22:11.998115384Z"
    }
   },
   "id": "4af11905d381927b"
  },
  {
   "cell_type": "code",
   "execution_count": 13,
   "outputs": [
    {
     "data": {
      "text/plain": "{'checkup': 2402,\n 'mail': 8247,\n 'search': 11460,\n 'hom': 6223,\n 'warum': 14353,\n 'find': 4618,\n 'biet': 1862,\n 'kostenoptimier': 7470,\n 'controlling': 2617,\n 'erp': 4127,\n 'system': 12559,\n 'nutz': 9339,\n 'uberzeug': 13240,\n 'beispiel': 1487,\n 'gold': 5593,\n 'regeln': 10740,\n 'netzwerk': 9153,\n 'mitgliedschaft': 8770,\n 'partn': 9692,\n 'praxis': 10086,\n 'kontakt': 7369,\n 'navigation': 9094,\n 'expert': 4305,\n 'edv': 3526,\n 'gestutzt': 5454,\n 'optimier': 9528,\n 'betriebsablauf': 1765,\n 'effektiv': 3532,\n 'kostenrechn': 7472,\n 'hilft': 6111,\n 'unternehm': 13456,\n 'steu': 12288,\n 'richtig': 10934,\n 'entscheid': 3942,\n 'treff': 13061,\n 'schliess': 11283,\n 'luck': 8173,\n 'besteh': 1704,\n 'syst': 12557,\n 'it': 6798,\n 'losung': 8144,\n 'optimi': 9527,\n 'kaufmann': 7049,\n 'prozess': 10406,\n 'massgeschneidert': 8431,\n 'softwarelos': 11870,\n 'hand': 5794,\n 'scharf': 11220,\n 'blick': 1942,\n 'ganz': 5059,\n 'detail': 3052,\n 'aug': 992,\n 'verli': 13790,\n 'kostenberat': 7458,\n 'spar': 11987,\n 'zeit': 14961,\n 'geld': 5217,\n 'berat': 1579,\n 'gepaart': 5297,\n 'individuell': 6483,\n 'planung': 9932,\n 'kontroll': 7395,\n 'unternehmensentwickl': 13465,\n 'wichtig': 14668,\n 'baustein': 1337,\n 'unternehmenserfolg': 13466,\n 'funktionier': 4999,\n 'umfass': 13271,\n 'erwirtschaft': 4190,\n 'firm': 4632,\n 'mehr': 8545,\n 'gewinn': 5502,\n 'extern': 4327,\n 'dienstleistungspartn': 3117,\n 'ubernimmt': 13205,\n 'komplett': 7299,\n 'kund': 7564,\n 'mittelstand': 8787,\n 'erstell': 4160,\n 'qualitativ': 10503,\n 'quantitativ': 10524,\n 'steuerungsinstrument': 12301,\n 'deckungsbeitragsrechn': 2954,\n 'kostenart': 7457,\n 'kostenstell': 7474,\n 'kostentragerrechn': 7476,\n 'liquiditatsplan': 8044,\n 'prozesskostenrechn': 10418,\n 'provisionsabrechn': 10401,\n 'zeitnah': 14977,\n 'ermittelt': 4112,\n 'kennzahl': 7083,\n 'unternehmensleit': 13475,\n 'fuhrungskraft': 4961,\n 'ergebnisorientiert': 4060,\n 'umsetz': 13300,\n 'bereitgestellt': 1606,\n 'les': 7933,\n 'unterlieg': 13451,\n 'permanent': 9780,\n 'inn': 6595,\n 'auss': 1094,\n 'einfluss': 3605,\n 'versuch': 13901,\n 'jeweil': 6874,\n 'situation': 11783,\n 'anzupass': 701,\n 'oft': 9442,\n 'einfach': 3603,\n 'moglich': 8849,\n 'erfolgreich': 4035,\n 'verfug': 13719,\n 'deshalb': 3032,\n 'potenzial': 10036,\n 'selt': 11556,\n 'mangel': 8309,\n 'kenntnis': 7080,\n 'vernachlassigt': 13823,\n 'aktiv': 307,\n 'unterstutz': 13514,\n 'analysiert': 426,\n 'kostensituation': 7473,\n 'einsparmog': 3691,\n 'setz': 11647,\n 'wiss': 14758,\n 'kostenziel': 7479,\n 'erreich': 4130,\n 'heut': 6071,\n 'immens': 6414,\n 'bedeut': 1399,\n 'unternehmensdat': 13463,\n 'unterschied': 13510,\n 'form': 4785,\n 'datei': 2806,\n 'datenbank': 2813,\n 'archivsystem': 795,\n 'vorlieg': 14211,\n 'eingesetzt': 3634,\n 'wertvoll': 14631,\n 'dien': 3105,\n 'leist': 7885,\n 'erweit': 4182,\n 'entwickeln': 3968,\n 'innovativ': 6614,\n 'unternehmensspezif': 13486,\n 'erfordernis': 4049,\n 'berucksichtigt': 1637,\n 'fachkompetenz': 4367,\n 'analys': 418,\n 'konzeption': 7413,\n 'einfuhr': 3607,\n 'schulung': 11388,\n 'integriert': 6666,\n 'unternehmenssteuerungssystem': 13488,\n 'besond': 1683,\n 'helf': 5993,\n 'dabei': 2736,\n 'betrieb': 1764,\n 'ablauf': 69,\n 'fahig': 4390,\n 'kombination': 7251,\n 'fachwiss': 4382,\n 'programmierkenntnis': 10313,\n 'erfolgsfaktor': 4037,\n 'unternehmer': 13500,\n 'langzeit': 7762,\n 'erfolg': 4034,\n 'erweis': 4181,\n 'imm': 6413,\n 'uberrascht': 13210,\n 'offn': 9436,\n 'konzept': 7410,\n 'ubernehm': 13204,\n 'gleich': 5555,\n 'iger': 6380,\n 'erfolgsgaranti': 4039,\n 'lothar': 8155,\n 'schmidt': 11308,\n 'diplom': 3167,\n 'inhab': 6575,\n 'zeitungsartikel': 14985,\n 'beraterkompetenz': 1581,\n 'oberfrank': 9387,\n 'bay': 1352,\n 'event': 4262,\n 'pressemitteil': 10138,\n 'unterstutzt': 13515,\n 'beraternetzwerk': 1582,\n 'forum': 4824,\n 'hof': 6198,\n 'symbios': 12536,\n 'unternehmensberat': 13460,\n 'mittelfrank': 8782,\n 'unterfrank': 13443,\n 'seit': 11507,\n 'grundung': 5713,\n 'zahlreich': 14925,\n 'realisiert': 10642,\n 'projekt': 10322,\n 'nachweis': 9041,\n 'erfolgsquot': 4042,\n 'kundennah': 7608,\n 'sachkompetent': 11116,\n 'integ': 6654,\n 'weit': 14502,\n 'infos': 6552,\n 'kreativ': 7507,\n 'losungsgerecht': 8147,\n 'denk': 3005,\n 'kundenorientiert': 7610,\n 'praxiserfahr': 10088,\n 'vorgehensweis': 14189,\n 'professionell': 10287,\n 'strukturiert': 12418,\n 'projektmanagement': 10349,\n 'umsetzungskompetenz': 13303,\n 'objektiv': 9398,\n 'zielorientiert': 15033,\n 'arbeitsweis': 775,\n 'zieladaquat': 15024,\n 'aufbereit': 889,\n 'entscheidungsrelevant': 3948,\n 'unterlag': 13450,\n 'ausfuhr': 1028,\n 'leistungsspektrum': 7903,\n 'prazis': 10098,\n 'unternehmenssituation': 13484,\n 'ganzheit': 5060,\n 'betreu': 1761,\n 'erfolgskontroll': 4041,\n 'strateg': 12374,\n 'handlungsvorschlag': 5827,\n 'prozessoptimier': 10423,\n 'kost': 7455,\n 'zeiteinspar': 14967,\n 'einbuss': 3591,\n 'qualitat': 10502,\n 'servic': 11616,\n 'durchgang': 3421,\n 'kostentransparenz': 7477,\n 'steiger': 12254,\n 'produktivitat': 10252,\n 'starkung': 12199,\n 'ertragskraft': 4173,\n 'besser': 1688,\n 'liquiditat': 8043,\n 'gut': 5740,\n 'grund': 5698,\n 'copyright': 2642,\n 'xing': 14882,\n 'profil': 10289,\n 'flyer': 4738,\n 'pdf': 9751,\n 'impressum': 6441,\n 'datenschutzerklar': 2865,\n 'rangstr': 10580,\n 'marktredwitz': 8398,\n 'tel': 12729,\n 'fax': 4460,\n 'back': 1236,\n 'to': 12942,\n 'top': 12967,\n 'websit': 14438,\n 'benutzt': 1573,\n 'cooki': 2623,\n 'geh': 5188,\n 'einverstandnis': 3711,\n 'ok': 9448,\n 'weiterles': 14523,\n 'willkomm': 14724,\n 'bitspielverlag': 1923,\n 'de': 2941,\n 'en': 3830,\n 'domainkauf': 3270,\n 'treuhandservic': 13075,\n 'domain': 3259,\n 'kauf': 7042,\n 'bitspielv': 1922,\n 'ag': 239,\n 'steht': 12249,\n 'verkauf': 13752,\n 'marktplatz': 8395,\n 'angebot': 477,\n 'erwerb': 4187,\n 'gebot': 5133,\n 'abgeb': 27,\n 'parkt': 9683,\n 'beim': 1483,\n 'parking': 9678,\n 'programm': 10302,\n 'homepag': 6228,\n 'uberarbeitet': 13174,\n 'schau': 11226,\n 'mal': 8282,\n 'vorbei': 14163,\n 'interessi': 6693,\n 'eig': 3560,\n 'zufried': 15069,\n 'einzigart': 3736,\n 'shopping': 11679,\n 'erlebnis': 4102,\n 'garanti': 5069,\n 'verwend': 13989,\n 'erlaub': 4093,\n 'information': 6528,\n 'erheb': 4068,\n 'anzeig': 688,\n 'inhalt': 6579,\n 'personalisi': 9798,\n 'shop': 11677,\n 'natur': 9079,\n 'onlineshop': 9491,\n 'technisch': 12688,\n 'erford': 4047,\n 'aktivierst': 310,\n 'datenschutz': 2854,\n 'einstell': 3696,\n 'anpasst': 572,\n 'ammersdorf': 408,\n 'agb': 240,\n 'titl': 12931,\n 'direkt': 3172,\n 'seiteninhalt': 11516,\n 'softwar': 11858,\n 'hardwar': 5864,\n 'herzlich': 6063,\n 'internetseit': 6716,\n 'jahrig': 6836,\n 'erfahr': 4021,\n 'verschieden': 13856,\n 'bereich': 1602,\n 'gibt': 5521,\n 'gewunscht': 5513,\n 'leicht': 7877,\n 'einstieg': 3699,\n 'zeitgemass': 14973,\n 'burotechn': 2244,\n 'garantiert': 5072,\n 'schnell': 11319,\n 'freundlich': 4913,\n 'zuletzt': 15113,\n 'zuverlass': 15182,\n 'hotlin': 6258,\n 'markenzeich': 8357,\n 'erhalt': 4066,\n 'anforder': 467,\n 'voll': 14122,\n 'gerecht': 5317,\n 'notfall': 9309,\n 'jederzeit': 6860,\n 'verlass': 13784,\n 'auftret': 975,\n 'problem': 10195,\n 'nu': 9328,\n 'beseitigt': 1677,\n 'all': 342,\n 'einarbeit': 3580,\n 'mitarbeit': 8741,\n 'reibungslos': 10767,\n 'erst': 4157,\n 'macht': 8215,\n 'gemacht': 5240,\n 'mittl': 8793,\n 'einzelhandel': 3724,\n 'grosshandel': 5683,\n 'fertigungsbetrieb': 4535,\n 'sowi': 11964,\n 'kfz': 7107,\n 'werkstatt': 14599,\n 'handl': 5820,\n 'daneb': 2760,\n 'bedi': 1401,\n 'handwerksbetrieb': 5832,\n 'last': 7784,\n 'but': 2253,\n 'not': 9302,\n 'least': 7830,\n 'freiberufl': 4881,\n 'arztpraxis': 835,\n 'steuerkanzlei': 12295,\n 'zielsetz': 15036,\n 'stet': 12286,\n 'best': 1689,\n 'erfull': 4053,\n 'pc': 9745,\n 'visit': 14081,\n 'gastmodul': 5091,\n 'pcvisit': 9749,\n 'remot': 10827,\n 'support': 12498,\n 'lad': 7692,\n 'kundenmodul': 7607,\n 'herunt': 6050,\n 'installation': 6635,\n 'notig': 9313,\n 'ledig': 7855,\n 'ausgefuhrt': 1039,\n 'fernwartungsid': 4526,\n 'sitzung': 11788,\n 'gultig': 5730,\n 'nachd': 9009,\n 'start': 12201,\n 'geklickt': 5208,\n 'verbind': 13677,\n 'aufgebaut': 914,\n 'pautzfeld': 9735,\n 'str': 12362,\n 'forchheim': 4777,\n 'ammesdoerf': 409,\n 'grun': 5697,\n 'data': 2795,\n 'gmbh': 5580,\n 'recht': 10674,\n 'vorbehalt': 14162,\n 'fut': 5027,\n 'dienstleist': 3114,\n 'business': 2249,\n 'systemhaus': 12571,\n 'zuruck': 15134,\n 'aktivi': 308,\n 'bitt': 1924,\n 'javascript': 6854,\n 'zustimm': 15172,\n 'iabv': 6321,\n 'setting': 11645,\n 'webseit': 14427,\n 'funktion': 4994,\n 'sozial': 11967,\n 'medi': 8496,\n 'anbiet': 438,\n 'zugriff': 15089,\n 'analysi': 425,\n 'ausserd': 1111,\n 'geb': 5115,\n 'werbung': 14589,\n 'fuhr': 4955,\n 'moglicherweis': 8850,\n 'dat': 2794,\n 'zusamm': 15143,\n 'rahm': 10564,\n 'nutzung': 9361,\n 'gesammelt': 5331,\n 'consent': 2585,\n 'selection': 11547,\n 'notwend': 9320,\n 'praferenz': 10055,\n 'statist': 12216,\n 'marketing': 8359,\n 'nutzbar': 9340,\n 'grundfunktion': 5703,\n 'seitennavigation': 11518,\n 'ermog': 4113,\n 'funktioni': 4998,\n 'cookiebot': 2624,\n 'cookieconsent': 2625,\n 'speichert': 12019,\n 'zustimmungsstatus': 15175,\n 'benutz': 1555,\n 'aktuell': 317,\n 'doman': 3284,\n 'jahr': 6824,\n 'typ': 13162,\n 'http': 6284,\n 'googl': 5600,\n 'rc': 10624,\n 'verwendet': 13990,\n 'mensch': 8580,\n 'bot': 2025,\n 'unterscheid': 13508,\n 'vorteilhaft': 14235,\n 'bericht': 1618,\n 'persistent': 9783,\n 'html': 6283,\n 'session': 11643,\n 'play': 9947,\n 'com': 2517,\n 'youtub': 14911,\n 'nocooki': 9275,\n 'festzustell': 4561,\n 'besuch': 1728,\n 'marketingkategori': 8366,\n 'bann': 1280,\n 'akzeptiert': 324,\n 'einhalt': 3642,\n 'dsgvo': 3391,\n 'www': 14871,\n 'agendis': 242,\n 'otto': 9602,\n 'phpsessid': 9886,\n 'behalt': 1459,\n 'zustand': 15168,\n 'seitenanfrag': 11510,\n 'erinn': 4074,\n 'art': 815,\n 'beeinfluss': 1422,\n 'verhalt': 13737,\n 'aussieht': 1120,\n 'bevorzugt': 1805,\n 'sprach': 12090,\n 'region': 10747,\n 'befind': 1430,\n 'besitz': 1681,\n 'versteh': 13897,\n 'interagi': 6678,\n 'anonym': 561,\n 'gemeldet': 5251,\n 'ga': 5031,\n 'registriert': 10760,\n 'eindeut': 3594,\n 'id': 6339,\n 'nutzt': 9360,\n 'generi': 5272,\n 'tag': 12599,\n 'gat': 5095,\n 'analytics': 433,\n 'anforderungsrat': 470,\n 'einzuschrank': 3744,\n 'gid': 5522,\n 'collect': 2509,\n 'gerat': 5307,\n 'send': 11566,\n 'erfasst': 4031,\n 'marketingkanal': 8365,\n 'hinweg': 6126,\n 'pixel': 9908,\n 'folg': 4754,\n 'absicht': 100,\n 'zeig': 14957,\n 'relevant': 10816,\n 'ansprech': 605,\n 'einzeln': 3727,\n 'dah': 2743,\n 'publish': 10459,\n 'werbetreib': 14586,\n 'drittpartei': 3350,\n 'genutzt': 5288,\n 'essentiell': 4217,\n 'maps': 8327,\n 'bereitzustell': 1612,\n 'yt': 14915,\n 'innertub': 6604,\n 'nextid': 9217,\n 'videos': 14032,\n 'geseh': 5412,\n 'requ': 10858,\n 'ytidb': 14916,\n 'result': 10889,\n 'entry': 3941,\n 'key': 7100,\n 'benutzereinstell': 1559,\n 'abruf': 85,\n 'cast': 2325,\n 'availabl': 1209,\n 'installed': 6639,\n 'connected': 2580,\n 'devic': 3074,\n 'fast': 4453,\n 'check': 2397,\n 'period': 9776,\n 'app': 715,\n 'nam': 9062,\n 'klassifiziert': 7166,\n 'gerad': 5304,\n 'klassifizi': 7164,\n 'domainubergreif': 3282,\n 'bulk': 2199,\n 'count': 2659,\n 'list': 8045,\n 'gilt': 5532,\n 'erklar': 4082,\n 'wurd': 14863,\n 'letzt': 7942,\n 'aktualisiert': 315,\n 'body': 1990,\n 'intro': 6736,\n 'legitimat': 7867,\n 'inter': 6674,\n 'preferenc': 10103,\n 'label': 7685,\n 'purpos': 10477,\n 'featur': 4469,\n 'klein': 7175,\n 'textdatei': 12824,\n 'benutzererfahr': 1560,\n 'effizient': 3535,\n 'gestalt': 5439,\n 'laut': 7808,\n 'gesetz': 5417,\n 'speich': 12010,\n 'unbedingt': 13341,\n 'benot': 1552,\n 'erlaubnis': 4094,\n 'platziert': 9945,\n 'erschein': 4146,\n 'einwill': 3714,\n 'and': 442,\n 'widerruf': 14671,\n 'datenschutzrichtlini': 2878,\n 'darub': 2786,\n 'wer': 14558,\n 'kontakti': 7377,\n 'personenbezog': 9814,\n 'verarbeit': 13663,\n 'datum': 2921,\n 'bezug': 1844,\n 'person': 9784,\n 'weitergeb': 14513,\n 'ausgewahlt': 1059,\n 'anpass': 570,\n 'zulass': 15112,\n 'powered': 10045,\n 'by': 2257,\n 'usercentrics': 13578,\n 'info': 6518,\n 'uberspring': 13226,\n 'startseit': 12209,\n 'ansprechpartn': 606,\n 'news': 9202,\n 'pressemeld': 10137,\n 'messetermin': 8628,\n 'verantwort': 13656,\n 'handelsprogramm': 5812,\n 'programmubersicht': 10320,\n 'kabelkonfektion': 6942,\n 'newsletteranmeld': 9209,\n 'newsletterabmeld': 9207,\n 'download': 3316,\n 'elektrotechn': 3777,\n 'mechan': 8490,\n 'komponent': 7312,\n 'distribution': 3207,\n 'kompetenz': 7296,\n 'tatig': 12649,\n 'schwerpunkt': 11435,\n 'handel': 5798,\n 'elektro': 3761,\n 'produkt': 10215,\n 'raum': 10607,\n 'sud': 12478,\n 'deutschland': 3067,\n 'nied': 9241,\n 'sachs': 11118,\n 'fertig': 4530,\n 'spezif': 12051,\n 'konfektio': 7321,\n 'niert': 9251,\n 'kabeln': 6945,\n 'kabelsystem': 6947,\n 'stark': 12197,\n 'langjahr': 7758,\n 'qualifiziert': 10499,\n 'arbeit': 739,\n 'markt': 8380,\n 'segment': 11498,\n 'industri': 6489,\n 'namhaft': 9066,\n 'nehm': 9124,\n 'lieferant': 7992,\n 'beurteilt': 1801,\n 'flexibl': 4703,\n 'kurzfrist': 7663,\n 'bearbeit': 1376,\n 'anfrag': 471,\n 'zuv': 15179,\n 'lassig': 7782,\n 'auftragsabwickl': 958,\n 'profiti': 10299,\n 'umfang': 13269,\n 'reich': 10769,\n 'lag': 7707,\n 'dadurch': 2740,\n 'kurz': 7659,\n 'lief': 7989,\n 'wettbewerb': 14644,\n 'preis': 10105,\n 'weiterhin': 14521,\n 'sond': 11917,\n 'werbeagentur': 14560,\n 'polyneo': 9993,\n 'uberwach': 13232,\n 'infrastruktur': 6560,\n 'telefoni': 12740,\n 'softwareentwickl': 11863,\n 'smart': 11816,\n 'datenaustausch': 2811,\n 'wartung': 14345,\n 'acomm': 158,\n 'team': 12673,\n 'karri': 7006,\n 'fernwart': 4524,\n 'losungsfind': 8146,\n 'punkt': 10472,\n 'gebracht': 5134,\n 'such': 12462,\n 'neu': 9163,\n 'passend': 9710,\n 'kenn': 7073,\n 'schon': 11337,\n 'termin': 12785,\n 'vereinbar': 13706,\n 'unverbind': 13524,\n 'ausprobi': 1090,\n 'wieso': 14713,\n 'leb': 7832,\n 'kennenlern': 7075,\n 'wart': 14342,\n 'anseh': 597,\n 'passgenau': 9712,\n 'unkompliziert': 13409,\n 'entdeck': 3906,\n 'gern': 5325,\n 'profis': 10297,\n 'gefall': 5162,\n 'begeistert': 1443,\n 'erganz': 4056,\n 'mocht': 8829,\n 'perspektiv': 9822,\n 'numm': 9333,\n 'zieh': 15021,\n 'austausch': 1129,\n 'off': 9417,\n 'kommunikation': 7266,\n 'aufnehm': 940,\n 'gesicht': 5423,\n 'langfrist': 7755,\n 'bischof': 1909,\n 'dinkel': 3162,\n 'strass': 12373,\n 'bad': 1250,\n 'staffelstein': 12150,\n 'geschwist': 5410,\n 'scholl': 11335,\n 'ring': 10947,\n 'bamberg': 1266,\n 'anruf': 578,\n 'menu': 8587,\n 'mac': 8208,\n 'macbook': 8209,\n 'air': 279,\n 'pro': 10189,\n 'imac': 6402,\n 'mini': 8712,\n 'studio': 12433,\n 'display': 3193,\n 'iphon': 6762,\n 'max': 8469,\n 'se': 11457,\n 'ipad': 6760,\n 'watch': 14368,\n 'appl': 721,\n 'seri': 11586,\n 'tv': 13154,\n 'music': 8972,\n 'airpod': 281,\n 'homepod': 6231,\n 'storefind': 12345,\n 'reparatur': 10842,\n 'bildung': 1885,\n 'restpost': 10888,\n 'stellenangebot': 12264,\n 'wechseln': 14454,\n 'stor': 12340,\n 'plus': 9962,\n 'ultra': 13263,\n 'beding': 1411,\n 'beacht': 1367,\n 'wahl': 14281,\n 'spat': 11992,\n 'zahl': 14920,\n 'sofort': 11847,\n 'freu': 4910,\n 'zinsfrei': 15047,\n 'monat': 8862,\n 'finanzi': 4612,\n 'bring': 2127,\n 'ordnung': 9562,\n 'autorisiert': 1203,\n 'nah': 9052,\n 'deutschlandweit': 3068,\n 'anlieg': 547,\n 'rund': 11080,\n 'ums': 13289,\n 'thema': 12851,\n 'education': 3525,\n 'solution': 11908,\n 'schul': 11381,\n 'digital': 3141,\n 'zud': 15065,\n 'student': 12427,\n 'lehr': 7872,\n 'speziell': 12050,\n 'geschult': 5407,\n 'samtlich': 11157,\n 'angeleg': 497,\n 'gemeinsam': 5249,\n 'ausgebildet': 1036,\n 'technik': 12686,\n 'repari': 10845,\n 'zertifiziert': 15013,\n 'genau': 5258,\n 'vorgab': 14177,\n 'bleibt': 1939,\n 'selbstverstand': 11543,\n 'compustor': 2548,\n 'rechtlich': 10675,\n 'inklusiv': 6591,\n 'mwst': 8993,\n 'anwendbar': 649,\n 'urheberrechtsabgab': 13553,\n 'versandkost': 13850,\n 'sof': 11846,\n 'angegeb': 491,\n 'irrtum': 6775,\n 'schreibfehl': 11354,\n 'preisander': 10107,\n 'kg': 7108,\n 'hinweis': 6127,\n 'weitergeh': 14516,\n 'entnehm': 3936,\n 'datenschutzeinstell': 2859,\n 'bevor': 1803,\n 'ahnlich': 268,\n 'technologi': 12691,\n 'grundleg': 5706,\n 'funktionalitat': 4996,\n 'onlineangebot': 9482,\n 'verbess': 13672,\n 'wirtschaft': 14751,\n 'betreib': 1757,\n 'akzepti': 322,\n 'klick': 7185,\n 'willig': 14723,\n 'button': 2255,\n 'auswahl': 1135,\n 'per': 9769,\n 'link': 8033,\n 'foot': 4772,\n 'essenziell': 4218,\n 'ablehn': 74,\n 'ubersicht': 13223,\n 'kategori': 7030,\n 'lass': 7781,\n 'bestimmt': 1719,\n 'einwandfrei': 3712,\n 'ausblend': 1016,\n 'borlab': 2015,\n 'eigentum': 3574,\n 'zweck': 15197,\n 'box': 2032,\n 'laufzeit': 7799,\n 'videoplattform': 14028,\n 'social': 11840,\n 'media': 8497,\n 'plattform': 9940,\n 'standardmass': 12172,\n 'blockiert': 1953,\n 'bedarf': 1388,\n 'manuell': 8320,\n 'storemap': 12347,\n 'skip': 11798,\n 'content': 2604,\n 'ruf': 11070,\n 'connect': 2579,\n 'neustadt': 9197,\n 'leistung': 7887,\n 'seminar': 11560,\n 'coaching': 2492,\n 'personalentwickl': 9794,\n 'transfergesellschaft': 13033,\n 'outplacement': 9612,\n 'berufscoaching': 1643,\n 'stellenvermittl': 12271,\n 'veranstalt': 13652,\n 'ratgeb': 10596,\n 'wert': 14620,\n 'gesellschaft': 5413,\n 'seminarraum': 11564,\n 'referenz': 10724,\n 'adminconnect': 194,\n 'geht': 5201,\n 'kurzarbeit': 7660,\n 'homeoffic': 6227,\n 'dienstplan': 3122,\n 'auswirk': 1142,\n 'corona': 2646,\n 'pandemi': 9654,\n 'deutlich': 3065,\n 'bang': 1271,\n 'zukunft': 15104,\n 'personal': 9785,\n 'entlass': 3932,\n 'fortbestand': 4812,\n 'betroff': 1792,\n 'weich': 14472,\n 'stell': 12263,\n 'arbeitnehm': 743,\n 'beruf': 1638,\n 'auszuricht': 1153,\n 'steh': 12247,\n 'turbulent': 13136,\n 'rat': 10593,\n 'tat': 12648,\n 'arbeitnehmervertret': 745,\n 'weihnacht': 14478,\n 'betriebsurlaub': 1785,\n 'galleri': 5047,\n 'dr': 3320,\n 'dezemb': 3079,\n 'th': 12837,\n 'buro': 2229,\n 'stundenweis': 12440,\n 'besetzt': 1679,\n 'dringend': 3342,\n 'fall': 4418,\n 'schick': 11244,\n 'hinterlass': 6123,\n 'nachricht': 9026,\n 'anrufbeantwort': 579,\n 'regelmass': 10739,\n 'abgehort': 34,\n 'fuhrungsaufgab': 4960,\n 'umgang': 13277,\n 'herausforder': 6014,\n 'novemb': 9324,\n 'long': 8127,\n 'covid': 2664,\n 'personell': 9812,\n 'ausfall': 1021,\n 'hoh': 6204,\n 'arbeitspensum': 760,\n 'psychisch': 10448,\n 'belast': 1512,\n 'ermud': 4115,\n 'bietet': 1863,\n 'mitarbeiterinn': 8747,\n 'dank': 2764,\n 'nectv': 9120,\n 'berichterstatt': 1619,\n 'akoon': 292,\n 'bild': 1870,\n 'video': 14014,\n 'gelang': 5214,\n 'motto': 8904,\n 'transf': 13029,\n 'co': 2491,\n 'arnoldplatz': 810,\n 'coburg': 2496,\n 'phon': 9877,\n 'email': 3797,\n 'web': 14383,\n 'https': 6285,\n 'ansteh': 613,\n 'jan': 6844,\n 'arbeitssuch': 771,\n 'feb': 4471,\n 'ms': 8919,\n 'excel': 4281,\n 'mrz': 8918,\n 'offic': 9429,\n 'kalend': 6959,\n 'login': 8098,\n 'newslett': 9206,\n 'anmeld': 549,\n 'adress': 205,\n 'anred': 574,\n 'optional': 9538,\n 'angab': 475,\n 'frau': 4870,\n 'herr': 6037,\n 'nachnam': 9024,\n 'einverstand': 3710,\n 'kostenlos': 7469,\n 'abmeld': 76,\n 'feld': 4501,\n 'leer': 7856,\n 'pag': 9637,\n 'load': 8080,\n 'vollstand': 14134,\n 'bedingt': 1412,\n 'einschrank': 3683,\n 'vorkomm': 14205,\n 'tracking': 13002,\n 'oben': 9377,\n 'handlerbereich': 5821,\n 'tegernheim': 12709,\n 'mittelberg': 8781,\n 'uma': 13265,\n 'onlin': 9481,\n 'holg': 6211,\n 'hollerich': 6216,\n 'design': 3034,\n 'programmier': 10309,\n 'shops': 11681,\n 'management': 8296,\n 'cms': 2487,\n 'serv': 11603,\n 'fitness': 4666,\n 'wordpress': 14821,\n 'portfolio': 10008,\n 'konzipi': 7418,\n ...}"
     },
     "execution_count": 13,
     "metadata": {},
     "output_type": "execute_result"
    }
   ],
   "source": [
    "tfidf_vectorizer.vocabulary_"
   ],
   "metadata": {
    "collapsed": false,
    "ExecuteTime": {
     "end_time": "2023-12-31T13:28:51.094086926Z",
     "start_time": "2023-12-31T13:28:51.054054499Z"
    }
   },
   "id": "581ffd5e2d82516e"
  },
  {
   "cell_type": "code",
   "execution_count": 12,
   "outputs": [
    {
     "data": {
      "text/plain": "[('česká', 15219),\n ('zzgl', 15218),\n ('zylinderschloss', 15217),\n ('zyklisch', 15216),\n ('zykl', 15215),\n ('zwonitz', 15214),\n ('zwischenzon', 15213),\n ('zwischenstops', 15212),\n ('zwischendurch', 15211),\n ('zwirn', 15210),\n ('zwingend', 15209),\n ('zwickau', 15208),\n ('zwergenpow', 15207),\n ('zwergenfantasi', 15206),\n ('zwerg', 15205),\n ('zweit', 15204),\n ('zweifel', 15203),\n ('zweieinhalb', 15202),\n ('zwei', 15201),\n ('zweckmass', 15200),\n ('zweckgebund', 15199),\n ('zweckbestimm', 15198),\n ('zweck', 15197),\n ('zwangsstor', 15196),\n ('zwangslauf', 15195),\n ('zwangsjack', 15194),\n ('zwanghaft', 15193),\n ('zwang', 15192),\n ('zwack', 15191),\n ('zuzustimm', 15190),\n ('zuzurechn', 15189),\n ('zuzulass', 15188),\n ('zuzuhor', 15187),\n ('zuzugreif', 15186),\n ('zuwend', 15185),\n ('zuweis', 15184),\n ('zuvor', 15183),\n ('zuverlass', 15182),\n ('zuverla', 15181),\n ('zuverfug', 15180),\n ('zuv', 15179),\n ('zutun', 15178),\n ('zutrittskontroll', 15177),\n ('zutreff', 15176),\n ('zustimmungsstatus', 15175),\n ('zustimmungspflicht', 15174),\n ('zustimmungseinstell', 15173),\n ('zustimm', 15172),\n ('zustellungsbevollmachtigt', 15171),\n ('zusteht', 15170),\n ('zustandigenaufsichtsbehord', 15169),\n ('zustand', 15168),\n ('zusendungvon', 15167),\n ('zusend', 15166),\n ('zusatznutz', 15165),\n ('zusatzmodul', 15164),\n ('zusatzleist', 15163),\n ('zusatzkost', 15162),\n ('zusatzinformation', 15161),\n ('zusatz', 15160),\n ('zusammenzustell', 15159),\n ('zusammenzuarbeit', 15158),\n ('zusammenstell', 15157),\n ('zusammenspiel', 15156),\n ('zusammensetz', 15155),\n ('zusammenschluss', 15154),\n ('zusammenkomm', 15153),\n ('zusammenhangt', 15152),\n ('zusammenhang', 15151),\n ('zusammengestellt', 15150),\n ('zusammengefuhrt', 15149),\n ('zusammengefasst', 15148),\n ('zusammenfuhr', 15147),\n ('zusammenfu', 15146),\n ('zusammenfass', 15145),\n ('zusammenarbeit', 15144),\n ('zusamm', 15143),\n ('zusag', 15142),\n ('zurzeit', 15141),\n ('zuruf', 15140),\n ('zuruckzieh', 15139),\n ('zuruckverfolgt', 15138),\n ('zuruckruf', 15137),\n ('zuruckgreif', 15136),\n ('zuruckgegang', 15135),\n ('zuruck', 15134),\n ('zurich', 15133),\n ('zurerfull', 15132),\n ('zureduzi', 15131),\n ('zurecht', 15130),\n ('zuordnung', 15129),\n ('zuordn', 15128),\n ('zuordenbar', 15127),\n ('zunehm', 15126),\n ('zundend', 15125),\n ('zund', 15124),\n ('zunach', 15123),\n ('zumwiderruf', 15122),\n ('zumutbar', 15121),\n ('zumind', 15120),\n ('zumeist', 15119),\n ('zumbeispiel', 15118),\n ('zumal', 15117),\n ('zumail', 15116),\n ('zulief', 15115),\n ('zulieb', 15114),\n ('zuletzt', 15113),\n ('zulass', 15112),\n ('zukunftsweis', 15111),\n ('zukunftsvorstell', 15110),\n ('zukunftsstrategi', 15109),\n ('zukunftssich', 15108),\n ('zukunftsorientiert', 15107),\n ('zukunftsmarkt', 15106),\n ('zukunftsfah', 15105),\n ('zukunft', 15104),\n ('zukomm', 15103),\n ('zuklapp', 15102),\n ('zuhort', 15101),\n ('zuhor', 15100),\n ('zuhausenetz', 15099),\n ('zuhaus', 15098),\n ('zugwart', 15097),\n ('zugut', 15096),\n ('zugun', 15095),\n ('zugrund', 15094),\n ('zugriffszeit', 15093),\n ('zugriffsstatus', 15092),\n ('zugriffsrecht', 15091),\n ('zugriffsdat', 15090),\n ('zugriff', 15089),\n ('zugreif', 15088),\n ('zugleich', 15087),\n ('zugig', 15086),\n ('zugferd', 15085),\n ('zugewies', 15084),\n ('zugestimmt', 15083),\n ('zugeschnitt', 15082),\n ('zugeordnet', 15081),\n ('zugelass', 15080),\n ('zugehor', 15079),\n ('zugegriff', 15078),\n ('zugefuhrt', 15077),\n ('zugangszahl', 15076),\n ('zugangssoftwar', 15075),\n ('zugangskontroll', 15074),\n ('zugangsdat', 15073),\n ('zugang', 15072),\n ('zug', 15071),\n ('zufriedenheitsgaranti', 15070),\n ('zufried', 15069),\n ('zufall', 15068),\n ('zuerst', 15067),\n ('zueinand', 15066),\n ('zud', 15065),\n ('zucht', 15064),\n ('zubereitet', 15063),\n ('zubehor', 15062),\n ('zt', 15061),\n ('zsystem', 15060),\n ('zsyst', 15059),\n ('zsb', 15058),\n ('zoom', 15057),\n ('zoo', 15056),\n ('zollabfert', 15055),\n ('zoll', 15054),\n ('zog', 15053),\n ('zlcprivacy', 15052),\n ('zlcmid', 15051),\n ('zitt', 15050),\n ('zitat', 15049),\n ('zip', 15048),\n ('zinsfrei', 15047),\n ('zinnowitz', 15046),\n ('zimmermann', 15045),\n ('zimmerei', 15044),\n ('zimm', 15043),\n ('zimbabw', 15042),\n ('zillig', 15041),\n ('zigarett', 15040),\n ('ziff', 15039),\n ('ziemlich', 15038),\n ('zielt', 15037),\n ('zielsetz', 15036),\n ('zielplan', 15035),\n ('zielort', 15034),\n ('zielorientiert', 15033),\n ('ziellini', 15032),\n ('zielgruppenspezif', 15031),\n ('zielgruppenorientiert', 15030),\n ('zielgruppengerecht', 15029),\n ('zielgrupp', 15028),\n ('zielgerichtet', 15027),\n ('zielfuhr', 15026),\n ('zieladress', 15025),\n ('zieladaquat', 15024),\n ('ziel', 15023),\n ('ziehend', 15022),\n ('zieh', 15021),\n ('ziegl', 15020),\n ('zh', 15019),\n ('zfutur', 15018),\n ('zeusselmedia', 15017),\n ('zeussel', 15016),\n ('zeugnisgenerator', 15015),\n ('zeugnis', 15014),\n ('zertifiziert', 15013),\n ('zertifizier', 15012),\n ('zertifikatsschutz', 15011),\n ('zertifikat', 15010),\n ('zerstor', 15009),\n ('zerspanungstechn', 15008),\n ('zero', 15007),\n ('zeremoni', 15006),\n ('zentrumsleist', 15005),\n ('zentrum', 15004),\n ('zentral', 15003),\n ('zentr', 15002),\n ('zensys', 15001),\n ('zenshin', 15000),\n ('zendesk', 14999),\n ('zen', 14998),\n ('zement', 14997),\n ('zellwand', 14996),\n ('zelltyp', 14995),\n ('zellorganell', 14994),\n ('zelleredv', 14993),\n ('zellenkur', 14992),\n ('zell', 14991),\n ('zeitzonendifferenz', 14990),\n ('zeitzon', 14989),\n ('zeitwirtschaft', 14988),\n ('zeitverlust', 14987),\n ('zeitungsbeilag', 14986),\n ('zeitungsartikel', 14985),\n ('zeitung', 14984),\n ('zeitspar', 14983),\n ('zeitreih', 14982),\n ('zeitraumabhang', 14981),\n ('zeitraum', 14980),\n ('zeitpunkt', 14979),\n ('zeitplan', 14978),\n ('zeitnah', 14977),\n ('zeitlos', 14976),\n ('zeitlich', 14975),\n ('zeitgleich', 14974),\n ('zeitgemass', 14973),\n ('zeitgeist', 14972),\n ('zeitfen', 14971),\n ('zeitersparnis', 14970),\n ('zeiterfassungsterminal', 14969),\n ('zeiterfass', 14968),\n ('zeiteinspar', 14967),\n ('zeitaufwand', 14966),\n ('zeitarbeitssoftwar', 14965),\n ('zeitarbeitspersonal', 14964),\n ('zeitarbeit', 14963),\n ('zeitalt', 14962),\n ('zeit', 14961),\n ('zeilenhoh', 14960),\n ('zeil', 14959),\n ('zeigt', 14958),\n ('zeig', 14957),\n ('zeichnung', 14956),\n ('zeichnet', 14955),\n ('zeichn', 14954),\n ('zeichenlist', 14953),\n ('zeich', 14952),\n ('zehnjahr', 14951),\n ('zehn', 14950),\n ('zeh', 14949),\n ('zealand', 14948),\n ('ze', 14947),\n ('zcouncil', 14946),\n ('zbt', 14945),\n ('zauberwort', 14944),\n ('zauberhand', 14943),\n ('zaub', 14942),\n ('zapfendorf', 14941),\n ('zapf', 14940),\n ('zanetti', 14939),\n ('zambia', 14938),\n ('zahnarzt', 14937),\n ('zahlungsverkehr', 14936),\n ('zahlungsverbot', 14935),\n ('zahlungsseit', 14934),\n ('zahlungsraum', 14933),\n ('zahlungsmog', 14932),\n ('zahlungsinformation', 14931),\n ('zahlungsdat', 14930),\n ('zahlungsart', 14929),\n ('zahlungsabwickl', 14928),\n ('zahlung', 14927),\n ('zahlt', 14926),\n ('zahlreich', 14925),\n ('zahlfunktion', 14924),\n ('zahlerstand', 14923),\n ('zahlenversteh', 14922),\n ('zahlend', 14921),\n ('zahl', 14920),\n ('zac', 14919),\n ('yvonn', 14918),\n ('yvo', 14917),\n ('ytidb', 14916),\n ('yt', 14915),\n ('yst', 14914),\n ('ysis', 14913),\n ('ysc', 14912),\n ('youtub', 14911),\n ('yourlearning', 14910),\n ('your', 14909),\n ('young', 14908),\n ('youlearnsap', 14907),\n ('you', 14906),\n ('york', 14905),\n ('yoko', 14904),\n ('yoghurt', 14903),\n ('yogastund', 14902),\n ('yext', 14901),\n ('yes', 14900),\n ('yem', 14899),\n ('yellow', 14898),\n ('year', 14897),\n ('yaskawa', 14896),\n ('yahoo', 14895),\n ('xxx', 14894),\n ('xtralogix', 14893),\n ('xs', 14892),\n ('xrechnung', 14891),\n ('xpointsoftwar', 14890),\n ('xpoint', 14889),\n ('xoloo', 14888),\n ('xml', 14887),\n ('xlsx', 14886),\n ('xls', 14885),\n ('xl', 14884),\n ('xist', 14883),\n ('xing', 14882),\n ('xiii', 14881),\n ('xhtml', 14880),\n ('xh', 14879),\n ('xerox', 14878),\n ('xeri', 14877),\n ('xeon', 14876),\n ('xe', 14875),\n ('xdr', 14874),\n ('xbas', 14873),\n ('xaas', 14872),\n ('www', 14871),\n ('wwg', 14870),\n ('wust', 14869),\n ('wurzelimperium', 14868),\n ('wurzburg', 14867),\n ('wurttemberg', 14866),\n ('wurth', 14865),\n ('wurm', 14864),\n ('wurd', 14863),\n ('wuppertal', 14862),\n ('wunsiedl', 14861),\n ('wunsiedel', 14860),\n ('wunschtermin', 14859),\n ('wunscht', 14858),\n ('wunschdomain', 14857),\n ('wunsch', 14856),\n ('wundermittel', 14855),\n ('wunderbar', 14854),\n ('wund', 14853),\n ('wullf', 14852),\n ('wulfershaus', 14851),\n ('wuermeling', 14850),\n ('wu', 14849),\n ('wts', 14848),\n ('wsw', 14847),\n ('wsv', 14846),\n ('ws', 14845),\n ('wrong', 14844),\n ('writ', 14843),\n ('wpml', 14842),\n ('wpcerb', 14841),\n ('wp', 14840),\n ('wow', 14839),\n ('worx', 14838),\n ('worub', 14837),\n ('wortmann', 14836),\n ('wortgrupp', 14835),\n ('wort', 14834),\n ('worn', 14833),\n ('worm', 14832),\n ('worldwideweb', 14831),\n ('world', 14830),\n ('workshops', 14829),\n ('workshop', 14828),\n ('workplac', 14827),\n ('workload', 14826),\n ('working', 14825),\n ('workflows', 14824),\n ('workflow', 14823),\n ('work', 14822),\n ('wordpress', 14821),\n ('word', 14820),\n ('worauf', 14819),\n ('woran', 14818),\n ('woocommerc', 14817),\n ('wond', 14816),\n ('womog', 14815),\n ('womit', 14814),\n ('wollt', 14813),\n ('wollbach', 14812),\n ('wolk', 14811),\n ('wolfsburg', 14810),\n ('wolfrum', 14809),\n ('wolfgang', 14808),\n ('wolf', 14807),\n ('woith', 14806),\n ('wohrl', 14805),\n ('wohnzimm', 14804),\n ('wohnwert', 14803),\n ('wohnwag', 14802),\n ('wohnungswirtschaft', 14801),\n ('wohnungsnetz', 14800),\n ('wohnungsbestand', 14799),\n ('wohnsitz', 14798),\n ('wohnort', 14797),\n ('wohnmobil', 14796),\n ('wohnlandschaft', 14795),\n ('wohnbau', 14794),\n ('wohltat', 14793),\n ('wohlhab', 14792),\n ('wohlgefuhlt', 14791),\n ('wohlfuhlkomfort', 14790),\n ('wohlerstrass', 14789),\n ('wohlergeh', 14788),\n ('wohlbehalt', 14787),\n ('wohlbefind', 14786),\n ('wohl', 14785),\n ('wohin', 14784),\n ('woh', 14783),\n ('wofur', 14782),\n ('wodurch', 14781),\n ('wochen', 14780),\n ('woch', 14779),\n ('wobei', 14778),\n ('wmlisa', 14777),\n ('wm', 14776),\n ('wlan', 14775),\n ('wizard', 14774),\n ('wittmann', 14773),\n ('witt', 14772),\n ('without', 14771),\n ('withdraw', 14770),\n ('with', 14769),\n ('wissmann', 14768),\n ('wissenswert', 14767),\n ('wissensvorspr', 14766),\n ('wissensstand', 14765),\n ('wissensplattform', 14764),\n ('wissensmanagement', 14763),\n ('wissensdatenbank', 14762),\n ('wissenschaftl', 14761),\n ('wissenschaft', 14760),\n ('wissendatenbank', 14759),\n ('wiss', 14758),\n ('wismar', 14757),\n ('wish', 14756),\n ('wirtschaftsspionag', 14755),\n ('wirtschaftssimulation', 14754),\n ('wirtschaftsraum', 14753),\n ('wirtschaftsingenieur', 14752),\n ('wirtschaft', 14751),\n ('wirkungsweis', 14750),\n ('wirkungsvoll', 14749),\n ('wirkungsmechanism', 14748),\n ('wirkung', 14747),\n ('wirkt', 14746),\n ('wirkstoff', 14745),\n ('wirksam', 14744),\n ('wirklich', 14743),\n ('wirk', 14742),\n ('wirihn', 14741),\n ('wirf', 14740),\n ('wireless', 14739),\n ('wircooki', 14738),\n ('winterpaus', 14737),\n ('winterbekleid', 14736),\n ('wint', 14735),\n ('winn', 14734),\n ('winkl', 14733),\n ('wingdo', 14732),\n ('winfor', 14731),\n ('windows', 14730),\n ('window', 14729),\n ('windchill', 14728),\n ('wind', 14727),\n ('win', 14726),\n ('wilm', 14725),\n ('willkomm', 14724),\n ('willig', 14723),\n ('willi', 14722),\n ('willensbekund', 14721),\n ('wilhermsdorf', 14720),\n ('wilhelm', 14719),\n ('wildpark', 14718),\n ('wildemasch', 14717),\n ('wild', 14716),\n ('wiki', 14715),\n ('wietzel', 14714),\n ('wieso', 14713),\n ('wiesloch', 14712),\n ('wiesenthau', 14711),\n ('wiesent', 14710),\n ('wiesbad', 14709),\n ('wien', 14708),\n ('wiemelhaus', 14707),\n ('wiegartn', 14706),\n ('wiegaertn', 14705),\n ('wiederzugeb', 14704),\n ('wiedervorlag', 14703),\n ('wiederverwendbar', 14702),\n ('wiederverwend', 14701),\n ('wiederum', 14700),\n ('wiederstandspruf', 14699),\n ('wiederspruch', 14698),\n ('wiederkomm', 14697),\n ('wiederkehrrat', 14696),\n ('wiederkehr', 14695),\n ('wiederinbetriebnahm', 14694),\n ('wiederholbar', 14693),\n ('wiederhol', 14692),\n ('wiederherstell', 14691),\n ('wiedergeb', 14690),\n ('wiedergab', 14689),\n ('wiedererkennungswert', 14688),\n ('wiedererkennbar', 14687),\n ('wiederentdeck', 14686),\n ('wiederaufbau', 14685),\n ('wiedenbruck', 14684),\n ('widmet', 14683),\n ('widm', 14682),\n ('widgetsetting', 14681),\n ('widget', 14680),\n ('widerstandsfah', 14679),\n ('widerspruchsrecht', 14678),\n ('widerspruchsmog', 14677),\n ('widerspruch', 14676),\n ('widersproch', 14675),\n ('widersprech', 14674),\n ('widerspiegeln', 14673),\n ('widerrufsrecht', 14672),\n ('widerruf', 14671),\n ('wid', 14670),\n ('wickeln', 14669),\n ('wichtig', 14668),\n ('wi', 14667),\n ('whos', 14666),\n ('wholesalepartn', 14665),\n ('wholesal', 14664),\n ('whois', 14663),\n ('who', 14662),\n ('whitepap', 14661),\n ('whit', 14660),\n ('whil', 14659),\n ('which', 14658),\n ('whg', 14657),\n ('wheth', 14656),\n ('wher', 14655),\n ('whenev', 14654),\n ('when', 14653),\n ('whatsapp', 14652),\n ('what', 14651),\n ('wgkd', 14650),\n ('wettermodul', 14649),\n ('wetterkondition', 14648),\n ('wetterdat', 14647),\n ('wettbewerbsvorteil', 14646),\n ('wettbewerbsfah', 14645),\n ('wettbewerb', 14644),\n ('wett', 14643),\n ('westrick', 14642),\n ('westhof', 14641),\n ('westfal', 14640),\n ('westerwell', 14639),\n ('westerwald', 14638),\n ('westerkappeln', 14637),\n ('westentasch', 14636),\n ('west', 14635),\n ('wess', 14634),\n ('weshalb', 14633),\n ('wesent', 14632),\n ('wertvoll', 14631),\n ('wertschopfungskett', 14630),\n ('wertschopf', 14629),\n ('wertschatz', 14628),\n ('wertpapi', 14627),\n ('wertetrecaptcha', 14626),\n ('werterhalt', 14625),\n ('wertedynam', 14624),\n ('wertbestimm', 14623),\n ('wertbeitrag', 14622),\n ('wertanlag', 14621),\n ('wert', 14620),\n ('werst', 14619),\n ('wern', 14618),\n ('werl', 14617),\n ('werkzeugverwalt', 14616),\n ('werkzeugvermess', 14615),\n ('werkzeugtechn', 14614),\n ('werkzeugpool', 14613),\n ('werkzeugbestell', 14612),\n ('werkzeugbau', 14611),\n ('werkzeug', 14610),\n ('werkstudentin', 14609),\n ('werkstudent', 14608),\n ('werkstuckvermess', 14607),\n ('werkstuck', 14606),\n ('werkstoffverwalt', 14605),\n ('werkstoff', 14604),\n ('werkstattsoftwar', 14603),\n ('werkstattplan', 14602),\n ('werkstattbesitz', 14601),\n ('werkstattauslast', 14600),\n ('werkstatt', 14599),\n ('werksanlag', 14598),\n ('werkezugeinsatz', 14597),\n ('werkbank', 14596),\n ('werk', 14595),\n ('werf', 14594),\n ('werdendies', 14593),\n ('werdend', 14592),\n ('werdenan', 14591),\n ('werbungseffizienz', 14590),\n ('werbung', 14589),\n ('werbezweck', 14588),\n ('werbeunternehm', 14587),\n ('werbetreib', 14586),\n ('werbetexterin', 14585),\n ('werbetechn', 14584),\n ('werbesystem', 14583),\n ('werbestrategi', 14582),\n ('werbespot', 14581),\n ('werbeprodukt', 14580),\n ('werbepartn', 14579),\n ('werbepaket', 14578),\n ('werbenetzwerk', 14577),\n ('werbemittel', 14576),\n ('werbemedi', 14575),\n ('werbemail', 14574),\n ('werbella', 14573),\n ('werbekund', 14572),\n ('werbekonzept', 14571),\n ('werbekarussell', 14570),\n ('werbeinformation', 14569),\n ('werbegestalt', 14568),\n ('werbefotografi', 14567),\n ('werbefly', 14566),\n ('werbefirma', 14565),\n ('werbebotschaft', 14564),\n ('werbebann', 14563),\n ('werbeartikel', 14562),\n ('werbeanzeig', 14561),\n ('werbeagentur', 14560),\n ('werb', 14559),\n ('wer', 14558),\n ('went', 14557),\n ('wenig', 14556),\n ('wend', 14555),\n ('wen', 14554),\n ('wem', 14553),\n ('weltweit', 14552),\n ('weltraum', 14551),\n ('weltmeist', 14550),\n ('weltmarktfuhr', 14549),\n ('weltkulturerbelauf', 14548),\n ('weltkonzern', 14547),\n ('weltklass', 14546),\n ('weltanschau', 14545),\n ('weltall', 14544),\n ('welt', 14543),\n ('wellness', 14542),\n ('wellhof', 14541),\n ('well', 14540),\n ('welcom', 14539),\n ('weizsack', 14538),\n ('weitverbreitet', 14537),\n ('weitreich', 14536),\n ('weitgeh', 14535),\n ('weitestgeh', 14534),\n ('weiterzuverkauf', 14533),\n ('weiterzuhelf', 14532),\n ('weiterzugeb', 14531),\n ('weiterzuempfehl', 14530),\n ('weiterverwert', 14529),\n ('weiterverkauft', 14528),\n ('weiterverarbeitet', 14527),\n ('weiterstadt', 14526),\n ('weiterreich', 14525),\n ('weitermeld', 14524),\n ('weiterles', 14523),\n ('weiterleit', 14522),\n ('weiterhin', 14521),\n ('weiterhelf', 14520),\n ('weitergeleitet', 14519),\n ('weitergeht', 14518),\n ('weitergeholf', 14517),\n ('weitergeh', 14516),\n ('weitergegeb', 14515),\n ('weitergefuhrt', 14514),\n ('weitergeb', 14513),\n ('weitergab', 14512),\n ('weiterfuhr', 14511),\n ('weiterentwicklungsmog', 14510),\n ('weiterentwickl', 14509),\n ('weiterentwickelt', 14508),\n ('weiterempfehl', 14507),\n ('weiterbildungsakademi', 14506),\n ('weiterbild', 14505),\n ('weitblick', 14504),\n ('weitaus', 14503),\n ('weit', 14502),\n ('weisungsfrei', 14501),\n ('weisung', 14500),\n ('weist', 14499),\n ('weisst', 14498),\n ('weiss', 14497),\n ('weismain', 14496),\n ('weis', 14495),\n ('weinstrass', 14494),\n ('weinkauf', 14493),\n ('weingart', 14492),\n ('weinetikett', 14491),\n ('weinbrenn', 14490),\n ('weinbau', 14489),\n ('weilerswist', 14488),\n ('weihnachtszeit', 14487),\n ('weihnachtsvideo', 14486),\n ('weihnachtsst', 14485),\n ('weihnachtsmarkt', 14484),\n ('weihnachtsgruss', 14483),\n ('weihnachtsgeschenk', 14482),\n ('weihnachtsf', 14481),\n ('weihnachtf', 14480),\n ('weihnachtet', 14479),\n ('weihnacht', 14478),\n ('weiherweg', 14477),\n ('weiherstrass', 14476),\n ('weidemann', 14475),\n ('weid', 14474),\n ('weichering', 14473),\n ('weich', 14472),\n ('weiblich', 14471),\n ('weh', 14470),\n ('wegweis', 14469),\n ('wegstreck', 14468),\n ('wegsegment', 14467),\n ('wegeanalys', 14466),\n ('wegberg', 14465),\n ('wegbegleit', 14464),\n ('weee', 14463),\n ('wedlich', 14462),\n ('wedel', 14461),\n ('wedding', 14460),\n ('wed', 14459),\n ('weck', 14458),\n ('wechselwirk', 14457),\n ('wechselt', 14456),\n ('wechselnd', 14455),\n ('wechseln', 14454),\n ('wechseldatentrag', 14453),\n ('wechsel', 14452),\n ('webstandard', 14451),\n ('websph', 14450),\n ('webspac', 14449),\n ('websolution', 14448),\n ('websocket', 14447),\n ('websiteserv', 14446),\n ('websitenutz', 14445),\n ('websitenavigation', 14444),\n ('websiteerstell', 14443),\n ('websitebetreib', 14442),\n ('websitebesuch', 14441),\n ('websiteaufgeruf', 14440),\n ('websiteaktivitat', 14439),\n ('websit', 14438),\n ('webshops', 14437),\n ('webshop', 14436),\n ('webservic', 14435),\n ('webserv', 14434),\n ('webseitenzugriff', 14433),\n ('webseitenoptimier', 14432),\n ('webseitenleasing', 14431),\n ('webseitenbetreib', 14430),\n ('webseitenbesuch', 14429),\n ('webseitenaufruf', 14428),\n ('webseit', 14427),\n ('webrelaunch', 14426),\n ('webredakteurin', 14425),\n ('webradio', 14424),\n ('webprojekt', 14423),\n ('webprogrammier', 14422),\n ('webplattform', 14421),\n ('webosting', 14420),\n ('webnutz', 14419),\n ('webmast', 14418),\n ('webmask', 14417),\n ('webmarketing', 14416),\n ('webmail', 14415),\n ('weblos', 14414),\n ('weblog', 14413),\n ('weblication', 14412),\n ('webkampagneninhalt', 14411),\n ('webinterfac', 14410),\n ('webinhalt', 14409),\n ('webinar', 14408),\n ('webhostingtarif', 14407),\n ('webhostingpaket', 14406),\n ('webhosting', 14405),\n ('webhost', 14404),\n ('webfont', 14403),\n ('webfloh', 14402),\n ('weberei', 14401),\n ('webentwicklerin', 14400),\n ('webentwickl', 14399),\n ('webdesignerin', 14398),\n ('webdesign', 14397),\n ('webconnect', 14396),\n ('webcon', 14395),\n ('webcast', 14394),\n ('webcam', 14393),\n ('webbrows', 14392),\n ('webbasiert', 14391),\n ('webauftritt', 14390),\n ('webanwend', 14389),\n ('webansicht', 14388),\n ('webangebot', 14387),\n ('webanalysedien', 14386),\n ('webanalys', 14385),\n ('webagentur', 14384),\n ('web', 14383),\n ('weaving', 14382),\n ('weath', 14381),\n ('wealth', 14380),\n ('we', 14379),\n ('wd', 14378),\n ('way', 14377),\n ('wav', 14376),\n ('waui', 14375),\n ('watzlawick', 14374),\n ('watsonx', 14373),\n ('watsonanalytics', 14372),\n ('watson', 14371),\n ('waterfall', 14370),\n ('watchlist', 14369),\n ('watch', 14368),\n ('wasserzeich', 14367),\n ('wasserversorg', 14366),\n ('wasserturm', 14365),\n ('wassersp', 14364),\n ('wassermanagement', 14363),\n ('wasserleit', 14362),\n ('wasserhahn', 14361),\n ('wassergefahrd', 14360),\n ('wasserflach', 14359),\n ('wass', 14358),\n ('waschmaschin', 14357),\n ('wascheversorg', 14356),\n ('waschanlag', 14355),\n ('wasch', 14354),\n ('warum', 14353),\n ('wartungsvertrag', 14352),\n ('wartungstool', 14351),\n ('wartungstechn', 14350),\n ('wartungsservic', 14349),\n ('wartungsprozess', 14348),\n ('wartungsplan', 14347),\n ('wartungsmodus', 14346),\n ('wartung', 14345),\n ('wartezeit', 14344),\n ('wartet', 14343),\n ('wart', 14342),\n ('warranty', 14341),\n ('warnung', 14340),\n ('warnk', 14339),\n ('warmetechn', 14338),\n ('warmensteinach', 14337),\n ('warmebehandlungsprozess', 14336),\n ('warm', 14335),\n ('warfarin', 14334),\n ('warexo', 14333),\n ('warenwirtschaftssystem', 14332),\n ('warenwirtschaftssyst', 14331),\n ('warenwirtschaft', 14330),\n ('warenverkauf', 14329),\n ('warentrag', 14328),\n ('warensend', 14327),\n ('warenlogist', 14326),\n ('warenkorbfunktion', 14325),\n ('warenkorbdat', 14324),\n ('warenkorb', 14323),\n ('warenkauf', 14322),\n ('warenhotel', 14321),\n ('wareneingangskontroll', 14320),\n ('wareneingang', 14319),\n ('warenein', 14318),\n ('warenausgang', 14317),\n ('warehousing', 14316),\n ('warehous', 14315),\n ('warburg', 14314),\n ('wapp', 14313),\n ('wann', 14312),\n ('wanka', 14311),\n ('wandel', 14310),\n ('wand', 14309),\n ('wan', 14308),\n ('walz', 14307),\n ('waltershof', 14306),\n ('wallstick', 14305),\n ('wallmann', 14304),\n ('walking', 14303),\n ('walk', 14302),\n ('waldsofa', 14301),\n ('waldhaus', 14300),\n ('waldflust', 14299),\n ('wald', 14298),\n ('waischenfeld', 14297),\n ('waigel', 14296),\n ('wahrzunehm', 14295),\n ('wahrung', 14294),\n ('wahrschein', 14293),\n ('wahrnehm', 14292),\n ('wahrheit', 14291),\n ('wahrenddess', 14290),\n ('wahr', 14289),\n ('wahllos', 14288),\n ('wahlkampfwerb', 14287),\n ('wahlkampfstrategi', 14286),\n ('wahlkampfmanagement', 14285),\n ('wahlkampfberat', 14284),\n ('wahlkampf', 14283),\n ('wahlbar', 14282),\n ('wahl', 14281),\n ('wagn', 14280),\n ('wagenhaus', 14279),\n ('wagedatenmanagement', 14278),\n ('wag', 14277),\n ('wachtberg', 14276),\n ('wachstumsstrategi', 14275),\n ('wachstum', 14274),\n ('wachsmann', 14273),\n ('wachsend', 14272),\n ('wachschutz', 14271),\n ('wachs', 14270),\n ('wachhund', 14269),\n ('wachenheim', 14268),\n ('wach', 14267),\n ('wabnitz', 14266),\n ('véritabl', 14265),\n ('vzo', 14264),\n ('vwosn', 14263),\n ('vw', 14262),\n ('vvc', 14261),\n ('vuid', 14260),\n ('vserv', 14259),\n ('vsd', 14258),\n ('vsb', 14257),\n ('vrog', 14256),\n ('vr', 14255),\n ('vpn', 14254),\n ('vpc', 14253),\n ('vp', 14252),\n ('vous', 14251),\n ('votr', 14250),\n ('vorzustell', 14249),\n ('vorzuhalt', 14248),\n ('vorzugsweis', 14247),\n ('vorzugspreis', 14246),\n ('vorzug', 14245),\n ('vorzubeug', 14244),\n ('vorwurf', 14243),\n ('vorweis', 14242),\n ('vorweihnachtszeit', 14241),\n ('vorwartskomm', 14240),\n ('vorwart', 14239),\n ('vorvertrag', 14238),\n ('vorubergeh', 14237),\n ('vortrag', 14236),\n ('vorteilhaft', 14235),\n ('vorteil', 14234),\n ('vorstell', 14233),\n ('vorstand', 14232),\n ('vorsprung', 14231),\n ('vorsorg', 14230),\n ('vorsitz', 14229),\n ('vorsieht', 14228),\n ('vorsicht', 14227),\n ('vorseh', 14226),\n ('vorschrift', 14225),\n ('vorschlag', 14224),\n ('vorschein', 14223),\n ('vorsatz', 14222),\n ('vorricht', 14221),\n ('vorraussetz', 14220),\n ...]"
     },
     "execution_count": 12,
     "metadata": {},
     "output_type": "execute_result"
    }
   ],
   "source": [
    "sorted_vocab = list(sorted(tfidf_vectorizer.vocabulary_.items(), key=lambda item: item[1], reverse=True))\n",
    "sorted_vocab"
   ],
   "metadata": {
    "collapsed": false,
    "ExecuteTime": {
     "end_time": "2023-12-31T13:28:13.597691167Z",
     "start_time": "2023-12-31T13:28:13.294879680Z"
    }
   },
   "id": "c6db8584116951fd"
  },
  {
   "cell_type": "code",
   "execution_count": 10,
   "outputs": [
    {
     "data": {
      "text/plain": "False"
     },
     "execution_count": 10,
     "metadata": {},
     "output_type": "execute_result"
    }
   ],
   "source": [
    "\"wabnitz-it\" in sorted_vocab.values()"
   ],
   "metadata": {
    "collapsed": false,
    "ExecuteTime": {
     "end_time": "2023-12-31T13:25:23.492039972Z",
     "start_time": "2023-12-31T13:25:23.431161843Z"
    }
   },
   "id": "63560f3308233ff7"
  },
  {
   "cell_type": "code",
   "execution_count": 8,
   "outputs": [
    {
     "data": {
      "text/plain": "array([[0.89766657, 0.10233343]])"
     },
     "execution_count": 8,
     "metadata": {},
     "output_type": "execute_result"
    }
   ],
   "source": [
    "SVM.predict_proba(\n",
    "    rbX.fit_transform(\n",
    "        tfidf_vectorizer.transform([\"Wir verwenden Cookies auf unserer Website. Durch die Nutzung stimmen Sie dem zu. Für weitere Informationen lesen Sie bitte unsere Datenschutzerklärung.  Zur            Datenschutzerkärung   Akze\"])))"
   ],
   "metadata": {
    "collapsed": false,
    "ExecuteTime": {
     "end_time": "2023-12-18T11:08:46.842565425Z",
     "start_time": "2023-12-18T11:08:40.788104815Z"
    }
   },
   "id": "1a81642061eb65c4"
  },
  {
   "cell_type": "code",
   "execution_count": 9,
   "outputs": [
    {
     "data": {
      "text/plain": "array([0])"
     },
     "execution_count": 9,
     "metadata": {},
     "output_type": "execute_result"
    }
   ],
   "source": [
    "SVM.predict(\n",
    "    rbX.fit_transform(\n",
    "        tfidf_vectorizer.transform([\n",
    "                                       \"Wir verwenden Cookies auf unserer Website. Durch die Nutzung stimmen Sie dem zu. Für weitere Informationen lesen Sie bitte unsere Datenschutzerklärung.  Zur            Datenschutzerkärung   Akze\"])))"
   ],
   "metadata": {
    "collapsed": false,
    "ExecuteTime": {
     "end_time": "2023-12-18T11:08:52.346959003Z",
     "start_time": "2023-12-18T11:08:46.787519731Z"
    }
   },
   "id": "c94c6b710506f6cc"
  },
  {
   "cell_type": "code",
   "execution_count": 10,
   "outputs": [
    {
     "data": {
      "text/plain": "0.888"
     },
     "execution_count": 10,
     "metadata": {},
     "output_type": "execute_result"
    }
   ],
   "source": [
    "train_porbas = SVM.predict_proba(train_text_vectors_norm)\n",
    "train_preds = [np.argmax(prob) for prob in train_porbas]\n",
    "accuracy_score(train_labels, train_preds)"
   ],
   "metadata": {
    "collapsed": false,
    "ExecuteTime": {
     "end_time": "2023-12-18T11:08:52.387776686Z",
     "start_time": "2023-12-18T11:08:52.260530316Z"
    }
   },
   "id": "49f83ae6e917257d"
  },
  {
   "cell_type": "code",
   "execution_count": 11,
   "outputs": [
    {
     "name": "stdout",
     "output_type": "stream",
     "text": [
      "0.7435, 0.2565: pred=0, y=1\n",
      "0.4308, 0.5692: pred=1, y=1\n",
      "0.0000, 1.0000: pred=1, y=1\n",
      "0.0000, 1.0000: pred=1, y=1\n",
      "0.0401, 0.9599: pred=1, y=1\n",
      "0.0000, 1.0000: pred=1, y=1\n",
      "0.0105, 0.9895: pred=1, y=1\n",
      "0.4751, 0.5249: pred=1, y=1\n",
      "0.0498, 0.9502: pred=1, y=1\n",
      "0.8873, 0.1127: pred=0, y=1\n",
      "0.6420, 0.3580: pred=0, y=1\n",
      "0.1511, 0.8489: pred=1, y=1\n",
      "0.0138, 0.9862: pred=1, y=1\n",
      "0.3145, 0.6855: pred=1, y=1\n",
      "0.0837, 0.9163: pred=1, y=1\n",
      "0.0000, 1.0000: pred=1, y=1\n",
      "0.0228, 0.9772: pred=1, y=1\n",
      "0.0138, 0.9862: pred=1, y=1\n",
      "0.1312, 0.8688: pred=1, y=1\n",
      "0.0000, 1.0000: pred=1, y=1\n",
      "0.0000, 1.0000: pred=1, y=1\n",
      "0.0615, 0.9385: pred=1, y=1\n",
      "0.8822, 0.1178: pred=0, y=1\n",
      "0.8739, 0.1261: pred=0, y=1\n",
      "0.6549, 0.3451: pred=0, y=1\n",
      "0.2999, 0.7001: pred=1, y=1\n",
      "0.0000, 1.0000: pred=1, y=1\n",
      "0.0000, 1.0000: pred=1, y=1\n",
      "0.0377, 0.9623: pred=1, y=1\n",
      "0.8495, 0.1505: pred=0, y=1\n",
      "0.0000, 1.0000: pred=1, y=1\n",
      "0.0000, 1.0000: pred=1, y=1\n",
      "0.0323, 0.9677: pred=1, y=1\n",
      "0.0000, 1.0000: pred=1, y=1\n",
      "0.3266, 0.6734: pred=1, y=1\n",
      "0.6848, 0.3152: pred=0, y=1\n",
      "0.0000, 1.0000: pred=1, y=1\n",
      "0.0000, 1.0000: pred=1, y=1\n",
      "0.0000, 1.0000: pred=1, y=1\n",
      "0.8521, 0.1479: pred=0, y=1\n",
      "0.0000, 1.0000: pred=1, y=1\n",
      "0.0075, 0.9925: pred=1, y=1\n",
      "0.0000, 1.0000: pred=1, y=1\n",
      "0.6605, 0.3395: pred=0, y=1\n",
      "0.3448, 0.6552: pred=1, y=1\n",
      "0.0074, 0.9926: pred=1, y=1\n",
      "0.0127, 0.9873: pred=1, y=1\n",
      "0.2427, 0.7573: pred=1, y=1\n",
      "0.0973, 0.9027: pred=1, y=1\n",
      "0.0000, 1.0000: pred=1, y=1\n",
      "0.0952, 0.9048: pred=1, y=1\n",
      "0.0000, 1.0000: pred=1, y=1\n",
      "0.0000, 1.0000: pred=1, y=1\n",
      "0.1122, 0.8878: pred=1, y=1\n",
      "0.0000, 1.0000: pred=1, y=1\n",
      "0.0041, 0.9959: pred=1, y=1\n",
      "0.0667, 0.9333: pred=1, y=1\n",
      "0.8412, 0.1588: pred=0, y=1\n",
      "0.0000, 1.0000: pred=1, y=1\n",
      "0.2841, 0.7159: pred=1, y=1\n",
      "0.0312, 0.9688: pred=1, y=1\n",
      "0.0000, 1.0000: pred=1, y=1\n",
      "0.0467, 0.9533: pred=1, y=1\n",
      "0.0312, 0.9688: pred=1, y=1\n",
      "0.2702, 0.7298: pred=1, y=1\n",
      "0.0276, 0.9724: pred=1, y=1\n",
      "0.0000, 1.0000: pred=1, y=1\n",
      "0.0000, 1.0000: pred=1, y=1\n",
      "0.0498, 0.9502: pred=1, y=1\n",
      "0.1312, 0.8688: pred=1, y=1\n",
      "0.3206, 0.6794: pred=1, y=1\n",
      "0.0000, 1.0000: pred=1, y=1\n",
      "0.0084, 0.9916: pred=1, y=1\n",
      "0.4265, 0.5735: pred=1, y=1\n",
      "0.0209, 0.9791: pred=1, y=1\n",
      "0.6499, 0.3501: pred=0, y=1\n",
      "0.8022, 0.1978: pred=0, y=1\n",
      "0.0821, 0.9179: pred=1, y=1\n",
      "0.6288, 0.3712: pred=0, y=1\n",
      "0.1942, 0.8058: pred=1, y=1\n",
      "0.0323, 0.9677: pred=1, y=1\n",
      "0.0452, 0.9548: pred=1, y=1\n",
      "0.3013, 0.6987: pred=1, y=1\n",
      "0.0105, 0.9895: pred=1, y=1\n",
      "0.0896, 0.9104: pred=1, y=1\n",
      "0.0282, 0.9718: pred=1, y=1\n",
      "0.0000, 1.0000: pred=1, y=1\n",
      "0.0000, 1.0000: pred=1, y=1\n",
      "0.1877, 0.8123: pred=1, y=1\n",
      "0.0000, 1.0000: pred=1, y=1\n",
      "0.6768, 0.3232: pred=0, y=1\n",
      "0.1433, 0.8567: pred=1, y=1\n",
      "0.4843, 0.5157: pred=1, y=1\n",
      "0.7274, 0.2726: pred=0, y=1\n",
      "0.0000, 1.0000: pred=1, y=1\n",
      "0.1070, 0.8930: pred=1, y=1\n",
      "0.1283, 0.8717: pred=1, y=1\n",
      "0.8699, 0.1301: pred=0, y=1\n",
      "0.0000, 1.0000: pred=1, y=1\n",
      "0.0000, 1.0000: pred=1, y=1\n",
      "0.0260, 0.9740: pred=1, y=1\n",
      "0.0510, 0.9490: pred=1, y=1\n",
      "0.0000, 1.0000: pred=1, y=1\n",
      "0.1335, 0.8665: pred=1, y=1\n",
      "0.6612, 0.3388: pred=0, y=1\n",
      "0.0000, 1.0000: pred=1, y=1\n",
      "0.2427, 0.7573: pred=1, y=1\n",
      "0.6202, 0.3798: pred=0, y=1\n",
      "0.0000, 1.0000: pred=1, y=1\n",
      "0.0255, 0.9745: pred=1, y=1\n",
      "0.3590, 0.6410: pred=1, y=1\n",
      "0.1282, 0.8718: pred=1, y=1\n",
      "0.0000, 1.0000: pred=1, y=1\n",
      "0.0000, 1.0000: pred=1, y=1\n",
      "0.3680, 0.6320: pred=1, y=1\n",
      "0.0059, 0.9941: pred=1, y=1\n",
      "0.0000, 1.0000: pred=1, y=1\n",
      "0.4564, 0.5436: pred=1, y=1\n",
      "0.0000, 1.0000: pred=1, y=1\n",
      "0.0000, 1.0000: pred=1, y=1\n",
      "0.0072, 0.9928: pred=1, y=1\n",
      "0.9466, 0.0534: pred=0, y=0\n",
      "0.8980, 0.1020: pred=0, y=0\n",
      "0.7853, 0.2147: pred=0, y=0\n",
      "0.8331, 0.1669: pred=0, y=0\n",
      "0.8400, 0.1600: pred=0, y=0\n",
      "0.8926, 0.1074: pred=0, y=0\n",
      "0.8782, 0.1218: pred=0, y=0\n",
      "0.9128, 0.0872: pred=0, y=0\n",
      "0.7728, 0.2272: pred=0, y=0\n",
      "0.9090, 0.0910: pred=0, y=0\n",
      "0.9037, 0.0963: pred=0, y=0\n",
      "0.7889, 0.2111: pred=0, y=0\n",
      "0.9319, 0.0681: pred=0, y=0\n",
      "0.8979, 0.1021: pred=0, y=0\n",
      "0.7965, 0.2035: pred=0, y=0\n",
      "0.7488, 0.2512: pred=0, y=0\n",
      "0.8980, 0.1020: pred=0, y=0\n",
      "0.8988, 0.1012: pred=0, y=0\n",
      "0.6969, 0.3031: pred=0, y=0\n",
      "0.9097, 0.0903: pred=0, y=0\n",
      "0.0786, 0.9214: pred=1, y=0\n",
      "0.8888, 0.1112: pred=0, y=0\n",
      "0.9145, 0.0855: pred=0, y=0\n",
      "0.9171, 0.0829: pred=0, y=0\n",
      "0.9515, 0.0485: pred=0, y=0\n",
      "0.8438, 0.1562: pred=0, y=0\n",
      "0.8344, 0.1656: pred=0, y=0\n",
      "0.8980, 0.1020: pred=0, y=0\n",
      "0.1242, 0.8758: pred=1, y=0\n",
      "0.9020, 0.0980: pred=0, y=0\n",
      "0.8853, 0.1147: pred=0, y=0\n",
      "0.8980, 0.1020: pred=0, y=0\n",
      "0.0876, 0.9124: pred=1, y=0\n",
      "0.7450, 0.2550: pred=0, y=0\n",
      "0.8793, 0.1207: pred=0, y=0\n",
      "0.9277, 0.0723: pred=0, y=0\n",
      "0.3130, 0.6870: pred=1, y=0\n",
      "0.3031, 0.6969: pred=1, y=0\n",
      "0.8979, 0.1021: pred=0, y=0\n",
      "0.8474, 0.1526: pred=0, y=0\n",
      "0.9276, 0.0724: pred=0, y=0\n",
      "0.9116, 0.0884: pred=0, y=0\n",
      "0.6914, 0.3086: pred=0, y=0\n",
      "0.8999, 0.1001: pred=0, y=0\n",
      "0.8984, 0.1016: pred=0, y=0\n",
      "0.9108, 0.0892: pred=0, y=0\n",
      "0.9398, 0.0602: pred=0, y=0\n",
      "0.8934, 0.1066: pred=0, y=0\n",
      "0.9255, 0.0745: pred=0, y=0\n",
      "0.8492, 0.1508: pred=0, y=0\n",
      "0.0739, 0.9261: pred=1, y=0\n",
      "0.8922, 0.1078: pred=0, y=0\n",
      "0.7226, 0.2774: pred=0, y=0\n",
      "0.9107, 0.0893: pred=0, y=0\n",
      "0.8928, 0.1072: pred=0, y=0\n",
      "0.8980, 0.1020: pred=0, y=0\n",
      "0.8857, 0.1143: pred=0, y=0\n",
      "0.8841, 0.1159: pred=0, y=0\n",
      "0.8760, 0.1240: pred=0, y=0\n",
      "0.8630, 0.1370: pred=0, y=0\n",
      "0.7831, 0.2169: pred=0, y=0\n",
      "0.9349, 0.0651: pred=0, y=0\n",
      "0.8982, 0.1018: pred=0, y=0\n",
      "0.9277, 0.0723: pred=0, y=0\n",
      "0.8032, 0.1968: pred=0, y=0\n",
      "0.7488, 0.2512: pred=0, y=0\n",
      "0.8344, 0.1656: pred=0, y=0\n",
      "0.9097, 0.0903: pred=0, y=0\n",
      "0.7975, 0.2025: pred=0, y=0\n",
      "0.1520, 0.8480: pred=1, y=0\n",
      "0.9144, 0.0856: pred=0, y=0\n",
      "0.8424, 0.1576: pred=0, y=0\n",
      "0.9049, 0.0951: pred=0, y=0\n",
      "0.9078, 0.0922: pred=0, y=0\n",
      "0.8263, 0.1737: pred=0, y=0\n",
      "0.9319, 0.0681: pred=0, y=0\n",
      "0.7002, 0.2998: pred=0, y=0\n",
      "0.8739, 0.1261: pred=0, y=0\n",
      "0.8980, 0.1020: pred=0, y=0\n",
      "0.9183, 0.0817: pred=0, y=0\n",
      "0.8908, 0.1092: pred=0, y=0\n",
      "0.6833, 0.3167: pred=0, y=0\n",
      "0.9234, 0.0766: pred=0, y=0\n",
      "0.8611, 0.1389: pred=0, y=0\n",
      "0.8947, 0.1053: pred=0, y=0\n",
      "0.8627, 0.1373: pred=0, y=0\n",
      "0.9286, 0.0714: pred=0, y=0\n",
      "0.7363, 0.2637: pred=0, y=0\n",
      "0.8932, 0.1068: pred=0, y=0\n",
      "0.6110, 0.3890: pred=0, y=0\n",
      "0.8980, 0.1020: pred=0, y=0\n",
      "0.9506, 0.0494: pred=0, y=0\n",
      "0.2625, 0.7375: pred=1, y=0\n",
      "0.8827, 0.1173: pred=0, y=0\n",
      "0.9491, 0.0509: pred=0, y=0\n",
      "0.9077, 0.0923: pred=0, y=0\n",
      "0.9258, 0.0742: pred=0, y=0\n",
      "0.9530, 0.0470: pred=0, y=0\n",
      "0.9084, 0.0916: pred=0, y=0\n",
      "0.8890, 0.1110: pred=0, y=0\n",
      "0.8926, 0.1074: pred=0, y=0\n",
      "0.5439, 0.4561: pred=0, y=0\n",
      "0.8565, 0.1435: pred=0, y=0\n",
      "0.9374, 0.0626: pred=0, y=0\n",
      "0.3876, 0.6124: pred=1, y=0\n",
      "0.7656, 0.2344: pred=0, y=0\n",
      "0.9003, 0.0997: pred=0, y=0\n",
      "0.9007, 0.0993: pred=0, y=0\n",
      "0.8220, 0.1780: pred=0, y=0\n",
      "0.9192, 0.0808: pred=0, y=0\n",
      "0.8011, 0.1989: pred=0, y=0\n",
      "0.8814, 0.1186: pred=0, y=0\n",
      "0.8843, 0.1157: pred=0, y=0\n",
      "0.9113, 0.0887: pred=0, y=0\n",
      "0.9020, 0.0980: pred=0, y=0\n",
      "0.7751, 0.2249: pred=0, y=0\n",
      "0.9272, 0.0728: pred=0, y=0\n",
      "0.9087, 0.0913: pred=0, y=0\n",
      "0.9123, 0.0877: pred=0, y=0\n",
      "0.7124, 0.2876: pred=0, y=0\n",
      "0.8980, 0.1020: pred=0, y=0\n",
      "0.8977, 0.1023: pred=0, y=0\n",
      "0.9602, 0.0398: pred=0, y=0\n",
      "0.9266, 0.0734: pred=0, y=0\n",
      "0.8629, 0.1371: pred=0, y=0\n",
      "0.9406, 0.0594: pred=0, y=0\n",
      "0.8060, 0.1940: pred=0, y=0\n",
      "0.9115, 0.0885: pred=0, y=0\n",
      "0.9807, 0.0193: pred=0, y=0\n"
     ]
    }
   ],
   "source": [
    "for prob, pred, label in zip(train_porbas, train_preds, train_labels):\n",
    "    print(\"{:.4f}, {:.4f}: pred={}, y={}\".format(prob[0], prob[1], pred, label))"
   ],
   "metadata": {
    "collapsed": false,
    "ExecuteTime": {
     "end_time": "2023-12-18T11:08:52.388393210Z",
     "start_time": "2023-12-18T11:08:52.381178659Z"
    }
   },
   "id": "ed4c508f99b3d27e"
  },
  {
   "cell_type": "code",
   "execution_count": 7,
   "outputs": [],
   "source": [
    "pos_test_texts = df_test[df_test['contains_GDPR'] == True]['content_removed'].values\n",
    "test_labels = tfidf_svm_train['is_GDPR']\n",
    "pos_test_texts = tp.clean_german_texts(pos_test_texts)\n",
    "pos_test_text_vectors = tfidf_vectorizer.transform(pos_test_texts)"
   ],
   "metadata": {
    "collapsed": false,
    "ExecuteTime": {
     "end_time": "2023-12-18T13:46:45.646329949Z",
     "start_time": "2023-12-18T13:46:45.413255192Z"
    }
   },
   "id": "aa9b89b736db05c4"
  },
  {
   "cell_type": "code",
   "execution_count": 8,
   "outputs": [
    {
     "name": "stdout",
     "output_type": "stream",
     "text": [
      "[0 1]\n"
     ]
    }
   ],
   "source": [
    "probas = SVM.predict_proba(rbX.transform(pos_test_text_vectors))\n",
    "predictions = [np.argmax(prob) for prob in probas]\n",
    "print(SVM.classes_)"
   ],
   "metadata": {
    "collapsed": false,
    "ExecuteTime": {
     "end_time": "2023-12-18T13:46:46.052200115Z",
     "start_time": "2023-12-18T13:46:45.988279557Z"
    }
   },
   "id": "513c1566ffb5ac03"
  },
  {
   "cell_type": "code",
   "execution_count": 14,
   "outputs": [
    {
     "name": "stdout",
     "output_type": "stream",
     "text": [
      "0.8947, 0.1053: pred=0, y=1\n",
      "0.8870, 0.1130: pred=0, y=1\n",
      "0.8829, 0.1171: pred=0, y=1\n",
      "0.8820, 0.1180: pred=0, y=1\n",
      "0.8873, 0.1127: pred=0, y=1\n",
      "0.8779, 0.1221: pred=0, y=1\n",
      "0.8885, 0.1115: pred=0, y=1\n",
      "0.8882, 0.1118: pred=0, y=1\n",
      "0.8807, 0.1193: pred=0, y=1\n",
      "0.8968, 0.1032: pred=0, y=1\n",
      "0.8796, 0.1204: pred=0, y=1\n",
      "0.8774, 0.1226: pred=0, y=1\n",
      "0.8810, 0.1190: pred=0, y=1\n",
      "0.8803, 0.1197: pred=0, y=1\n",
      "0.8917, 0.1083: pred=0, y=1\n",
      "0.8837, 0.1163: pred=0, y=1\n",
      "0.8807, 0.1193: pred=0, y=1\n",
      "0.8839, 0.1161: pred=0, y=1\n",
      "0.8905, 0.1095: pred=0, y=1\n",
      "0.8855, 0.1145: pred=0, y=1\n",
      "0.8801, 0.1199: pred=0, y=1\n",
      "0.8959, 0.1041: pred=0, y=1\n",
      "0.8882, 0.1118: pred=0, y=1\n",
      "0.8947, 0.1053: pred=0, y=1\n",
      "0.8938, 0.1062: pred=0, y=1\n",
      "0.8757, 0.1243: pred=0, y=1\n",
      "0.8763, 0.1237: pred=0, y=1\n",
      "0.8963, 0.1037: pred=0, y=1\n",
      "0.8944, 0.1056: pred=0, y=1\n"
     ]
    }
   ],
   "source": [
    "for prob, pred, label in zip(probas, predictions, test_labels):\n",
    "    print(\"{:.4f}, {:.4f}: pred={}, y={}\".format(prob[0], prob[1], pred, label))"
   ],
   "metadata": {
    "collapsed": false,
    "ExecuteTime": {
     "end_time": "2023-12-18T11:08:52.588715935Z",
     "start_time": "2023-12-18T11:08:52.555679680Z"
    }
   },
   "id": "f0e22baf7b37c641"
  },
  {
   "cell_type": "markdown",
   "source": [
    "# Cross validate SVM"
   ],
   "metadata": {
    "collapsed": false
   },
   "id": "52dc77f29987d349"
  },
  {
   "cell_type": "code",
   "execution_count": 9,
   "outputs": [],
   "source": [
    "# Load config for this application\n",
    "config_file = open(f\"{str(Path.cwd())}/test_svm_config.json\")\n",
    "config = json.load(config_file)\n",
    "config_file.close()\n",
    "df_train = GDPRDataset.GDPRDataset(dataset_dir=config['train_dataset_path']).dataframe\n",
    "df_test = GDPRDataset.GDPRDataset(dataset_dir=config['test_dataset_path']).dataframe\n",
    "documents_train = df_train['content'].to_list()\n",
    "tfidf_svm_train = pd.read_json(config['svm_training_set_v1_path'])\n",
    "tfidf_svm_train = tfidf_svm_train.sample(frac=1.0).reset_index(drop=True)\n",
    "svm_train = tfidf_svm_train[:200]\n",
    "svm_test = tfidf_svm_train[200:]"
   ],
   "metadata": {
    "collapsed": false,
    "ExecuteTime": {
     "end_time": "2023-12-18T13:46:50.542701764Z",
     "start_time": "2023-12-18T13:46:49.907502418Z"
    }
   },
   "id": "c366dc6ff7a54c1e"
  },
  {
   "cell_type": "code",
   "execution_count": 10,
   "outputs": [],
   "source": [
    "# build TF-IDF vectorizer\n",
    "german_stop_words = stopwords.words('german')\n",
    "tfidf_vectorizer = TfidfVectorizer(analyzer='word', stop_words=german_stop_words)\n",
    "fit_tfidf_documents = tp.clean_german_texts(documents_train)\n",
    "tfidf_vectorizer.fit_transform(documents_train)\n",
    "\n",
    "# train or load components needed to train SVM\n",
    "train_texts = svm_train['text'].values\n",
    "train_texts = tp.clean_german_texts(train_texts)\n",
    "train_text_vectors = tfidf_vectorizer.transform(train_texts)\n",
    "rbX = RobustScaler(with_centering=False)\n",
    "train_text_vectors_norm = rbX.fit_transform(train_text_vectors)\n",
    "train_labels = svm_train['is_GDPR'].values\n",
    "\n",
    "# load test data\n",
    "test_texts = svm_test['text'].values\n",
    "test_texts = tp.clean_german_texts(test_texts)\n",
    "test_text_vectors = tfidf_vectorizer.transform(test_texts)\n",
    "test_text_vectors_norm = rbX.transform(test_text_vectors)\n",
    "test_labels = svm_test['is_GDPR'].values\n"
   ],
   "metadata": {
    "collapsed": false,
    "ExecuteTime": {
     "end_time": "2023-12-18T13:47:00.704202785Z",
     "start_time": "2023-12-18T13:46:53.723828197Z"
    }
   },
   "id": "1305fe31e0aac98b"
  },
  {
   "cell_type": "code",
   "execution_count": 20,
   "outputs": [
    {
     "name": "stdout",
     "output_type": "stream",
     "text": [
      "{'reg_C': 0.001, 'train_acc': 0.495, 'test_acc': 0.44}\n",
      "{'reg_C': 0.003, 'train_acc': 0.495, 'test_acc': 0.44}\n",
      "{'reg_C': 0.01, 'train_acc': 0.495, 'test_acc': 0.44}\n",
      "{'reg_C': 0.03, 'train_acc': 0.495, 'test_acc': 0.44}\n",
      "{'reg_C': 0.1, 'train_acc': 0.34, 'test_acc': 0.36}\n",
      "{'reg_C': 0.3, 'train_acc': 0.69, 'test_acc': 0.7}\n",
      "{'reg_C': 1.0, 'train_acc': 0.7, 'test_acc': 0.78}\n",
      "{'reg_C': 3.0, 'train_acc': 0.74, 'test_acc': 0.82}\n",
      "{'reg_C': 10.0, 'train_acc': 0.79, 'test_acc': 0.88}\n",
      "{'reg_C': 30.0, 'train_acc': 0.83, 'test_acc': 0.9}\n",
      "{'reg_C': 100.0, 'train_acc': 0.87, 'test_acc': 0.9}\n",
      "{'reg_C': 300.0, 'train_acc': 0.91, 'test_acc': 0.9}\n",
      "{'reg_C': 1000.0, 'train_acc': 0.915, 'test_acc': 0.88}\n",
      "{'reg_C': 3000.0, 'train_acc': 0.99, 'test_acc': 0.94}\n",
      "{'reg_C': 10000.0, 'train_acc': 1.0, 'test_acc': 0.94}\n",
      "{'reg_C': 30000.0, 'train_acc': 1.0, 'test_acc': 0.94}\n"
     ]
    }
   ],
   "source": [
    "# save vectorizer and rbX that were used for these models\n",
    "dump(tfidf_vectorizer, config['fitted_models_path'] + \"/vectorizer.joblib\")\n",
    "\n",
    "dump(rbX, config['fitted_models_path'] + \"/robust_scaler.joblib\")\n",
    "results = []\n",
    "for reg_C in [0.001, 0.003, 0.01, 0.03, 0.1, 0.3, 1.0, 3.0, 10.0, 30.0, 100.0, 300.0, 1000.0, 3000.0, 10000.0, 30000.0]:\n",
    "    SVM = svm.SVC(C=reg_C, kernel='rbf', degree=3, gamma='auto', probability=True)\n",
    "    SVM.fit(train_text_vectors_norm, train_labels)\n",
    "    \n",
    "    # evaluate SVM\n",
    "    train_porbas = SVM.predict_proba(train_text_vectors_norm)\n",
    "    train_preds = [np.argmax(prob) for prob in train_porbas]\n",
    "    train_acc = accuracy_score(train_labels, train_preds)\n",
    "\n",
    "    test_porbas = SVM.predict_proba(test_text_vectors_norm)\n",
    "    test_preds = [np.argmax(prob) for prob in test_porbas]\n",
    "    test_acc = accuracy_score(test_labels, test_preds)\n",
    "    \n",
    "    result = {\n",
    "        \"reg_C\":reg_C,\n",
    "        \"train_acc\": train_acc,\n",
    "        \"test_acc\": test_acc\n",
    "    }\n",
    "    results.append(result)\n",
    "    print(result)\n",
    "    dump(SVM, config['fitted_models_path'] + \"/svm_reg_\" + str(reg_C).replace(\".\", \"_\") + \".joblib\")"
   ],
   "metadata": {
    "collapsed": false,
    "ExecuteTime": {
     "end_time": "2023-12-18T13:54:31.661328373Z",
     "start_time": "2023-12-18T13:54:29.003961911Z"
    }
   },
   "id": "c0e2f3c93437fa48"
  },
  {
   "cell_type": "code",
   "execution_count": 25,
   "outputs": [
    {
     "data": {
      "text/plain": "<Figure size 640x480 with 1 Axes>",
      "image/png": "[encoded data removed]"
     },
     "metadata": {},
     "output_type": "display_data"
    }
   ],
   "source": [
    "x = [res['reg_C'] for res in results]\n",
    "train_accs = [res['train_acc'] for res in results]\n",
    "test_accs = [res['test_acc'] for res in results]\n",
    "plt.style.use('Solarize_Light2')\n",
    "fig = plt.figure()\n",
    "ax = fig.add_subplot(2, 1, 1)\n",
    "\n",
    "line1, = ax.plot(x, train_accs, color='blue', lw=2, label=\"train acc\")\n",
    "line2, = ax.plot(x, test_accs, color='red', lw=2, label=\"val acc\")\n",
    "plt.xlabel(\"Regularization parameter C\")\n",
    "plt.ylabel(\"Accuracy\")\n",
    "ax.set_xscale('log')\n",
    "plt.legend()\n",
    "plt.show()"
   ],
   "metadata": {
    "collapsed": false,
    "ExecuteTime": {
     "end_time": "2023-12-18T14:11:16.045760001Z",
     "start_time": "2023-12-18T14:11:14.374382238Z"
    }
   },
   "id": "f53cc4470f73218f"
  },
  {
   "cell_type": "markdown",
   "source": [
    "# Load best SVM"
   ],
   "metadata": {
    "collapsed": false
   },
   "id": "fca4618092706459"
  },
  {
   "cell_type": "code",
   "execution_count": 18,
   "outputs": [],
   "source": [
    "loaded_vectorizer = load(config['fitted_models_path'] + \"/vectorizer.joblib\")\n",
    "loaded_rbX = load(config['fitted_models_path'] + \"/robust_scaler.joblib\")\n",
    "loaded_model = load(config['fitted_models_path'] + \"/svm_reg_3000_0.joblib\")"
   ],
   "metadata": {
    "collapsed": false,
    "ExecuteTime": {
     "end_time": "2023-12-18T11:09:07.151919978Z",
     "start_time": "2023-12-18T11:09:06.956904877Z"
    }
   },
   "id": "c6b240b6520c39ca"
  },
  {
   "cell_type": "code",
   "execution_count": 19,
   "outputs": [],
   "source": [
    "# load test data\n",
    "test_texts = svm_test['text'].values\n",
    "test_texts = tp.clean_german_texts(test_texts)\n",
    "test_text_vectors = loaded_vectorizer.transform(test_texts)\n",
    "test_text_vectors_norm = loaded_rbX.transform(test_text_vectors)\n",
    "test_labels = svm_test['is_GDPR'].values"
   ],
   "metadata": {
    "collapsed": false,
    "ExecuteTime": {
     "end_time": "2023-12-18T11:09:07.473992823Z",
     "start_time": "2023-12-18T11:09:07.117178101Z"
    }
   },
   "id": "ea013f3b03808782"
  },
  {
   "cell_type": "code",
   "execution_count": 20,
   "outputs": [],
   "source": [
    "test_porbas = loaded_model.predict_proba(test_text_vectors_norm)\n",
    "test_preds = [np.argmax(prob) for prob in test_porbas]\n",
    "test_acc = accuracy_score(test_labels, test_preds)"
   ],
   "metadata": {
    "collapsed": false,
    "ExecuteTime": {
     "end_time": "2023-12-18T11:09:07.539523730Z",
     "start_time": "2023-12-18T11:09:07.474929433Z"
    }
   },
   "id": "7f5dfffa20e77f6c"
  },
  {
   "cell_type": "code",
   "execution_count": 21,
   "outputs": [
    {
     "data": {
      "text/plain": "0.9"
     },
     "execution_count": 21,
     "metadata": {},
     "output_type": "execute_result"
    }
   ],
   "source": [
    "test_acc"
   ],
   "metadata": {
    "collapsed": false,
    "ExecuteTime": {
     "end_time": "2023-12-18T11:09:07.572778465Z",
     "start_time": "2023-12-18T11:09:07.511613999Z"
    }
   },
   "id": "d750c852959e312d"
  },
  {
   "cell_type": "code",
   "execution_count": 22,
   "outputs": [
    {
     "name": "stdout",
     "output_type": "stream",
     "text": [
      "0.0273, 0.9727: pred=1, y=1\n",
      "0.8532, 0.1468: pred=0, y=0\n",
      "0.1569, 0.8431: pred=1, y=1\n",
      "0.0000, 1.0000: pred=1, y=1\n",
      "0.2522, 0.7478: pred=1, y=1\n",
      "0.1567, 0.8433: pred=1, y=1\n",
      "0.0304, 0.9696: pred=1, y=1\n",
      "0.1285, 0.8715: pred=1, y=1\n",
      "0.0141, 0.9859: pred=1, y=1\n",
      "0.0254, 0.9746: pred=1, y=1\n",
      "0.5000, 0.5000: pred=0, y=1\n",
      "0.1560, 0.8440: pred=1, y=1\n",
      "0.7580, 0.2420: pred=0, y=1\n",
      "0.0247, 0.9753: pred=1, y=1\n",
      "0.1439, 0.8561: pred=1, y=1\n",
      "0.7561, 0.2439: pred=0, y=0\n",
      "0.0309, 0.9691: pred=1, y=1\n",
      "0.0000, 1.0000: pred=1, y=1\n",
      "0.9990, 0.0010: pred=0, y=0\n",
      "0.9395, 0.0605: pred=0, y=0\n",
      "0.9992, 0.0008: pred=0, y=0\n",
      "0.7743, 0.2257: pred=0, y=0\n",
      "0.9968, 0.0032: pred=0, y=0\n",
      "0.0695, 0.9305: pred=1, y=1\n",
      "0.1439, 0.8561: pred=1, y=1\n",
      "0.6044, 0.3956: pred=0, y=1\n",
      "0.9926, 0.0074: pred=0, y=0\n",
      "0.0000, 1.0000: pred=1, y=1\n",
      "0.0000, 1.0000: pred=1, y=1\n",
      "0.0541, 0.9459: pred=1, y=1\n",
      "0.7580, 0.2420: pred=0, y=1\n",
      "0.0816, 0.9184: pred=1, y=1\n",
      "0.9560, 0.0440: pred=0, y=0\n",
      "1.0000, 0.0000: pred=0, y=0\n",
      "0.8248, 0.1752: pred=0, y=0\n",
      "0.7839, 0.2161: pred=0, y=0\n",
      "0.9997, 0.0003: pred=0, y=0\n",
      "0.3199, 0.6801: pred=1, y=1\n",
      "0.4357, 0.5643: pred=1, y=1\n",
      "0.8680, 0.1320: pred=0, y=0\n",
      "0.9959, 0.0041: pred=0, y=0\n",
      "0.8021, 0.1979: pred=0, y=0\n",
      "0.4677, 0.5323: pred=1, y=0\n",
      "0.0166, 0.9834: pred=1, y=1\n",
      "0.7791, 0.2209: pred=0, y=0\n",
      "0.0071, 0.9929: pred=1, y=1\n",
      "0.9954, 0.0046: pred=0, y=0\n",
      "0.9706, 0.0294: pred=0, y=0\n",
      "0.0477, 0.9523: pred=1, y=1\n",
      "0.9958, 0.0042: pred=0, y=0\n"
     ]
    }
   ],
   "source": [
    "for prob, pred, label in zip(test_porbas, test_preds, test_labels):\n",
    "    print(\"{:.4f}, {:.4f}: pred={}, y={}\".format(prob[0], prob[1], pred, label))"
   ],
   "metadata": {
    "collapsed": false,
    "ExecuteTime": {
     "end_time": "2023-12-18T11:09:07.575262431Z",
     "start_time": "2023-12-18T11:09:07.529736894Z"
    }
   },
   "id": "4dea1bc587a21e27"
  },
  {
   "cell_type": "code",
   "execution_count": null,
   "outputs": [],
   "source": [],
   "metadata": {
    "collapsed": false
   },
   "id": "2a027e786551ec3d"
  }
 ],
 "metadata": {
  "kernelspec": {
   "display_name": "Python 3",
   "language": "python",
   "name": "python3"
  },
  "language_info": {
   "codemirror_mode": {
    "name": "ipython",
    "version": 2
   },
   "file_extension": ".py",
   "mimetype": "text/x-python",
   "name": "python",
   "nbconvert_exporter": "python",
   "pygments_lexer": "ipython2",
   "version": "2.7.6"
  }
 },
 "nbformat": 4,
 "nbformat_minor": 5
}
